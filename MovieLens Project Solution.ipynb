{
 "cells": [
  {
   "cell_type": "markdown",
   "metadata": {},
   "source": [
    "### `Project - MovieLens Data Analysis`\n",
    "\n",
    "The GroupLens Research Project is a research group in the Department of Computer Science and Engineering at the University of Minnesota. The data is widely used for collaborative filtering and other filtering solutions. However, we will be using this data to act as a means to demonstrate our skill in using Python to “play” with data.\n",
    "\n",
    "### `Objective:`\n",
    "- To implement the techniques learnt as a part of the course.\n",
    "\n",
    "### `Datasets Information:`\n",
    "\n",
    "*rating.csv:* It contains information on ratings given by the users to a particular movie.\n",
    "- user id: id assigned to every user\n",
    "- movie id: id assigned to every movie\n",
    "- rating: rating given by the user\n",
    "- timestamp: Time recorded when the user gave a rating\n",
    "\n",
    "*movie.csv:* File contains information related to the movies and their genre.\n",
    "- movie id: id assigned to every movie\n",
    "- movie title: Title of the movie\n",
    "- release date: Date of release of the movie\n",
    "- Action: Genre containing binary values (1 - for action 0 - not action)\n",
    "- Adventure: Genre containing binary values (1 - for adventure 0 - not adventure)\n",
    "- Animation: Genre containing binary values (1 - for animation 0 - not animation)\n",
    "- Children’s: Genre containing binary values (1 - for children's 0 - not children's)\n",
    "- Comedy: Genre containing binary values (1 - for comedy 0 - not comedy)\n",
    "- Crime: Genre containing binary values (1 - for crime 0 - not crime)\n",
    "- Documentary: Genre containing binary values (1 - for documentary 0 - not documentary)\n",
    "- Drama: Genre containing binary values (1 - for drama 0 - not drama)\n",
    "- Fantasy: Genre containing binary values (1 - for fantasy 0 - not fantasy)\n",
    "- Film-Noir: Genre containing binary values (1 - for film-noir 0 - not film-noir)\n",
    "- Horror: Genre containing binary values (1 - for horror 0 - not horror)\n",
    "- Musical: Genre containing binary values (1 - for musical 0 - not musical)\n",
    "- Mystery: Genre containing binary values (1 - for mystery 0 - not mystery)\n",
    "- Romance: Genre containing binary values (1 - for romance 0 - not romance)\n",
    "- Sci-Fi: Genre containing binary values (1 - for sci-fi 0 - not sci-fi)\n",
    "- Thriller: Genre containing binary values (1 - for thriller 0 - not thriller)\n",
    "- War: Genre containing binary values (1 - for war 0 - not war)\n",
    "- Western: Genre containing binary values (1 - for western - not western)\n",
    "\n",
    "\n",
    "*user.csv:* It contains information of the users who have rated the movies.\n",
    "- user id: id assigned to every user\n",
    "- age: Age of the user\n",
    "- gender: Gender of the user\n",
    "- occupation: Occupation of the user\n",
    "- zip code: Zip code of the use\n",
    "\n",
    "**`Please provide your insights wherever necessary.`**\n",
    "\n",
    "### `Learning Outcomes:`\n",
    "- Exploratory Data Analysis\n",
    "\n",
    "- Visualization using Python\n",
    "\n",
    "- Pandas – groupby, merging \n",
    "\n",
    "\n",
    "### `Domain` \n",
    "- Internet and Entertainment\n",
    "\n",
    "**Note that the project will need you to apply the concepts of groupby and merging extensively.**"
   ]
  },
  {
   "cell_type": "markdown",
   "metadata": {},
   "source": [
    "### 1. Import the necessary packages - 2.5 marks"
   ]
  },
  {
   "cell_type": "code",
   "execution_count": 187,
   "metadata": {},
   "outputs": [],
   "source": [
    "import pandas as pd\n",
    "import seaborn as sns  \n",
    "import matplotlib.pyplot as plt  # seaborn is based on matplotlib\n",
    "sns.set(color_codes=True) # adds a nice background to the graphs\n",
    "%matplotlib inline "
   ]
  },
  {
   "cell_type": "markdown",
   "metadata": {},
   "source": [
    "### 2. Read the 3 datasets into dataframes - 2.5 marks"
   ]
  },
  {
   "cell_type": "code",
   "execution_count": 188,
   "metadata": {
    "scrolled": true
   },
   "outputs": [],
   "source": [
    "#reading all the csv files for the project into dataframes\n",
    "user_data=pd.read_csv('user.csv')\n",
    "movie_data=pd.read_csv('item.csv')\n",
    "user_ratings=pd.read_csv('data.csv')"
   ]
  },
  {
   "cell_type": "markdown",
   "metadata": {},
   "source": [
    "### 3. Apply info, shape, describe, and find the number of missing values in the data. Present at least 3 observations from these operations - 2.5 marks\n",
    " - Note that you will need to do it for all the three datasets seperately"
   ]
  },
  {
   "cell_type": "code",
   "execution_count": 189,
   "metadata": {},
   "outputs": [
    {
     "name": "stdout",
     "output_type": "stream",
     "text": [
      "<class 'pandas.core.frame.DataFrame'>\n",
      "RangeIndex: 943 entries, 0 to 942\n",
      "Data columns (total 5 columns):\n",
      " #   Column      Non-Null Count  Dtype \n",
      "---  ------      --------------  ----- \n",
      " 0   user id     943 non-null    int64 \n",
      " 1   age         943 non-null    int64 \n",
      " 2   gender      943 non-null    object\n",
      " 3   occupation  943 non-null    object\n",
      " 4   zip code    943 non-null    object\n",
      "dtypes: int64(2), object(3)\n",
      "memory usage: 37.0+ KB\n"
     ]
    }
   ],
   "source": [
    "#information about data such as data type , null allowed etc.\n",
    "user_data.info()\n",
    "\n"
   ]
  },
  {
   "cell_type": "code",
   "execution_count": 190,
   "metadata": {},
   "outputs": [
    {
     "data": {
      "text/plain": [
       "(943, 5)"
      ]
     },
     "execution_count": 190,
     "metadata": {},
     "output_type": "execute_result"
    }
   ],
   "source": [
    "user_data.shape"
   ]
  },
  {
   "cell_type": "code",
   "execution_count": 191,
   "metadata": {},
   "outputs": [
    {
     "data": {
      "text/html": [
       "<div>\n",
       "<style scoped>\n",
       "    .dataframe tbody tr th:only-of-type {\n",
       "        vertical-align: middle;\n",
       "    }\n",
       "\n",
       "    .dataframe tbody tr th {\n",
       "        vertical-align: top;\n",
       "    }\n",
       "\n",
       "    .dataframe thead th {\n",
       "        text-align: right;\n",
       "    }\n",
       "</style>\n",
       "<table border=\"1\" class=\"dataframe\">\n",
       "  <thead>\n",
       "    <tr style=\"text-align: right;\">\n",
       "      <th></th>\n",
       "      <th>user id</th>\n",
       "      <th>age</th>\n",
       "    </tr>\n",
       "  </thead>\n",
       "  <tbody>\n",
       "    <tr>\n",
       "      <th>count</th>\n",
       "      <td>943.00</td>\n",
       "      <td>943.00</td>\n",
       "    </tr>\n",
       "    <tr>\n",
       "      <th>mean</th>\n",
       "      <td>472.00</td>\n",
       "      <td>34.05</td>\n",
       "    </tr>\n",
       "    <tr>\n",
       "      <th>std</th>\n",
       "      <td>272.36</td>\n",
       "      <td>12.19</td>\n",
       "    </tr>\n",
       "    <tr>\n",
       "      <th>min</th>\n",
       "      <td>1.00</td>\n",
       "      <td>7.00</td>\n",
       "    </tr>\n",
       "    <tr>\n",
       "      <th>25%</th>\n",
       "      <td>236.50</td>\n",
       "      <td>25.00</td>\n",
       "    </tr>\n",
       "    <tr>\n",
       "      <th>50%</th>\n",
       "      <td>472.00</td>\n",
       "      <td>31.00</td>\n",
       "    </tr>\n",
       "    <tr>\n",
       "      <th>75%</th>\n",
       "      <td>707.50</td>\n",
       "      <td>43.00</td>\n",
       "    </tr>\n",
       "    <tr>\n",
       "      <th>max</th>\n",
       "      <td>943.00</td>\n",
       "      <td>73.00</td>\n",
       "    </tr>\n",
       "  </tbody>\n",
       "</table>\n",
       "</div>"
      ],
      "text/plain": [
       "       user id    age\n",
       "count   943.00 943.00\n",
       "mean    472.00  34.05\n",
       "std     272.36  12.19\n",
       "min       1.00   7.00\n",
       "25%     236.50  25.00\n",
       "50%     472.00  31.00\n",
       "75%     707.50  43.00\n",
       "max     943.00  73.00"
      ]
     },
     "execution_count": 191,
     "metadata": {},
     "output_type": "execute_result"
    }
   ],
   "source": [
    "user_data.describe()"
   ]
  },
  {
   "cell_type": "code",
   "execution_count": 192,
   "metadata": {},
   "outputs": [
    {
     "data": {
      "text/plain": [
       "user id       0\n",
       "age           0\n",
       "gender        0\n",
       "occupation    0\n",
       "zip code      0\n",
       "dtype: int64"
      ]
     },
     "execution_count": 192,
     "metadata": {},
     "output_type": "execute_result"
    }
   ],
   "source": [
    "user_data.isnull().sum()"
   ]
  },
  {
   "cell_type": "code",
   "execution_count": 193,
   "metadata": {},
   "outputs": [
    {
     "name": "stdout",
     "output_type": "stream",
     "text": [
      "<class 'pandas.core.frame.DataFrame'>\n",
      "RangeIndex: 1681 entries, 0 to 1680\n",
      "Data columns (total 22 columns):\n",
      " #   Column        Non-Null Count  Dtype \n",
      "---  ------        --------------  ----- \n",
      " 0   movie id      1681 non-null   int64 \n",
      " 1   movie title   1681 non-null   object\n",
      " 2   release date  1681 non-null   object\n",
      " 3   unknown       1681 non-null   int64 \n",
      " 4   Action        1681 non-null   int64 \n",
      " 5   Adventure     1681 non-null   int64 \n",
      " 6   Animation     1681 non-null   int64 \n",
      " 7   Childrens     1681 non-null   int64 \n",
      " 8   Comedy        1681 non-null   int64 \n",
      " 9   Crime         1681 non-null   int64 \n",
      " 10  Documentary   1681 non-null   int64 \n",
      " 11  Drama         1681 non-null   int64 \n",
      " 12  Fantasy       1681 non-null   int64 \n",
      " 13  Film-Noir     1681 non-null   int64 \n",
      " 14  Horror        1681 non-null   int64 \n",
      " 15  Musical       1681 non-null   int64 \n",
      " 16  Mystery       1681 non-null   int64 \n",
      " 17  Romance       1681 non-null   int64 \n",
      " 18  Sci-Fi        1681 non-null   int64 \n",
      " 19  Thriller      1681 non-null   int64 \n",
      " 20  War           1681 non-null   int64 \n",
      " 21  Western       1681 non-null   int64 \n",
      "dtypes: int64(20), object(2)\n",
      "memory usage: 289.0+ KB\n"
     ]
    }
   ],
   "source": [
    "movie_data.info()"
   ]
  },
  {
   "cell_type": "code",
   "execution_count": 194,
   "metadata": {},
   "outputs": [
    {
     "data": {
      "text/plain": [
       "(1681, 22)"
      ]
     },
     "execution_count": 194,
     "metadata": {},
     "output_type": "execute_result"
    }
   ],
   "source": [
    "movie_data.shape"
   ]
  },
  {
   "cell_type": "code",
   "execution_count": 195,
   "metadata": {},
   "outputs": [
    {
     "data": {
      "text/html": [
       "<div>\n",
       "<style scoped>\n",
       "    .dataframe tbody tr th:only-of-type {\n",
       "        vertical-align: middle;\n",
       "    }\n",
       "\n",
       "    .dataframe tbody tr th {\n",
       "        vertical-align: top;\n",
       "    }\n",
       "\n",
       "    .dataframe thead th {\n",
       "        text-align: right;\n",
       "    }\n",
       "</style>\n",
       "<table border=\"1\" class=\"dataframe\">\n",
       "  <thead>\n",
       "    <tr style=\"text-align: right;\">\n",
       "      <th></th>\n",
       "      <th>movie id</th>\n",
       "      <th>unknown</th>\n",
       "      <th>Action</th>\n",
       "      <th>Adventure</th>\n",
       "      <th>Animation</th>\n",
       "      <th>Childrens</th>\n",
       "      <th>Comedy</th>\n",
       "      <th>Crime</th>\n",
       "      <th>Documentary</th>\n",
       "      <th>Drama</th>\n",
       "      <th>Fantasy</th>\n",
       "      <th>Film-Noir</th>\n",
       "      <th>Horror</th>\n",
       "      <th>Musical</th>\n",
       "      <th>Mystery</th>\n",
       "      <th>Romance</th>\n",
       "      <th>Sci-Fi</th>\n",
       "      <th>Thriller</th>\n",
       "      <th>War</th>\n",
       "      <th>Western</th>\n",
       "    </tr>\n",
       "  </thead>\n",
       "  <tbody>\n",
       "    <tr>\n",
       "      <th>count</th>\n",
       "      <td>1,681.00</td>\n",
       "      <td>1,681.00</td>\n",
       "      <td>1,681.00</td>\n",
       "      <td>1,681.00</td>\n",
       "      <td>1,681.00</td>\n",
       "      <td>1,681.00</td>\n",
       "      <td>1,681.00</td>\n",
       "      <td>1,681.00</td>\n",
       "      <td>1,681.00</td>\n",
       "      <td>1,681.00</td>\n",
       "      <td>1,681.00</td>\n",
       "      <td>1,681.00</td>\n",
       "      <td>1,681.00</td>\n",
       "      <td>1,681.00</td>\n",
       "      <td>1,681.00</td>\n",
       "      <td>1,681.00</td>\n",
       "      <td>1,681.00</td>\n",
       "      <td>1,681.00</td>\n",
       "      <td>1,681.00</td>\n",
       "      <td>1,681.00</td>\n",
       "    </tr>\n",
       "    <tr>\n",
       "      <th>mean</th>\n",
       "      <td>841.84</td>\n",
       "      <td>0.00</td>\n",
       "      <td>0.15</td>\n",
       "      <td>0.08</td>\n",
       "      <td>0.02</td>\n",
       "      <td>0.07</td>\n",
       "      <td>0.30</td>\n",
       "      <td>0.06</td>\n",
       "      <td>0.03</td>\n",
       "      <td>0.43</td>\n",
       "      <td>0.01</td>\n",
       "      <td>0.01</td>\n",
       "      <td>0.05</td>\n",
       "      <td>0.03</td>\n",
       "      <td>0.04</td>\n",
       "      <td>0.15</td>\n",
       "      <td>0.06</td>\n",
       "      <td>0.15</td>\n",
       "      <td>0.04</td>\n",
       "      <td>0.02</td>\n",
       "    </tr>\n",
       "    <tr>\n",
       "      <th>std</th>\n",
       "      <td>485.64</td>\n",
       "      <td>0.02</td>\n",
       "      <td>0.36</td>\n",
       "      <td>0.27</td>\n",
       "      <td>0.16</td>\n",
       "      <td>0.26</td>\n",
       "      <td>0.46</td>\n",
       "      <td>0.25</td>\n",
       "      <td>0.17</td>\n",
       "      <td>0.50</td>\n",
       "      <td>0.11</td>\n",
       "      <td>0.12</td>\n",
       "      <td>0.23</td>\n",
       "      <td>0.18</td>\n",
       "      <td>0.19</td>\n",
       "      <td>0.35</td>\n",
       "      <td>0.24</td>\n",
       "      <td>0.36</td>\n",
       "      <td>0.20</td>\n",
       "      <td>0.13</td>\n",
       "    </tr>\n",
       "    <tr>\n",
       "      <th>min</th>\n",
       "      <td>1.00</td>\n",
       "      <td>0.00</td>\n",
       "      <td>0.00</td>\n",
       "      <td>0.00</td>\n",
       "      <td>0.00</td>\n",
       "      <td>0.00</td>\n",
       "      <td>0.00</td>\n",
       "      <td>0.00</td>\n",
       "      <td>0.00</td>\n",
       "      <td>0.00</td>\n",
       "      <td>0.00</td>\n",
       "      <td>0.00</td>\n",
       "      <td>0.00</td>\n",
       "      <td>0.00</td>\n",
       "      <td>0.00</td>\n",
       "      <td>0.00</td>\n",
       "      <td>0.00</td>\n",
       "      <td>0.00</td>\n",
       "      <td>0.00</td>\n",
       "      <td>0.00</td>\n",
       "    </tr>\n",
       "    <tr>\n",
       "      <th>25%</th>\n",
       "      <td>422.00</td>\n",
       "      <td>0.00</td>\n",
       "      <td>0.00</td>\n",
       "      <td>0.00</td>\n",
       "      <td>0.00</td>\n",
       "      <td>0.00</td>\n",
       "      <td>0.00</td>\n",
       "      <td>0.00</td>\n",
       "      <td>0.00</td>\n",
       "      <td>0.00</td>\n",
       "      <td>0.00</td>\n",
       "      <td>0.00</td>\n",
       "      <td>0.00</td>\n",
       "      <td>0.00</td>\n",
       "      <td>0.00</td>\n",
       "      <td>0.00</td>\n",
       "      <td>0.00</td>\n",
       "      <td>0.00</td>\n",
       "      <td>0.00</td>\n",
       "      <td>0.00</td>\n",
       "    </tr>\n",
       "    <tr>\n",
       "      <th>50%</th>\n",
       "      <td>842.00</td>\n",
       "      <td>0.00</td>\n",
       "      <td>0.00</td>\n",
       "      <td>0.00</td>\n",
       "      <td>0.00</td>\n",
       "      <td>0.00</td>\n",
       "      <td>0.00</td>\n",
       "      <td>0.00</td>\n",
       "      <td>0.00</td>\n",
       "      <td>0.00</td>\n",
       "      <td>0.00</td>\n",
       "      <td>0.00</td>\n",
       "      <td>0.00</td>\n",
       "      <td>0.00</td>\n",
       "      <td>0.00</td>\n",
       "      <td>0.00</td>\n",
       "      <td>0.00</td>\n",
       "      <td>0.00</td>\n",
       "      <td>0.00</td>\n",
       "      <td>0.00</td>\n",
       "    </tr>\n",
       "    <tr>\n",
       "      <th>75%</th>\n",
       "      <td>1,262.00</td>\n",
       "      <td>0.00</td>\n",
       "      <td>0.00</td>\n",
       "      <td>0.00</td>\n",
       "      <td>0.00</td>\n",
       "      <td>0.00</td>\n",
       "      <td>1.00</td>\n",
       "      <td>0.00</td>\n",
       "      <td>0.00</td>\n",
       "      <td>1.00</td>\n",
       "      <td>0.00</td>\n",
       "      <td>0.00</td>\n",
       "      <td>0.00</td>\n",
       "      <td>0.00</td>\n",
       "      <td>0.00</td>\n",
       "      <td>0.00</td>\n",
       "      <td>0.00</td>\n",
       "      <td>0.00</td>\n",
       "      <td>0.00</td>\n",
       "      <td>0.00</td>\n",
       "    </tr>\n",
       "    <tr>\n",
       "      <th>max</th>\n",
       "      <td>1,682.00</td>\n",
       "      <td>1.00</td>\n",
       "      <td>1.00</td>\n",
       "      <td>1.00</td>\n",
       "      <td>1.00</td>\n",
       "      <td>1.00</td>\n",
       "      <td>1.00</td>\n",
       "      <td>1.00</td>\n",
       "      <td>1.00</td>\n",
       "      <td>1.00</td>\n",
       "      <td>1.00</td>\n",
       "      <td>1.00</td>\n",
       "      <td>1.00</td>\n",
       "      <td>1.00</td>\n",
       "      <td>1.00</td>\n",
       "      <td>1.00</td>\n",
       "      <td>1.00</td>\n",
       "      <td>1.00</td>\n",
       "      <td>1.00</td>\n",
       "      <td>1.00</td>\n",
       "    </tr>\n",
       "  </tbody>\n",
       "</table>\n",
       "</div>"
      ],
      "text/plain": [
       "       movie id  unknown   Action  Adventure  Animation  Childrens   Comedy  \\\n",
       "count  1,681.00 1,681.00 1,681.00   1,681.00   1,681.00   1,681.00 1,681.00   \n",
       "mean     841.84     0.00     0.15       0.08       0.02       0.07     0.30   \n",
       "std      485.64     0.02     0.36       0.27       0.16       0.26     0.46   \n",
       "min        1.00     0.00     0.00       0.00       0.00       0.00     0.00   \n",
       "25%      422.00     0.00     0.00       0.00       0.00       0.00     0.00   \n",
       "50%      842.00     0.00     0.00       0.00       0.00       0.00     0.00   \n",
       "75%    1,262.00     0.00     0.00       0.00       0.00       0.00     1.00   \n",
       "max    1,682.00     1.00     1.00       1.00       1.00       1.00     1.00   \n",
       "\n",
       "         Crime  Documentary    Drama  Fantasy  Film-Noir   Horror  Musical  \\\n",
       "count 1,681.00     1,681.00 1,681.00 1,681.00   1,681.00 1,681.00 1,681.00   \n",
       "mean      0.06         0.03     0.43     0.01       0.01     0.05     0.03   \n",
       "std       0.25         0.17     0.50     0.11       0.12     0.23     0.18   \n",
       "min       0.00         0.00     0.00     0.00       0.00     0.00     0.00   \n",
       "25%       0.00         0.00     0.00     0.00       0.00     0.00     0.00   \n",
       "50%       0.00         0.00     0.00     0.00       0.00     0.00     0.00   \n",
       "75%       0.00         0.00     1.00     0.00       0.00     0.00     0.00   \n",
       "max       1.00         1.00     1.00     1.00       1.00     1.00     1.00   \n",
       "\n",
       "       Mystery  Romance   Sci-Fi  Thriller      War  Western  \n",
       "count 1,681.00 1,681.00 1,681.00  1,681.00 1,681.00 1,681.00  \n",
       "mean      0.04     0.15     0.06      0.15     0.04     0.02  \n",
       "std       0.19     0.35     0.24      0.36     0.20     0.13  \n",
       "min       0.00     0.00     0.00      0.00     0.00     0.00  \n",
       "25%       0.00     0.00     0.00      0.00     0.00     0.00  \n",
       "50%       0.00     0.00     0.00      0.00     0.00     0.00  \n",
       "75%       0.00     0.00     0.00      0.00     0.00     0.00  \n",
       "max       1.00     1.00     1.00      1.00     1.00     1.00  "
      ]
     },
     "execution_count": 195,
     "metadata": {},
     "output_type": "execute_result"
    }
   ],
   "source": [
    "movie_data.describe()"
   ]
  },
  {
   "cell_type": "code",
   "execution_count": 196,
   "metadata": {},
   "outputs": [
    {
     "data": {
      "text/plain": [
       "movie id        0\n",
       "movie title     0\n",
       "release date    0\n",
       "unknown         0\n",
       "Action          0\n",
       "Adventure       0\n",
       "Animation       0\n",
       "Childrens       0\n",
       "Comedy          0\n",
       "Crime           0\n",
       "Documentary     0\n",
       "Drama           0\n",
       "Fantasy         0\n",
       "Film-Noir       0\n",
       "Horror          0\n",
       "Musical         0\n",
       "Mystery         0\n",
       "Romance         0\n",
       "Sci-Fi          0\n",
       "Thriller        0\n",
       "War             0\n",
       "Western         0\n",
       "dtype: int64"
      ]
     },
     "execution_count": 196,
     "metadata": {},
     "output_type": "execute_result"
    }
   ],
   "source": [
    "movie_data.isnull().sum()"
   ]
  },
  {
   "cell_type": "code",
   "execution_count": 197,
   "metadata": {},
   "outputs": [
    {
     "name": "stdout",
     "output_type": "stream",
     "text": [
      "<class 'pandas.core.frame.DataFrame'>\n",
      "RangeIndex: 100000 entries, 0 to 99999\n",
      "Data columns (total 4 columns):\n",
      " #   Column     Non-Null Count   Dtype\n",
      "---  ------     --------------   -----\n",
      " 0   user id    100000 non-null  int64\n",
      " 1   movie id   100000 non-null  int64\n",
      " 2   rating     100000 non-null  int64\n",
      " 3   timestamp  100000 non-null  int64\n",
      "dtypes: int64(4)\n",
      "memory usage: 3.1 MB\n"
     ]
    }
   ],
   "source": [
    "user_ratings.info()"
   ]
  },
  {
   "cell_type": "code",
   "execution_count": 198,
   "metadata": {},
   "outputs": [
    {
     "data": {
      "text/plain": [
       "(100000, 4)"
      ]
     },
     "execution_count": 198,
     "metadata": {},
     "output_type": "execute_result"
    }
   ],
   "source": [
    "user_ratings.shape"
   ]
  },
  {
   "cell_type": "code",
   "execution_count": 199,
   "metadata": {},
   "outputs": [
    {
     "data": {
      "text/html": [
       "<div>\n",
       "<style scoped>\n",
       "    .dataframe tbody tr th:only-of-type {\n",
       "        vertical-align: middle;\n",
       "    }\n",
       "\n",
       "    .dataframe tbody tr th {\n",
       "        vertical-align: top;\n",
       "    }\n",
       "\n",
       "    .dataframe thead th {\n",
       "        text-align: right;\n",
       "    }\n",
       "</style>\n",
       "<table border=\"1\" class=\"dataframe\">\n",
       "  <thead>\n",
       "    <tr style=\"text-align: right;\">\n",
       "      <th></th>\n",
       "      <th>user id</th>\n",
       "      <th>movie id</th>\n",
       "      <th>rating</th>\n",
       "      <th>timestamp</th>\n",
       "    </tr>\n",
       "  </thead>\n",
       "  <tbody>\n",
       "    <tr>\n",
       "      <th>count</th>\n",
       "      <td>100,000.00</td>\n",
       "      <td>100,000.00</td>\n",
       "      <td>100,000.00</td>\n",
       "      <td>100,000.00</td>\n",
       "    </tr>\n",
       "    <tr>\n",
       "      <th>mean</th>\n",
       "      <td>462.48</td>\n",
       "      <td>425.53</td>\n",
       "      <td>3.53</td>\n",
       "      <td>883,528,851.49</td>\n",
       "    </tr>\n",
       "    <tr>\n",
       "      <th>std</th>\n",
       "      <td>266.61</td>\n",
       "      <td>330.80</td>\n",
       "      <td>1.13</td>\n",
       "      <td>5,343,856.19</td>\n",
       "    </tr>\n",
       "    <tr>\n",
       "      <th>min</th>\n",
       "      <td>1.00</td>\n",
       "      <td>1.00</td>\n",
       "      <td>1.00</td>\n",
       "      <td>874,724,710.00</td>\n",
       "    </tr>\n",
       "    <tr>\n",
       "      <th>25%</th>\n",
       "      <td>254.00</td>\n",
       "      <td>175.00</td>\n",
       "      <td>3.00</td>\n",
       "      <td>879,448,709.50</td>\n",
       "    </tr>\n",
       "    <tr>\n",
       "      <th>50%</th>\n",
       "      <td>447.00</td>\n",
       "      <td>322.00</td>\n",
       "      <td>4.00</td>\n",
       "      <td>882,826,944.00</td>\n",
       "    </tr>\n",
       "    <tr>\n",
       "      <th>75%</th>\n",
       "      <td>682.00</td>\n",
       "      <td>631.00</td>\n",
       "      <td>4.00</td>\n",
       "      <td>888,259,984.00</td>\n",
       "    </tr>\n",
       "    <tr>\n",
       "      <th>max</th>\n",
       "      <td>943.00</td>\n",
       "      <td>1,682.00</td>\n",
       "      <td>5.00</td>\n",
       "      <td>893,286,638.00</td>\n",
       "    </tr>\n",
       "  </tbody>\n",
       "</table>\n",
       "</div>"
      ],
      "text/plain": [
       "         user id   movie id     rating      timestamp\n",
       "count 100,000.00 100,000.00 100,000.00     100,000.00\n",
       "mean      462.48     425.53       3.53 883,528,851.49\n",
       "std       266.61     330.80       1.13   5,343,856.19\n",
       "min         1.00       1.00       1.00 874,724,710.00\n",
       "25%       254.00     175.00       3.00 879,448,709.50\n",
       "50%       447.00     322.00       4.00 882,826,944.00\n",
       "75%       682.00     631.00       4.00 888,259,984.00\n",
       "max       943.00   1,682.00       5.00 893,286,638.00"
      ]
     },
     "execution_count": 199,
     "metadata": {},
     "output_type": "execute_result"
    }
   ],
   "source": [
    "user_ratings.describe()"
   ]
  },
  {
   "cell_type": "code",
   "execution_count": 200,
   "metadata": {},
   "outputs": [
    {
     "data": {
      "text/plain": [
       "user id      0\n",
       "movie id     0\n",
       "rating       0\n",
       "timestamp    0\n",
       "dtype: int64"
      ]
     },
     "execution_count": 200,
     "metadata": {},
     "output_type": "execute_result"
    }
   ],
   "source": [
    "user_ratings.isnull().sum()"
   ]
  },
  {
   "cell_type": "markdown",
   "metadata": {},
   "source": [
    "**Observations:**\n",
    "\n"
   ]
  },
  {
   "cell_type": "markdown",
   "metadata": {},
   "source": [
    "### 4. Find the number of movies per genre using the item data - 2.5 marks"
   ]
  },
  {
   "cell_type": "code",
   "execution_count": 201,
   "metadata": {},
   "outputs": [
    {
     "name": "stdout",
     "output_type": "stream",
     "text": [
      "Genre                No. Of Movies\n",
      "...................................\n",
      "unknown               1\n",
      "Action                251\n",
      "Adventure             135\n",
      "Animation             42\n",
      "Childrens             122\n",
      "Comedy                505\n",
      "Crime                 109\n",
      "Documentary           50\n",
      "Drama                 725\n",
      "Fantasy               22\n",
      "Film-Noir             24\n",
      "Horror                92\n",
      "Musical               56\n",
      "Mystery               61\n",
      "Romance               247\n",
      "Sci-Fi                101\n",
      "Thriller              251\n",
      "War                   71\n",
      "Western               27\n"
     ]
    }
   ],
   "source": [
    "genre=pd.Series(movie_data.columns)\n",
    "print(\"Genre\".ljust(20,\" \") + \" No. Of Movies\")\n",
    "print(\".\".ljust(35,\".\"))\n",
    "for i in range(3,22):\n",
    "    value=genre[i]\n",
    "    mv=movie_data[movie_data[value]==1]\n",
    "    num=mv[value].count()\n",
    "    print(value.ljust(20, \" \") +\" \", num)  "
   ]
  },
  {
   "cell_type": "markdown",
   "metadata": {},
   "source": [
    "**Insights:**\n",
    "\n"
   ]
  },
  {
   "cell_type": "markdown",
   "metadata": {},
   "source": [
    "### 5. Drop the movie where the genre is unknown - 2.5 marks"
   ]
  },
  {
   "cell_type": "code",
   "execution_count": 202,
   "metadata": {},
   "outputs": [
    {
     "data": {
      "text/plain": [
       "(1680, 22)"
      ]
     },
     "execution_count": 202,
     "metadata": {},
     "output_type": "execute_result"
    }
   ],
   "source": [
    "movie_data = movie_data[movie_data['unknown']!=1]\n",
    "movie_data.shape"
   ]
  },
  {
   "cell_type": "markdown",
   "metadata": {},
   "source": [
    "**Insights:**\n"
   ]
  },
  {
   "cell_type": "markdown",
   "metadata": {},
   "source": [
    "### 6. Find the movies that have more than one genre - 5 marks\n",
    "\n",
    "hint: use sum on the axis = 1\n",
    "\n",
    "Display movie name, number of genres for the movie in dataframe\n",
    "\n",
    "and also print(total number of movies which have more than one genres)"
   ]
  },
  {
   "cell_type": "code",
   "execution_count": 203,
   "metadata": {},
   "outputs": [],
   "source": [
    "#Preparatory steps for answers to Question #6 \n",
    "df = movie_data.drop(['movie id', 'movie title', 'release date'], axis=1)\n",
    "df_sum=pd.DataFrame(df.sum(axis=1))\n",
    "df_sum.columns=['genres']"
   ]
  },
  {
   "cell_type": "code",
   "execution_count": 204,
   "metadata": {},
   "outputs": [
    {
     "data": {
      "text/html": [
       "<div>\n",
       "<style scoped>\n",
       "    .dataframe tbody tr th:only-of-type {\n",
       "        vertical-align: middle;\n",
       "    }\n",
       "\n",
       "    .dataframe tbody tr th {\n",
       "        vertical-align: top;\n",
       "    }\n",
       "\n",
       "    .dataframe thead th {\n",
       "        text-align: right;\n",
       "    }\n",
       "</style>\n",
       "<table border=\"1\" class=\"dataframe\">\n",
       "  <thead>\n",
       "    <tr style=\"text-align: right;\">\n",
       "      <th></th>\n",
       "      <th>movie title</th>\n",
       "      <th>genres</th>\n",
       "    </tr>\n",
       "  </thead>\n",
       "  <tbody>\n",
       "    <tr>\n",
       "      <th>0</th>\n",
       "      <td>Toy Story</td>\n",
       "      <td>3</td>\n",
       "    </tr>\n",
       "    <tr>\n",
       "      <th>1</th>\n",
       "      <td>GoldenEye</td>\n",
       "      <td>3</td>\n",
       "    </tr>\n",
       "    <tr>\n",
       "      <th>2</th>\n",
       "      <td>Get Shorty</td>\n",
       "      <td>3</td>\n",
       "    </tr>\n",
       "    <tr>\n",
       "      <th>3</th>\n",
       "      <td>Copycat</td>\n",
       "      <td>3</td>\n",
       "    </tr>\n",
       "    <tr>\n",
       "      <th>4</th>\n",
       "      <td>Twelve Monkeys</td>\n",
       "      <td>2</td>\n",
       "    </tr>\n",
       "    <tr>\n",
       "      <th>...</th>\n",
       "      <td>...</td>\n",
       "      <td>...</td>\n",
       "    </tr>\n",
       "    <tr>\n",
       "      <th>844</th>\n",
       "      <td>MURDER and murder</td>\n",
       "      <td>3</td>\n",
       "    </tr>\n",
       "    <tr>\n",
       "      <th>845</th>\n",
       "      <td>Tainted</td>\n",
       "      <td>2</td>\n",
       "    </tr>\n",
       "    <tr>\n",
       "      <th>846</th>\n",
       "      <td>Mirage</td>\n",
       "      <td>2</td>\n",
       "    </tr>\n",
       "    <tr>\n",
       "      <th>847</th>\n",
       "      <td>B. Monkey</td>\n",
       "      <td>2</td>\n",
       "    </tr>\n",
       "    <tr>\n",
       "      <th>848</th>\n",
       "      <td>Sliding Doors</td>\n",
       "      <td>2</td>\n",
       "    </tr>\n",
       "  </tbody>\n",
       "</table>\n",
       "<p>849 rows × 2 columns</p>\n",
       "</div>"
      ],
      "text/plain": [
       "            movie title  genres\n",
       "0            Toy Story        3\n",
       "1            GoldenEye        3\n",
       "2           Get Shorty        3\n",
       "3              Copycat        3\n",
       "4       Twelve Monkeys        2\n",
       "..                  ...     ...\n",
       "844  MURDER and murder        3\n",
       "845            Tainted        2\n",
       "846             Mirage        2\n",
       "847          B. Monkey        2\n",
       "848      Sliding Doors        2\n",
       "\n",
       "[849 rows x 2 columns]"
      ]
     },
     "execution_count": 204,
     "metadata": {},
     "output_type": "execute_result"
    }
   ],
   "source": [
    "#As answer to part 1 of Question #6, this is one way of doing it.\n",
    "df_01 = pd.concat([movie_data['movie title'], df_sum], axis=1)\n",
    "df_final = df_01[df_01['genres']>1]\n",
    "df_final=df_final.reset_index().drop('index',axis=1)\n",
    "df_final"
   ]
  },
  {
   "cell_type": "code",
   "execution_count": 205,
   "metadata": {},
   "outputs": [
    {
     "data": {
      "text/html": [
       "<div>\n",
       "<style scoped>\n",
       "    .dataframe tbody tr th:only-of-type {\n",
       "        vertical-align: middle;\n",
       "    }\n",
       "\n",
       "    .dataframe tbody tr th {\n",
       "        vertical-align: top;\n",
       "    }\n",
       "\n",
       "    .dataframe thead th {\n",
       "        text-align: right;\n",
       "    }\n",
       "</style>\n",
       "<table border=\"1\" class=\"dataframe\">\n",
       "  <thead>\n",
       "    <tr style=\"text-align: right;\">\n",
       "      <th></th>\n",
       "      <th>movie title</th>\n",
       "      <th>genres</th>\n",
       "    </tr>\n",
       "  </thead>\n",
       "  <tbody>\n",
       "    <tr>\n",
       "      <th>0</th>\n",
       "      <td>Toy Story</td>\n",
       "      <td>3</td>\n",
       "    </tr>\n",
       "    <tr>\n",
       "      <th>1</th>\n",
       "      <td>GoldenEye</td>\n",
       "      <td>3</td>\n",
       "    </tr>\n",
       "    <tr>\n",
       "      <th>2</th>\n",
       "      <td>Get Shorty</td>\n",
       "      <td>3</td>\n",
       "    </tr>\n",
       "    <tr>\n",
       "      <th>3</th>\n",
       "      <td>Copycat</td>\n",
       "      <td>3</td>\n",
       "    </tr>\n",
       "    <tr>\n",
       "      <th>4</th>\n",
       "      <td>Twelve Monkeys</td>\n",
       "      <td>2</td>\n",
       "    </tr>\n",
       "    <tr>\n",
       "      <th>...</th>\n",
       "      <td>...</td>\n",
       "      <td>...</td>\n",
       "    </tr>\n",
       "    <tr>\n",
       "      <th>844</th>\n",
       "      <td>MURDER and murder</td>\n",
       "      <td>3</td>\n",
       "    </tr>\n",
       "    <tr>\n",
       "      <th>845</th>\n",
       "      <td>Tainted</td>\n",
       "      <td>2</td>\n",
       "    </tr>\n",
       "    <tr>\n",
       "      <th>846</th>\n",
       "      <td>Mirage</td>\n",
       "      <td>2</td>\n",
       "    </tr>\n",
       "    <tr>\n",
       "      <th>847</th>\n",
       "      <td>B. Monkey</td>\n",
       "      <td>2</td>\n",
       "    </tr>\n",
       "    <tr>\n",
       "      <th>848</th>\n",
       "      <td>Sliding Doors</td>\n",
       "      <td>2</td>\n",
       "    </tr>\n",
       "  </tbody>\n",
       "</table>\n",
       "<p>849 rows × 2 columns</p>\n",
       "</div>"
      ],
      "text/plain": [
       "            movie title  genres\n",
       "0            Toy Story        3\n",
       "1            GoldenEye        3\n",
       "2           Get Shorty        3\n",
       "3              Copycat        3\n",
       "4       Twelve Monkeys        2\n",
       "..                  ...     ...\n",
       "844  MURDER and murder        3\n",
       "845            Tainted        2\n",
       "846             Mirage        2\n",
       "847          B. Monkey        2\n",
       "848      Sliding Doors        2\n",
       "\n",
       "[849 rows x 2 columns]"
      ]
     },
     "execution_count": 205,
     "metadata": {},
     "output_type": "execute_result"
    }
   ],
   "source": [
    "#As answer to part 1 of Question #6, this is a second way of doing it.\n",
    "df_02 = pd.DataFrame(movie_data['movie title'])\n",
    "df_03 = df_sum[df_sum['genres']>1]\n",
    "df_02 = df_02.join(df_03, how='inner').reset_index()\n",
    "df_02 = df_02.drop('index',axis=1)\n",
    "df_02"
   ]
  },
  {
   "cell_type": "code",
   "execution_count": 208,
   "metadata": {},
   "outputs": [
    {
     "data": {
      "text/plain": [
       "pandas.core.series.Series"
      ]
     },
     "execution_count": 208,
     "metadata": {},
     "output_type": "execute_result"
    }
   ],
   "source": [
    "#Solution to part 2 of Question #6.\n",
    "\n",
    "x=df_sum[df_sum['genres']>1].count()\n",
    "x.rename({'genres' : 'Total number of movies which have more than one genres:'}, inplace=True)\n",
    "print(x.to_string())"
   ]
  },
  {
   "cell_type": "markdown",
   "metadata": {},
   "source": [
    "**Insights:**\n",
    "\n"
   ]
  },
  {
   "cell_type": "markdown",
   "metadata": {},
   "source": [
    "### 7. Univariate plots of columns: 'rating', 'Age', 'release year', 'Gender' and 'Occupation' - 10 marks\n",
    "\n",
    "*HINT: Use distplot for age and countplot for release year, ratings, *\n",
    "\n",
    "*HINT: Please refer to the below snippet to understand how to get to release year from release date. You can use str.split() as depicted below or you could convert it to pandas datetime format and extract year (.dt.year)*"
   ]
  },
  {
   "cell_type": "code",
   "execution_count": 19,
   "metadata": {},
   "outputs": [
    {
     "name": "stdout",
     "output_type": "stream",
     "text": [
      "brown\n",
      "brown\n",
      "brown\n"
     ]
    }
   ],
   "source": [
    "a = 'My*cat*is*brown'\n",
    "print(a.split('*')[3])\n",
    "\n",
    "#similarly, the release year needs to be taken out from release date\n",
    "\n",
    "#also you can simply slice existing string to get the desired data, if we want to take out the colour of the cat\n",
    "\n",
    "print(a[10:])\n",
    "print(a[-5:])"
   ]
  },
  {
   "cell_type": "code",
   "execution_count": 28,
   "metadata": {},
   "outputs": [
    {
     "data": {
      "image/png": "[encoded data removed]",
      "text/plain": [
       "<Figure size 720x576 with 1 Axes>"
      ]
     },
     "metadata": {
      "needs_background": "light"
     },
     "output_type": "display_data"
    }
   ],
   "source": [
    "import warnings\n",
    "warnings.filterwarnings('ignore')\n",
    "\n",
    "plt.figure(figsize=(10,8))\n",
    "sns.distplot(user_data['age']);"
   ]
  },
  {
   "cell_type": "code",
   "execution_count": 32,
   "metadata": {},
   "outputs": [
    {
     "data": {
      "image/png": "[encoded data removed]",
      "text/plain": [
       "<Figure size 432x288 with 1 Axes>"
      ]
     },
     "metadata": {
      "needs_background": "light"
     },
     "output_type": "display_data"
    }
   ],
   "source": [
    "sns.countplot(x='rating', data=user_ratings);"
   ]
  },
  {
   "cell_type": "code",
   "execution_count": 96,
   "metadata": {},
   "outputs": [
    {
     "data": {
      "image/png": "[encoded data removed]",
      "text/plain": [
       "<Figure size 720x576 with 1 Axes>"
      ]
     },
     "metadata": {
      "needs_background": "light"
     },
     "output_type": "display_data"
    }
   ],
   "source": [
    "movie_data['release year'] = pd.to_datetime(movie_data['release date'], errors='coerce').dt.year\n",
    "plt.figure(figsize=(10,8))\n",
    "ax=sns.countplot(x='release year', data=movie_data)\n",
    "ax.set_xticklabels(ax.get_xticklabels(), rotation=90, ha=\"right\", fontsize=10)\n",
    "plt.tight_layout()\n",
    "plt.show()"
   ]
  },
  {
   "cell_type": "code",
   "execution_count": 97,
   "metadata": {},
   "outputs": [
    {
     "data": {
      "image/png": "[encoded data removed]",
      "text/plain": [
       "<Figure size 432x288 with 1 Axes>"
      ]
     },
     "metadata": {
      "needs_background": "light"
     },
     "output_type": "display_data"
    }
   ],
   "source": [
    "sns.countplot(x='gender', data=user_data);"
   ]
  },
  {
   "cell_type": "code",
   "execution_count": 101,
   "metadata": {},
   "outputs": [
    {
     "data": {
      "image/png": "[encoded data removed]",
      "text/plain": [
       "<Figure size 720x576 with 1 Axes>"
      ]
     },
     "metadata": {
      "needs_background": "light"
     },
     "output_type": "display_data"
    }
   ],
   "source": [
    "plt.figure(figsize=(10,8))\n",
    "ax=sns.countplot(x='occupation', data=user_data)\n",
    "ax.set_xticklabels(ax.get_xticklabels(), rotation=90, ha=\"right\")\n",
    "plt.tight_layout()\n",
    "plt.show()"
   ]
  },
  {
   "cell_type": "markdown",
   "metadata": {},
   "source": [
    "### 8. Visualize how popularity of genres has changed over the years - 10 marks\n",
    "\n",
    "Note that you need to use the **percent of number of releases in a year** as a parameter of popularity of a genre\n",
    "\n",
    "Hint 1: You need to reach to a data frame where the release year is the index and the genre is the column names (one cell shows the number of release in a year in one genre) or vice versa. (Drop unnecessary column if there are any)\n",
    "\n",
    "Hint 2: Find the total number of movies release in a year(use item dataset to get count of movies released in a particular year, store that value in a new column as 'total'). Now divide the value of each genre in that year by total to get percentage number of release in a particular year.\n",
    "`(df.div(df['total'], axis= 0) * 100)`\n",
    "\n",
    "Once that is achieved, you can either use univariate plots or can use the heatmap to visualise all the changes over the years \n",
    "in one go. \n",
    "\n",
    "Hint 3: Use groupby on the relevant column and use sum() on the same to find out the number of releases in a year/genre."
   ]
  },
  {
   "cell_type": "code",
   "execution_count": 159,
   "metadata": {},
   "outputs": [
    {
     "data": {
      "text/html": [
       "<div>\n",
       "<style scoped>\n",
       "    .dataframe tbody tr th:only-of-type {\n",
       "        vertical-align: middle;\n",
       "    }\n",
       "\n",
       "    .dataframe tbody tr th {\n",
       "        vertical-align: top;\n",
       "    }\n",
       "\n",
       "    .dataframe thead th {\n",
       "        text-align: right;\n",
       "    }\n",
       "</style>\n",
       "<table border=\"1\" class=\"dataframe\">\n",
       "  <thead>\n",
       "    <tr style=\"text-align: right;\">\n",
       "      <th></th>\n",
       "      <th>Action</th>\n",
       "      <th>Adventure</th>\n",
       "      <th>Animation</th>\n",
       "      <th>Childrens</th>\n",
       "      <th>Comedy</th>\n",
       "      <th>Crime</th>\n",
       "      <th>Documentary</th>\n",
       "      <th>Drama</th>\n",
       "      <th>Fantasy</th>\n",
       "      <th>Film-Noir</th>\n",
       "      <th>Horror</th>\n",
       "      <th>Musical</th>\n",
       "      <th>Mystery</th>\n",
       "      <th>Romance</th>\n",
       "      <th>Sci-Fi</th>\n",
       "      <th>Thriller</th>\n",
       "      <th>War</th>\n",
       "      <th>Western</th>\n",
       "    </tr>\n",
       "    <tr>\n",
       "      <th>release year</th>\n",
       "      <th></th>\n",
       "      <th></th>\n",
       "      <th></th>\n",
       "      <th></th>\n",
       "      <th></th>\n",
       "      <th></th>\n",
       "      <th></th>\n",
       "      <th></th>\n",
       "      <th></th>\n",
       "      <th></th>\n",
       "      <th></th>\n",
       "      <th></th>\n",
       "      <th></th>\n",
       "      <th></th>\n",
       "      <th></th>\n",
       "      <th></th>\n",
       "      <th></th>\n",
       "      <th></th>\n",
       "    </tr>\n",
       "  </thead>\n",
       "  <tbody>\n",
       "    <tr>\n",
       "      <th>1922</th>\n",
       "      <td>0.000000</td>\n",
       "      <td>0.000000</td>\n",
       "      <td>0.000000</td>\n",
       "      <td>0.000000</td>\n",
       "      <td>0.000000</td>\n",
       "      <td>0.000000</td>\n",
       "      <td>0.000000</td>\n",
       "      <td>0.000000</td>\n",
       "      <td>0.000000</td>\n",
       "      <td>0.000000</td>\n",
       "      <td>100.000000</td>\n",
       "      <td>0.000000</td>\n",
       "      <td>0.000000</td>\n",
       "      <td>0.000000</td>\n",
       "      <td>0.000000</td>\n",
       "      <td>0.000000</td>\n",
       "      <td>0.000000</td>\n",
       "      <td>0.000000</td>\n",
       "    </tr>\n",
       "    <tr>\n",
       "      <th>1926</th>\n",
       "      <td>0.000000</td>\n",
       "      <td>0.000000</td>\n",
       "      <td>0.000000</td>\n",
       "      <td>0.000000</td>\n",
       "      <td>0.000000</td>\n",
       "      <td>0.000000</td>\n",
       "      <td>0.000000</td>\n",
       "      <td>100.000000</td>\n",
       "      <td>0.000000</td>\n",
       "      <td>0.000000</td>\n",
       "      <td>0.000000</td>\n",
       "      <td>0.000000</td>\n",
       "      <td>0.000000</td>\n",
       "      <td>0.000000</td>\n",
       "      <td>0.000000</td>\n",
       "      <td>0.000000</td>\n",
       "      <td>0.000000</td>\n",
       "      <td>0.000000</td>\n",
       "    </tr>\n",
       "    <tr>\n",
       "      <th>1930</th>\n",
       "      <td>0.000000</td>\n",
       "      <td>0.000000</td>\n",
       "      <td>0.000000</td>\n",
       "      <td>0.000000</td>\n",
       "      <td>0.000000</td>\n",
       "      <td>0.000000</td>\n",
       "      <td>0.000000</td>\n",
       "      <td>100.000000</td>\n",
       "      <td>0.000000</td>\n",
       "      <td>0.000000</td>\n",
       "      <td>0.000000</td>\n",
       "      <td>0.000000</td>\n",
       "      <td>0.000000</td>\n",
       "      <td>0.000000</td>\n",
       "      <td>0.000000</td>\n",
       "      <td>0.000000</td>\n",
       "      <td>0.000000</td>\n",
       "      <td>0.000000</td>\n",
       "    </tr>\n",
       "    <tr>\n",
       "      <th>1931</th>\n",
       "      <td>0.000000</td>\n",
       "      <td>0.000000</td>\n",
       "      <td>0.000000</td>\n",
       "      <td>0.000000</td>\n",
       "      <td>0.000000</td>\n",
       "      <td>100.000000</td>\n",
       "      <td>0.000000</td>\n",
       "      <td>0.000000</td>\n",
       "      <td>0.000000</td>\n",
       "      <td>100.000000</td>\n",
       "      <td>0.000000</td>\n",
       "      <td>0.000000</td>\n",
       "      <td>0.000000</td>\n",
       "      <td>0.000000</td>\n",
       "      <td>0.000000</td>\n",
       "      <td>100.000000</td>\n",
       "      <td>0.000000</td>\n",
       "      <td>0.000000</td>\n",
       "    </tr>\n",
       "    <tr>\n",
       "      <th>1932</th>\n",
       "      <td>0.000000</td>\n",
       "      <td>0.000000</td>\n",
       "      <td>0.000000</td>\n",
       "      <td>0.000000</td>\n",
       "      <td>0.000000</td>\n",
       "      <td>0.000000</td>\n",
       "      <td>0.000000</td>\n",
       "      <td>0.000000</td>\n",
       "      <td>0.000000</td>\n",
       "      <td>0.000000</td>\n",
       "      <td>0.000000</td>\n",
       "      <td>0.000000</td>\n",
       "      <td>0.000000</td>\n",
       "      <td>100.000000</td>\n",
       "      <td>0.000000</td>\n",
       "      <td>0.000000</td>\n",
       "      <td>100.000000</td>\n",
       "      <td>0.000000</td>\n",
       "    </tr>\n",
       "    <tr>\n",
       "      <th>...</th>\n",
       "      <td>...</td>\n",
       "      <td>...</td>\n",
       "      <td>...</td>\n",
       "      <td>...</td>\n",
       "      <td>...</td>\n",
       "      <td>...</td>\n",
       "      <td>...</td>\n",
       "      <td>...</td>\n",
       "      <td>...</td>\n",
       "      <td>...</td>\n",
       "      <td>...</td>\n",
       "      <td>...</td>\n",
       "      <td>...</td>\n",
       "      <td>...</td>\n",
       "      <td>...</td>\n",
       "      <td>...</td>\n",
       "      <td>...</td>\n",
       "      <td>...</td>\n",
       "    </tr>\n",
       "    <tr>\n",
       "      <th>1994</th>\n",
       "      <td>14.018692</td>\n",
       "      <td>6.074766</td>\n",
       "      <td>1.869159</td>\n",
       "      <td>7.009346</td>\n",
       "      <td>38.317757</td>\n",
       "      <td>3.738318</td>\n",
       "      <td>4.205607</td>\n",
       "      <td>45.327103</td>\n",
       "      <td>1.401869</td>\n",
       "      <td>0.000000</td>\n",
       "      <td>3.738318</td>\n",
       "      <td>0.934579</td>\n",
       "      <td>0.934579</td>\n",
       "      <td>16.355140</td>\n",
       "      <td>3.271028</td>\n",
       "      <td>11.682243</td>\n",
       "      <td>3.271028</td>\n",
       "      <td>2.803738</td>\n",
       "    </tr>\n",
       "    <tr>\n",
       "      <th>1995</th>\n",
       "      <td>18.264840</td>\n",
       "      <td>10.045662</td>\n",
       "      <td>2.739726</td>\n",
       "      <td>9.589041</td>\n",
       "      <td>28.767123</td>\n",
       "      <td>5.022831</td>\n",
       "      <td>2.283105</td>\n",
       "      <td>40.639269</td>\n",
       "      <td>1.369863</td>\n",
       "      <td>0.456621</td>\n",
       "      <td>6.392694</td>\n",
       "      <td>1.369863</td>\n",
       "      <td>2.283105</td>\n",
       "      <td>16.894977</td>\n",
       "      <td>6.849315</td>\n",
       "      <td>17.808219</td>\n",
       "      <td>2.283105</td>\n",
       "      <td>0.913242</td>\n",
       "    </tr>\n",
       "    <tr>\n",
       "      <th>1996</th>\n",
       "      <td>12.394366</td>\n",
       "      <td>6.760563</td>\n",
       "      <td>2.535211</td>\n",
       "      <td>5.915493</td>\n",
       "      <td>30.422535</td>\n",
       "      <td>5.915493</td>\n",
       "      <td>5.070423</td>\n",
       "      <td>47.887324</td>\n",
       "      <td>1.690141</td>\n",
       "      <td>0.281690</td>\n",
       "      <td>3.098592</td>\n",
       "      <td>2.535211</td>\n",
       "      <td>1.690141</td>\n",
       "      <td>10.704225</td>\n",
       "      <td>4.225352</td>\n",
       "      <td>13.239437</td>\n",
       "      <td>2.535211</td>\n",
       "      <td>0.563380</td>\n",
       "    </tr>\n",
       "    <tr>\n",
       "      <th>1997</th>\n",
       "      <td>16.083916</td>\n",
       "      <td>6.993007</td>\n",
       "      <td>1.048951</td>\n",
       "      <td>7.692308</td>\n",
       "      <td>30.419580</td>\n",
       "      <td>10.489510</td>\n",
       "      <td>2.097902</td>\n",
       "      <td>39.510490</td>\n",
       "      <td>1.398601</td>\n",
       "      <td>0.699301</td>\n",
       "      <td>2.797203</td>\n",
       "      <td>1.748252</td>\n",
       "      <td>6.293706</td>\n",
       "      <td>17.832168</td>\n",
       "      <td>4.545455</td>\n",
       "      <td>18.881119</td>\n",
       "      <td>4.895105</td>\n",
       "      <td>0.000000</td>\n",
       "    </tr>\n",
       "    <tr>\n",
       "      <th>1998</th>\n",
       "      <td>18.461538</td>\n",
       "      <td>4.615385</td>\n",
       "      <td>0.000000</td>\n",
       "      <td>1.538462</td>\n",
       "      <td>20.000000</td>\n",
       "      <td>10.769231</td>\n",
       "      <td>4.615385</td>\n",
       "      <td>50.769231</td>\n",
       "      <td>1.538462</td>\n",
       "      <td>3.076923</td>\n",
       "      <td>6.153846</td>\n",
       "      <td>1.538462</td>\n",
       "      <td>4.615385</td>\n",
       "      <td>16.923077</td>\n",
       "      <td>7.692308</td>\n",
       "      <td>27.692308</td>\n",
       "      <td>0.000000</td>\n",
       "      <td>0.000000</td>\n",
       "    </tr>\n",
       "  </tbody>\n",
       "</table>\n",
       "<p>71 rows × 18 columns</p>\n",
       "</div>"
      ],
      "text/plain": [
       "                 Action  Adventure  Animation  Childrens     Comedy  \\\n",
       "release year                                                          \n",
       "1922           0.000000   0.000000   0.000000   0.000000   0.000000   \n",
       "1926           0.000000   0.000000   0.000000   0.000000   0.000000   \n",
       "1930           0.000000   0.000000   0.000000   0.000000   0.000000   \n",
       "1931           0.000000   0.000000   0.000000   0.000000   0.000000   \n",
       "1932           0.000000   0.000000   0.000000   0.000000   0.000000   \n",
       "...                 ...        ...        ...        ...        ...   \n",
       "1994          14.018692   6.074766   1.869159   7.009346  38.317757   \n",
       "1995          18.264840  10.045662   2.739726   9.589041  28.767123   \n",
       "1996          12.394366   6.760563   2.535211   5.915493  30.422535   \n",
       "1997          16.083916   6.993007   1.048951   7.692308  30.419580   \n",
       "1998          18.461538   4.615385   0.000000   1.538462  20.000000   \n",
       "\n",
       "                   Crime  Documentary       Drama   Fantasy   Film-Noir  \\\n",
       "release year                                                              \n",
       "1922            0.000000     0.000000    0.000000  0.000000    0.000000   \n",
       "1926            0.000000     0.000000  100.000000  0.000000    0.000000   \n",
       "1930            0.000000     0.000000  100.000000  0.000000    0.000000   \n",
       "1931          100.000000     0.000000    0.000000  0.000000  100.000000   \n",
       "1932            0.000000     0.000000    0.000000  0.000000    0.000000   \n",
       "...                  ...          ...         ...       ...         ...   \n",
       "1994            3.738318     4.205607   45.327103  1.401869    0.000000   \n",
       "1995            5.022831     2.283105   40.639269  1.369863    0.456621   \n",
       "1996            5.915493     5.070423   47.887324  1.690141    0.281690   \n",
       "1997           10.489510     2.097902   39.510490  1.398601    0.699301   \n",
       "1998           10.769231     4.615385   50.769231  1.538462    3.076923   \n",
       "\n",
       "                  Horror   Musical   Mystery     Romance    Sci-Fi  \\\n",
       "release year                                                         \n",
       "1922          100.000000  0.000000  0.000000    0.000000  0.000000   \n",
       "1926            0.000000  0.000000  0.000000    0.000000  0.000000   \n",
       "1930            0.000000  0.000000  0.000000    0.000000  0.000000   \n",
       "1931            0.000000  0.000000  0.000000    0.000000  0.000000   \n",
       "1932            0.000000  0.000000  0.000000  100.000000  0.000000   \n",
       "...                  ...       ...       ...         ...       ...   \n",
       "1994            3.738318  0.934579  0.934579   16.355140  3.271028   \n",
       "1995            6.392694  1.369863  2.283105   16.894977  6.849315   \n",
       "1996            3.098592  2.535211  1.690141   10.704225  4.225352   \n",
       "1997            2.797203  1.748252  6.293706   17.832168  4.545455   \n",
       "1998            6.153846  1.538462  4.615385   16.923077  7.692308   \n",
       "\n",
       "                Thriller         War   Western  \n",
       "release year                                    \n",
       "1922            0.000000    0.000000  0.000000  \n",
       "1926            0.000000    0.000000  0.000000  \n",
       "1930            0.000000    0.000000  0.000000  \n",
       "1931          100.000000    0.000000  0.000000  \n",
       "1932            0.000000  100.000000  0.000000  \n",
       "...                  ...         ...       ...  \n",
       "1994           11.682243    3.271028  2.803738  \n",
       "1995           17.808219    2.283105  0.913242  \n",
       "1996           13.239437    2.535211  0.563380  \n",
       "1997           18.881119    4.895105  0.000000  \n",
       "1998           27.692308    0.000000  0.000000  \n",
       "\n",
       "[71 rows x 18 columns]"
      ]
     },
     "execution_count": 159,
     "metadata": {},
     "output_type": "execute_result"
    }
   ],
   "source": [
    "#Prepare DataFrame for visualization of how popularity of genres has changed over the years.\n",
    "\n",
    "df_08 = movie_data.drop(['movie id', 'movie title', 'release date', 'unknown'], axis=1)\n",
    "df_08 = df_08.groupby(['release year']).agg({'Action':'sum','Adventure':'sum','Animation':'sum', 'Childrens':'sum', 'Comedy':'sum', 'Crime':'sum',\n",
    "       'Documentary':'sum', 'Drama':'sum', 'Fantasy':'sum', 'Film-Noir':'sum', 'Horror':'sum', 'Musical':'sum',\n",
    "       'Mystery':'sum', 'Romance':'sum', 'Sci-Fi':'sum', 'Thriller':'sum', 'War':'sum', 'Western':'sum'}).reset_index()\n",
    "df_08.set_index('release year', inplace=True)\n",
    "#df = movie_data['release year'].value_counts().rename_axis('release year').reset_index(name='total')\n",
    "df_09 = movie_data['release year'].value_counts().rename_axis('release year').to_frame('total')\n",
    "df_08 = df_08.join(df_09,how='inner')\n",
    "df_09 = df_08.copy()\n",
    "df_08 = df_08.div(df_08['total'], axis = 0) * 100\n",
    "df_08.drop(['total'], axis = 1, inplace = True)\n",
    "df_08\n"
   ]
  },
  {
   "cell_type": "code",
   "execution_count": 162,
   "metadata": {},
   "outputs": [
    {
     "data": {
      "image/png": "[encoded data removed]",
      "text/plain": [
       "<Figure size 1080x864 with 2 Axes>"
      ]
     },
     "metadata": {
      "needs_background": "light"
     },
     "output_type": "display_data"
    }
   ],
   "source": [
    "#Visualization of how popularity of genres has changed over the years. Heatmap\n",
    "\n",
    "plt.figure(figsize=(15,12))\n",
    "sns.heatmap(df_08, annot=True, annot_kws={\"size\": 10},fmt=\".1f\") \n",
    "plt.show()"
   ]
  },
  {
   "cell_type": "markdown",
   "metadata": {},
   "source": [
    "**Insights:**\n",
    "\n"
   ]
  },
  {
   "cell_type": "markdown",
   "metadata": {},
   "source": [
    "### 9. Find the top 25 movies in terms of average ratings for movies that have been rated more than 100 times - 10 marks\n",
    "\n",
    "Hints : \n",
    "\n",
    "1. Find the count of ratings and average ratings for every movie.\n",
    "2. Slice the movies which have ratings more than 100.\n",
    "3. Sort values according to average rating such that movie which highest rating is on top.\n",
    "4. Select top 25 movies.\n",
    "5. You will have to use the .merge() function to get the movie titles.\n",
    "\n",
    "Note: This question will need you to research about groupby and apply your findings. You can find more on groupby on https://realpython.com/pandas-groupby/."
   ]
  },
  {
   "cell_type": "code",
   "execution_count": 226,
   "metadata": {},
   "outputs": [
    {
     "name": "stdout",
     "output_type": "stream",
     "text": [
      "\n",
      "Top 25 movies in terms of average ratings that have been rated more than 100 times\n",
      "\n"
     ]
    },
    {
     "data": {
      "text/html": [
       "<div>\n",
       "<style scoped>\n",
       "    .dataframe tbody tr th:only-of-type {\n",
       "        vertical-align: middle;\n",
       "    }\n",
       "\n",
       "    .dataframe tbody tr th {\n",
       "        vertical-align: top;\n",
       "    }\n",
       "\n",
       "    .dataframe thead th {\n",
       "        text-align: right;\n",
       "    }\n",
       "</style>\n",
       "<table border=\"1\" class=\"dataframe\">\n",
       "  <thead>\n",
       "    <tr style=\"text-align: right;\">\n",
       "      <th></th>\n",
       "      <th>movie title</th>\n",
       "      <th>number of ratings</th>\n",
       "      <th>average rating</th>\n",
       "    </tr>\n",
       "  </thead>\n",
       "  <tbody>\n",
       "    <tr>\n",
       "      <th>0</th>\n",
       "      <td>Close Shave, A</td>\n",
       "      <td>112</td>\n",
       "      <td>4.49</td>\n",
       "    </tr>\n",
       "    <tr>\n",
       "      <th>1</th>\n",
       "      <td>Schindler's List</td>\n",
       "      <td>298</td>\n",
       "      <td>4.47</td>\n",
       "    </tr>\n",
       "    <tr>\n",
       "      <th>2</th>\n",
       "      <td>Wrong Trousers, The</td>\n",
       "      <td>118</td>\n",
       "      <td>4.47</td>\n",
       "    </tr>\n",
       "    <tr>\n",
       "      <th>3</th>\n",
       "      <td>Casablanca</td>\n",
       "      <td>243</td>\n",
       "      <td>4.46</td>\n",
       "    </tr>\n",
       "    <tr>\n",
       "      <th>4</th>\n",
       "      <td>Shawshank Redemption, The</td>\n",
       "      <td>283</td>\n",
       "      <td>4.45</td>\n",
       "    </tr>\n",
       "    <tr>\n",
       "      <th>5</th>\n",
       "      <td>Rear Window</td>\n",
       "      <td>209</td>\n",
       "      <td>4.39</td>\n",
       "    </tr>\n",
       "    <tr>\n",
       "      <th>6</th>\n",
       "      <td>Usual Suspects, The</td>\n",
       "      <td>267</td>\n",
       "      <td>4.39</td>\n",
       "    </tr>\n",
       "    <tr>\n",
       "      <th>7</th>\n",
       "      <td>Star Wars</td>\n",
       "      <td>583</td>\n",
       "      <td>4.36</td>\n",
       "    </tr>\n",
       "    <tr>\n",
       "      <th>8</th>\n",
       "      <td>12 Angry Men</td>\n",
       "      <td>125</td>\n",
       "      <td>4.34</td>\n",
       "    </tr>\n",
       "    <tr>\n",
       "      <th>9</th>\n",
       "      <td>Citizen Kane</td>\n",
       "      <td>198</td>\n",
       "      <td>4.29</td>\n",
       "    </tr>\n",
       "    <tr>\n",
       "      <th>10</th>\n",
       "      <td>To Kill a Mockingbird</td>\n",
       "      <td>219</td>\n",
       "      <td>4.29</td>\n",
       "    </tr>\n",
       "    <tr>\n",
       "      <th>11</th>\n",
       "      <td>One Flew Over the Cuckoo's Nest</td>\n",
       "      <td>264</td>\n",
       "      <td>4.29</td>\n",
       "    </tr>\n",
       "    <tr>\n",
       "      <th>12</th>\n",
       "      <td>Silence of the Lambs, The</td>\n",
       "      <td>390</td>\n",
       "      <td>4.29</td>\n",
       "    </tr>\n",
       "    <tr>\n",
       "      <th>13</th>\n",
       "      <td>North by Northwest</td>\n",
       "      <td>179</td>\n",
       "      <td>4.28</td>\n",
       "    </tr>\n",
       "    <tr>\n",
       "      <th>14</th>\n",
       "      <td>Godfather, The</td>\n",
       "      <td>413</td>\n",
       "      <td>4.28</td>\n",
       "    </tr>\n",
       "    <tr>\n",
       "      <th>15</th>\n",
       "      <td>Secrets &amp; Lies</td>\n",
       "      <td>162</td>\n",
       "      <td>4.27</td>\n",
       "    </tr>\n",
       "    <tr>\n",
       "      <th>16</th>\n",
       "      <td>Good Will Hunting</td>\n",
       "      <td>198</td>\n",
       "      <td>4.26</td>\n",
       "    </tr>\n",
       "    <tr>\n",
       "      <th>17</th>\n",
       "      <td>Manchurian Candidate, The</td>\n",
       "      <td>131</td>\n",
       "      <td>4.26</td>\n",
       "    </tr>\n",
       "    <tr>\n",
       "      <th>18</th>\n",
       "      <td>Dr. Strangelove or: How I Learned to Stop Worr...</td>\n",
       "      <td>194</td>\n",
       "      <td>4.25</td>\n",
       "    </tr>\n",
       "    <tr>\n",
       "      <th>19</th>\n",
       "      <td>Raiders of the Lost Ark</td>\n",
       "      <td>420</td>\n",
       "      <td>4.25</td>\n",
       "    </tr>\n",
       "    <tr>\n",
       "      <th>20</th>\n",
       "      <td>Vertigo</td>\n",
       "      <td>179</td>\n",
       "      <td>4.25</td>\n",
       "    </tr>\n",
       "    <tr>\n",
       "      <th>21</th>\n",
       "      <td>Titanic</td>\n",
       "      <td>350</td>\n",
       "      <td>4.25</td>\n",
       "    </tr>\n",
       "    <tr>\n",
       "      <th>22</th>\n",
       "      <td>Lawrence of Arabia</td>\n",
       "      <td>173</td>\n",
       "      <td>4.23</td>\n",
       "    </tr>\n",
       "    <tr>\n",
       "      <th>23</th>\n",
       "      <td>Maltese Falcon, The</td>\n",
       "      <td>138</td>\n",
       "      <td>4.21</td>\n",
       "    </tr>\n",
       "    <tr>\n",
       "      <th>24</th>\n",
       "      <td>Empire Strikes Back, The</td>\n",
       "      <td>367</td>\n",
       "      <td>4.20</td>\n",
       "    </tr>\n",
       "  </tbody>\n",
       "</table>\n",
       "</div>"
      ],
      "text/plain": [
       "                                          movie title  number of ratings  \\\n",
       "0                                     Close Shave, A                 112   \n",
       "1                                   Schindler's List                 298   \n",
       "2                                Wrong Trousers, The                 118   \n",
       "3                                         Casablanca                 243   \n",
       "4                          Shawshank Redemption, The                 283   \n",
       "5                                        Rear Window                 209   \n",
       "6                                Usual Suspects, The                 267   \n",
       "7                                          Star Wars                 583   \n",
       "8                                       12 Angry Men                 125   \n",
       "9                                       Citizen Kane                 198   \n",
       "10                             To Kill a Mockingbird                 219   \n",
       "11                   One Flew Over the Cuckoo's Nest                 264   \n",
       "12                         Silence of the Lambs, The                 390   \n",
       "13                                North by Northwest                 179   \n",
       "14                                    Godfather, The                 413   \n",
       "15                                    Secrets & Lies                 162   \n",
       "16                                 Good Will Hunting                 198   \n",
       "17                         Manchurian Candidate, The                 131   \n",
       "18  Dr. Strangelove or: How I Learned to Stop Worr...                194   \n",
       "19                           Raiders of the Lost Ark                 420   \n",
       "20                                           Vertigo                 179   \n",
       "21                                           Titanic                 350   \n",
       "22                                Lawrence of Arabia                 173   \n",
       "23                               Maltese Falcon, The                 138   \n",
       "24                          Empire Strikes Back, The                 367   \n",
       "\n",
       "    average rating  \n",
       "0             4.49  \n",
       "1             4.47  \n",
       "2             4.47  \n",
       "3             4.46  \n",
       "4             4.45  \n",
       "5             4.39  \n",
       "6             4.39  \n",
       "7             4.36  \n",
       "8             4.34  \n",
       "9             4.29  \n",
       "10            4.29  \n",
       "11            4.29  \n",
       "12            4.29  \n",
       "13            4.28  \n",
       "14            4.28  \n",
       "15            4.27  \n",
       "16            4.26  \n",
       "17            4.26  \n",
       "18            4.25  \n",
       "19            4.25  \n",
       "20            4.25  \n",
       "21            4.25  \n",
       "22            4.23  \n",
       "23            4.21  \n",
       "24            4.20  "
      ]
     },
     "execution_count": 226,
     "metadata": {},
     "output_type": "execute_result"
    }
   ],
   "source": [
    "num_ratings_movie = user_ratings.groupby('movie id',as_index=False)['rating'].count()\n",
    "avg_ratings_movie = user_ratings.groupby('movie id',as_index=False)['rating'].mean()\n",
    "num_ratings_movie.head()\n",
    "num_ratings_movie = num_ratings_movie.merge(movie_data, on = 'movie id', how='inner')\n",
    "num_ratings_movie = num_ratings_movie[['movie id','movie title', 'rating']]\n",
    "avg_ratings_movie.rename(columns={'rating' : 'average rating'}, inplace=True)\n",
    "num_ratings_movie.rename(columns={'rating' : 'number of ratings'}, inplace=True)\n",
    "top_ratings_movie = num_ratings_movie.merge(avg_ratings_movie, on = 'movie id', how='inner')\n",
    "top_ratings_movie = top_ratings_movie[top_ratings_movie['number of ratings']>100].sort_values(by='average rating',ascending=False).reset_index().drop('index',axis=1)\n",
    "top_ratings_movie = top_ratings_movie.drop(['movie id'], axis =1).head(25)\n",
    "print(\"\\nTop 25 movies in terms of average ratings that have been rated more than 100 times\\n\")\n",
    "top_ratings_movie\n"
   ]
  },
  {
   "cell_type": "markdown",
   "metadata": {},
   "source": [
    "### 10. Check for the validity of the below statements with respect to the data provided - 10 marks\n",
    "\n",
    "* Men watch more drama than women\n",
    "* Women watch more Sci-Fi than men\n",
    "* Men watch more Romance than women\n",
    "\n",
    "**compare the percentages**\n",
    "\n",
    "**Please pay attention to what should be the denominator while calculating percentages**"
   ]
  },
  {
   "cell_type": "markdown",
   "metadata": {},
   "source": [
    "1. Merge all the datasets\n",
    "\n",
    "2. There is no need to conduct statistical tests around this. Just **compare the percentages** and comment on the validity of the above statements.\n",
    "\n",
    "3. you might want ot use the .sum(), .div() function here.\n",
    "\n",
    "4. Use number of ratings to validate the numbers. For example, if out of 4000 ratings received by women, 3000 are for drama, we will assume that 75% of the women watch drama."
   ]
  },
  {
   "cell_type": "code",
   "execution_count": 256,
   "metadata": {},
   "outputs": [
    {
     "name": "stdout",
     "output_type": "stream",
     "text": [
      "Men watched total of 28887 movies that are drama.\n",
      "\n",
      "Women watched total of 11008 movies that are drama.\n",
      "\n",
      "The statement-Men watch more drama than women- is valid\n"
     ]
    }
   ],
   "source": [
    "# Validate the statement, \"Men watch more drama than women\".\n",
    "df = user_data.merge(user_ratings, on='user id', how= 'inner')\n",
    "df = df.merge(movie_data, on='movie id', how='inner')\n",
    "\n",
    "df_w = df[df['gender'] == 'F']\n",
    "df_m = df[df['gender'] == 'M']\n",
    "\n",
    "drama_women = pd.Series(df_w[df_w['Drama'] == 1]['rating'].count())\n",
    "drama_men = pd.Series(df_m[df_m['Drama'] == 1]['rating'].count())\n",
    "\n",
    "print(\"Men watched total of\",drama_men[0], \"movies that are drama.\\n\" )\n",
    "print(\"Women watched total of\",drama_women[0], \"movies that are drama.\\n\" )\n",
    "if drama_men[0] > drama_women[0]:\n",
    "    print(\"The statement-Men watch more drama than women- is valid\")\n",
    "else:\n",
    "    print(\"The statement-Men watch more drama than women- is not valid\")\n",
    "          "
   ]
  },
  {
   "cell_type": "code",
   "execution_count": 259,
   "metadata": {},
   "outputs": [
    {
     "name": "stdout",
     "output_type": "stream",
     "text": [
      "Men watched total of 10101 movies that are Sci-Fi.\n",
      "\n",
      "Women watched total of 2629 movies that are Sci-Fi.\n",
      "\n",
      "The statement-Women watch more Sci-Fi than men- is not valid\n"
     ]
    }
   ],
   "source": [
    "SciFi_women = pd.Series(df_w[df_w['Sci-Fi'] == 1]['rating'].count())\n",
    "SciFi_men = pd.Series(df_m[df_m['Sci-Fi'] == 1]['rating'].count())\n",
    "\n",
    "print(\"Men watched total of\",SciFi_men[0], \"movies that are Sci-Fi.\\n\" )\n",
    "print(\"Women watched total of\",SciFi_women[0], \"movies that are Sci-Fi.\\n\" )\n",
    "if SciFi_men[0] > SciFi_women[0]:\n",
    "    print(\"The statement-Women watch more Sci-Fi than men- is not valid\")\n",
    "else:\n",
    "    print(\"The statement-Women watch more Sci-Fi than men- is valid\")\n",
    "          "
   ]
  },
  {
   "cell_type": "code",
   "execution_count": 260,
   "metadata": {},
   "outputs": [
    {
     "name": "stdout",
     "output_type": "stream",
     "text": [
      "Men watched total of 13603 movies that are Romance.\n",
      "\n",
      "Women watched total of 5858 movies that are Romance.\n",
      "\n",
      "The statement-Men watch more Romance than women- is valid\n"
     ]
    }
   ],
   "source": [
    "Romance_women = pd.Series(df_w[df_w['Romance'] == 1]['rating'].count())\n",
    "Romance_men = pd.Series(df_m[df_m['Romance'] == 1]['rating'].count())\n",
    "\n",
    "print(\"Men watched total of\",Romance_men[0], \"movies that are Romance.\\n\" )\n",
    "print(\"Women watched total of\",Romance_women[0], \"movies that are Romance.\\n\" )\n",
    "if Romance_men[0] > Romance_women[0]:\n",
    "    print(\"The statement-Men watch more Romance than women- is valid\")\n",
    "else:\n",
    "    print(\"The statement-Men watch more Romance than women- is not valid\")\n",
    "      "
   ]
  },
  {
   "cell_type": "markdown",
   "metadata": {},
   "source": [
    "**Conclusion:**\n",
    "    \n"
   ]
  }
 ],
 "metadata": {
  "kernelspec": {
   "display_name": "Python 3",
   "language": "python",
   "name": "python3"
  },
  "language_info": {
   "codemirror_mode": {
    "name": "ipython",
    "version": 3
   },
   "file_extension": ".py",
   "mimetype": "text/x-python",
   "name": "python",
   "nbconvert_exporter": "python",
   "pygments_lexer": "ipython3",
   "version": "3.8.5"
  }
 },
 "nbformat": 4,
 "nbformat_minor": 2
}
