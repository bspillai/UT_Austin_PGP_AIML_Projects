{
 "cells": [
  {
   "cell_type": "markdown",
   "metadata": {},
   "source": [
    "## Project: Unsupervised Learning - Clustering - AllLife Bank Credit Card Customer Segmentation"
   ]
  },
  {
   "cell_type": "markdown",
   "metadata": {},
   "source": [
    "## Problem Defintion:  \n",
    "AllLife Bank wants to focus on its credit card customer base in the next \n",
    "financial year. They have been advised by their marketing research team, that the \n",
    "penetration in the market can be improved. Based on this input, the Marketing team \n",
    "proposes to run personalised campaigns to target new customers as well as upsell to \n",
    "existing customers. Another insight from the market research was that the customers \n",
    "perceive the support services of the back poorly. Based on this, the Operations team \n",
    "wants to upgrade the service delivery model, to ensure that customers queries are \n",
    "resolved faster. Head of Marketing and Head of Delivery both decide to reach out to the \n",
    "Data Science team for help.\n",
    "\n",
    "## Objective: \n",
    "To identify different segments in the existing customer based on their \n",
    "spending patterns as well as past interaction with the bank. \n",
    "\n",
    "## Key Questions:\n",
    "1. How many different segments of customers are there?\n",
    "2. How are these segments different from each other?\n",
    "3. What are your recommendations to the bank on how to better market to and service these customers?\n",
    "\n",
    "## Data Description:\n",
    "* Data is of various customers of a bank with their credit limit, the total number of credit \n",
    "cards the customer has, and different channels through which customer has \n",
    "contacted the bank for any queries, different channels include visiting the bank, \n",
    "online and through a call centre.\n",
    "\n",
    "### Data Dictionary\n",
    "\n",
    "### Customer details:\n",
    " \n",
    "###  Column:   Description        \n",
    "---  ------               --------------  -----\n",
    " -   Sl_No:                 Row Number\n",
    " -   Customer Key:          Unique customer Key\n",
    " -   Avg_Credit_Limit:      Average Credit Limit on the Credit Cards\n",
    " -   Total_Credit_Cards:    Total number of Credit Cards owned by Customer\n",
    " -   Total_visits_bank:     Total visits to the Bank by Customer\n",
    " -   Total_visits_online:   Total online visits by Customer\n",
    " -   Total_calls_made:      Total Calls made by customer to the Bank\n",
    "\n",
    "\n",
    "## `Learning Outcomes:`\n",
    "- Exploratory Data Analysis\n",
    "- Data Pre-processing\n",
    "- Apply K-means Clustering algorithm. Use Elbow curve, Silhouette Score to figure out appropriate number of clusters\". \n",
    "- Apply Hierarchical clustering with different linkage methods.Plot dendrograms for each linkage methods.Choose appropriate number of clusters. \n",
    "- Compare cluster K-means clusters and Hierarchical clusters - Perform cluster profiling - Derive Insight.\n",
    "- Insights & Recommendations\n"
   ]
  },
  {
   "cell_type": "code",
   "execution_count": 337,
   "metadata": {},
   "outputs": [],
   "source": [
    "#################################################################################\n",
    "# Project: Unsupervised Learning - Clustering -                                ##\n",
    "# AllLife Bank Credit Card Customer Segmentation                               ##\n",
    "# Submitted by \"Bindu S Pillai\"                                                ##\n",
    "# AIML PG Program condcuted by University of Texas, Austin. Dated - 5/14/2021  ##\n",
    "#################################################################################\n",
    "\n",
    "# Importing necessary libraries for execution of the project.\n",
    "\n",
    "import numpy as np\n",
    "import pandas as pd\n",
    "from sklearn import metrics\n",
    "import matplotlib.pyplot as plt\n",
    "%matplotlib inline\n",
    "import warnings\n",
    "warnings.filterwarnings('ignore')\n",
    "import seaborn as sns\n",
    "from sklearn.model_selection import train_test_split\n",
    "from sklearn import metrics\n",
    "from scipy.stats import zscore\n",
    "from scipy.spatial.distance import pdist\n",
    "from scipy.stats import pearsonr\n",
    "from scipy.cluster.hierarchy import dendrogram, linkage, cophenet\n",
    "from sklearn.cluster import KMeans\n",
    "from sklearn.cluster import AgglomerativeClustering\n",
    "from sklearn.metrics import silhouette_score\n",
    "from sklearn.metrics import accuracy_score\n",
    "from collections import Counter\n",
    "from scipy.cluster.hierarchy import fcluster"
   ]
  },
  {
   "cell_type": "code",
   "execution_count": 338,
   "metadata": {},
   "outputs": [],
   "source": [
    "#Loading the data from the excel file to a pandas DataFrame.\n",
    "Data_file =\"Credit Card Customer Data.xlsx\"\n",
    "bank_cust = pd.read_excel(Data_file,sheet_name='Sheet1')\n"
   ]
  },
  {
   "cell_type": "code",
   "execution_count": 339,
   "metadata": {},
   "outputs": [
    {
     "data": {
      "text/html": [
       "<div>\n",
       "<style scoped>\n",
       "    .dataframe tbody tr th:only-of-type {\n",
       "        vertical-align: middle;\n",
       "    }\n",
       "\n",
       "    .dataframe tbody tr th {\n",
       "        vertical-align: top;\n",
       "    }\n",
       "\n",
       "    .dataframe thead th {\n",
       "        text-align: right;\n",
       "    }\n",
       "</style>\n",
       "<table border=\"1\" class=\"dataframe\">\n",
       "  <thead>\n",
       "    <tr style=\"text-align: right;\">\n",
       "      <th></th>\n",
       "      <th>Sl_No</th>\n",
       "      <th>Customer Key</th>\n",
       "      <th>Avg_Credit_Limit</th>\n",
       "      <th>Total_Credit_Cards</th>\n",
       "      <th>Total_visits_bank</th>\n",
       "      <th>Total_visits_online</th>\n",
       "      <th>Total_calls_made</th>\n",
       "    </tr>\n",
       "  </thead>\n",
       "  <tbody>\n",
       "    <tr>\n",
       "      <th>0</th>\n",
       "      <td>1</td>\n",
       "      <td>87073</td>\n",
       "      <td>100000</td>\n",
       "      <td>2</td>\n",
       "      <td>1</td>\n",
       "      <td>1</td>\n",
       "      <td>0</td>\n",
       "    </tr>\n",
       "    <tr>\n",
       "      <th>1</th>\n",
       "      <td>2</td>\n",
       "      <td>38414</td>\n",
       "      <td>50000</td>\n",
       "      <td>3</td>\n",
       "      <td>0</td>\n",
       "      <td>10</td>\n",
       "      <td>9</td>\n",
       "    </tr>\n",
       "    <tr>\n",
       "      <th>2</th>\n",
       "      <td>3</td>\n",
       "      <td>17341</td>\n",
       "      <td>50000</td>\n",
       "      <td>7</td>\n",
       "      <td>1</td>\n",
       "      <td>3</td>\n",
       "      <td>4</td>\n",
       "    </tr>\n",
       "    <tr>\n",
       "      <th>3</th>\n",
       "      <td>4</td>\n",
       "      <td>40496</td>\n",
       "      <td>30000</td>\n",
       "      <td>5</td>\n",
       "      <td>1</td>\n",
       "      <td>1</td>\n",
       "      <td>4</td>\n",
       "    </tr>\n",
       "    <tr>\n",
       "      <th>4</th>\n",
       "      <td>5</td>\n",
       "      <td>47437</td>\n",
       "      <td>100000</td>\n",
       "      <td>6</td>\n",
       "      <td>0</td>\n",
       "      <td>12</td>\n",
       "      <td>3</td>\n",
       "    </tr>\n",
       "    <tr>\n",
       "      <th>5</th>\n",
       "      <td>6</td>\n",
       "      <td>58634</td>\n",
       "      <td>20000</td>\n",
       "      <td>3</td>\n",
       "      <td>0</td>\n",
       "      <td>1</td>\n",
       "      <td>8</td>\n",
       "    </tr>\n",
       "    <tr>\n",
       "      <th>6</th>\n",
       "      <td>7</td>\n",
       "      <td>48370</td>\n",
       "      <td>100000</td>\n",
       "      <td>5</td>\n",
       "      <td>0</td>\n",
       "      <td>11</td>\n",
       "      <td>2</td>\n",
       "    </tr>\n",
       "    <tr>\n",
       "      <th>7</th>\n",
       "      <td>8</td>\n",
       "      <td>37376</td>\n",
       "      <td>15000</td>\n",
       "      <td>3</td>\n",
       "      <td>0</td>\n",
       "      <td>1</td>\n",
       "      <td>1</td>\n",
       "    </tr>\n",
       "    <tr>\n",
       "      <th>8</th>\n",
       "      <td>9</td>\n",
       "      <td>82490</td>\n",
       "      <td>5000</td>\n",
       "      <td>2</td>\n",
       "      <td>0</td>\n",
       "      <td>2</td>\n",
       "      <td>2</td>\n",
       "    </tr>\n",
       "    <tr>\n",
       "      <th>9</th>\n",
       "      <td>10</td>\n",
       "      <td>44770</td>\n",
       "      <td>3000</td>\n",
       "      <td>4</td>\n",
       "      <td>0</td>\n",
       "      <td>1</td>\n",
       "      <td>7</td>\n",
       "    </tr>\n",
       "  </tbody>\n",
       "</table>\n",
       "</div>"
      ],
      "text/plain": [
       "   Sl_No  Customer Key  Avg_Credit_Limit  Total_Credit_Cards  \\\n",
       "0      1         87073            100000                   2   \n",
       "1      2         38414             50000                   3   \n",
       "2      3         17341             50000                   7   \n",
       "3      4         40496             30000                   5   \n",
       "4      5         47437            100000                   6   \n",
       "5      6         58634             20000                   3   \n",
       "6      7         48370            100000                   5   \n",
       "7      8         37376             15000                   3   \n",
       "8      9         82490              5000                   2   \n",
       "9     10         44770              3000                   4   \n",
       "\n",
       "   Total_visits_bank  Total_visits_online  Total_calls_made  \n",
       "0                  1                    1                 0  \n",
       "1                  0                   10                 9  \n",
       "2                  1                    3                 4  \n",
       "3                  1                    1                 4  \n",
       "4                  0                   12                 3  \n",
       "5                  0                    1                 8  \n",
       "6                  0                   11                 2  \n",
       "7                  0                    1                 1  \n",
       "8                  0                    2                 2  \n",
       "9                  0                    1                 7  "
      ]
     },
     "execution_count": 339,
     "metadata": {},
     "output_type": "execute_result"
    }
   ],
   "source": [
    "# Displaying top 10 rows of file\n",
    "bank_cust.head(10)"
   ]
  },
  {
   "cell_type": "code",
   "execution_count": 340,
   "metadata": {},
   "outputs": [
    {
     "data": {
      "text/html": [
       "<div>\n",
       "<style scoped>\n",
       "    .dataframe tbody tr th:only-of-type {\n",
       "        vertical-align: middle;\n",
       "    }\n",
       "\n",
       "    .dataframe tbody tr th {\n",
       "        vertical-align: top;\n",
       "    }\n",
       "\n",
       "    .dataframe thead th {\n",
       "        text-align: right;\n",
       "    }\n",
       "</style>\n",
       "<table border=\"1\" class=\"dataframe\">\n",
       "  <thead>\n",
       "    <tr style=\"text-align: right;\">\n",
       "      <th></th>\n",
       "      <th>count</th>\n",
       "      <th>mean</th>\n",
       "      <th>std</th>\n",
       "      <th>min</th>\n",
       "      <th>25%</th>\n",
       "      <th>50%</th>\n",
       "      <th>75%</th>\n",
       "      <th>max</th>\n",
       "    </tr>\n",
       "  </thead>\n",
       "  <tbody>\n",
       "    <tr>\n",
       "      <th>Sl_No</th>\n",
       "      <td>660.0</td>\n",
       "      <td>330.500</td>\n",
       "      <td>190.670</td>\n",
       "      <td>1.0</td>\n",
       "      <td>165.75</td>\n",
       "      <td>330.5</td>\n",
       "      <td>495.25</td>\n",
       "      <td>660.0</td>\n",
       "    </tr>\n",
       "    <tr>\n",
       "      <th>Customer Key</th>\n",
       "      <td>660.0</td>\n",
       "      <td>55141.444</td>\n",
       "      <td>25627.772</td>\n",
       "      <td>11265.0</td>\n",
       "      <td>33825.25</td>\n",
       "      <td>53874.5</td>\n",
       "      <td>77202.50</td>\n",
       "      <td>99843.0</td>\n",
       "    </tr>\n",
       "    <tr>\n",
       "      <th>Avg_Credit_Limit</th>\n",
       "      <td>660.0</td>\n",
       "      <td>34574.242</td>\n",
       "      <td>37625.488</td>\n",
       "      <td>3000.0</td>\n",
       "      <td>10000.00</td>\n",
       "      <td>18000.0</td>\n",
       "      <td>48000.00</td>\n",
       "      <td>200000.0</td>\n",
       "    </tr>\n",
       "    <tr>\n",
       "      <th>Total_Credit_Cards</th>\n",
       "      <td>660.0</td>\n",
       "      <td>4.706</td>\n",
       "      <td>2.168</td>\n",
       "      <td>1.0</td>\n",
       "      <td>3.00</td>\n",
       "      <td>5.0</td>\n",
       "      <td>6.00</td>\n",
       "      <td>10.0</td>\n",
       "    </tr>\n",
       "    <tr>\n",
       "      <th>Total_visits_bank</th>\n",
       "      <td>660.0</td>\n",
       "      <td>2.403</td>\n",
       "      <td>1.632</td>\n",
       "      <td>0.0</td>\n",
       "      <td>1.00</td>\n",
       "      <td>2.0</td>\n",
       "      <td>4.00</td>\n",
       "      <td>5.0</td>\n",
       "    </tr>\n",
       "    <tr>\n",
       "      <th>Total_visits_online</th>\n",
       "      <td>660.0</td>\n",
       "      <td>2.606</td>\n",
       "      <td>2.936</td>\n",
       "      <td>0.0</td>\n",
       "      <td>1.00</td>\n",
       "      <td>2.0</td>\n",
       "      <td>4.00</td>\n",
       "      <td>15.0</td>\n",
       "    </tr>\n",
       "    <tr>\n",
       "      <th>Total_calls_made</th>\n",
       "      <td>660.0</td>\n",
       "      <td>3.583</td>\n",
       "      <td>2.865</td>\n",
       "      <td>0.0</td>\n",
       "      <td>1.00</td>\n",
       "      <td>3.0</td>\n",
       "      <td>5.00</td>\n",
       "      <td>10.0</td>\n",
       "    </tr>\n",
       "  </tbody>\n",
       "</table>\n",
       "</div>"
      ],
      "text/plain": [
       "                     count       mean        std      min       25%      50%  \\\n",
       "Sl_No                660.0    330.500    190.670      1.0    165.75    330.5   \n",
       "Customer Key         660.0  55141.444  25627.772  11265.0  33825.25  53874.5   \n",
       "Avg_Credit_Limit     660.0  34574.242  37625.488   3000.0  10000.00  18000.0   \n",
       "Total_Credit_Cards   660.0      4.706      2.168      1.0      3.00      5.0   \n",
       "Total_visits_bank    660.0      2.403      1.632      0.0      1.00      2.0   \n",
       "Total_visits_online  660.0      2.606      2.936      0.0      1.00      2.0   \n",
       "Total_calls_made     660.0      3.583      2.865      0.0      1.00      3.0   \n",
       "\n",
       "                          75%       max  \n",
       "Sl_No                  495.25     660.0  \n",
       "Customer Key         77202.50   99843.0  \n",
       "Avg_Credit_Limit     48000.00  200000.0  \n",
       "Total_Credit_Cards       6.00      10.0  \n",
       "Total_visits_bank        4.00       5.0  \n",
       "Total_visits_online      4.00      15.0  \n",
       "Total_calls_made         5.00      10.0  "
      ]
     },
     "execution_count": 340,
     "metadata": {},
     "output_type": "execute_result"
    }
   ],
   "source": [
    "# Data distribution and other metrics for different features\n",
    "bank_cust.describe().round(3).transpose()"
   ]
  },
  {
   "cell_type": "code",
   "execution_count": 341,
   "metadata": {},
   "outputs": [
    {
     "name": "stdout",
     "output_type": "stream",
     "text": [
      "<class 'pandas.core.frame.DataFrame'>\n",
      "RangeIndex: 660 entries, 0 to 659\n",
      "Data columns (total 7 columns):\n",
      " #   Column               Non-Null Count  Dtype\n",
      "---  ------               --------------  -----\n",
      " 0   Sl_No                660 non-null    int64\n",
      " 1   Customer Key         660 non-null    int64\n",
      " 2   Avg_Credit_Limit     660 non-null    int64\n",
      " 3   Total_Credit_Cards   660 non-null    int64\n",
      " 4   Total_visits_bank    660 non-null    int64\n",
      " 5   Total_visits_online  660 non-null    int64\n",
      " 6   Total_calls_made     660 non-null    int64\n",
      "dtypes: int64(7)\n",
      "memory usage: 36.2 KB\n"
     ]
    }
   ],
   "source": [
    "#Information on the columns or features such as anmes,data types etc.\n",
    "bank_cust.info()"
   ]
  },
  {
   "cell_type": "code",
   "execution_count": 342,
   "metadata": {},
   "outputs": [
    {
     "name": "stdout",
     "output_type": "stream",
     "text": [
      "Missing values in each column\n"
     ]
    },
    {
     "data": {
      "text/plain": [
       "Sl_No                  0\n",
       "Customer Key           0\n",
       "Avg_Credit_Limit       0\n",
       "Total_Credit_Cards     0\n",
       "Total_visits_bank      0\n",
       "Total_visits_online    0\n",
       "Total_calls_made       0\n",
       "dtype: int64"
      ]
     },
     "execution_count": 342,
     "metadata": {},
     "output_type": "execute_result"
    }
   ],
   "source": [
    "print(\"Missing values in each column\")\n",
    "bank_cust.isnull().sum()"
   ]
  },
  {
   "cell_type": "code",
   "execution_count": 343,
   "metadata": {},
   "outputs": [
    {
     "name": "stdout",
     "output_type": "stream",
     "text": [
      "Number of unique values in each column\n"
     ]
    },
    {
     "data": {
      "text/plain": [
       "Sl_No                  660\n",
       "Customer Key           655\n",
       "Avg_Credit_Limit       110\n",
       "Total_Credit_Cards      10\n",
       "Total_visits_bank        6\n",
       "Total_visits_online     16\n",
       "Total_calls_made        11\n",
       "dtype: int64"
      ]
     },
     "execution_count": 343,
     "metadata": {},
     "output_type": "execute_result"
    }
   ],
   "source": [
    "print(\"Number of unique values in each column\")\n",
    "bank_cust.nunique()"
   ]
  },
  {
   "cell_type": "code",
   "execution_count": 344,
   "metadata": {},
   "outputs": [
    {
     "data": {
      "text/plain": [
       "(660, 7)"
      ]
     },
     "execution_count": 344,
     "metadata": {},
     "output_type": "execute_result"
    }
   ],
   "source": [
    "#Size of the data, no. of rowws and  columns\n",
    "bank_cust.shape"
   ]
  },
  {
   "cell_type": "code",
   "execution_count": 345,
   "metadata": {},
   "outputs": [],
   "source": [
    "## Dropping Sl_No as its only the row number, also dropping Customer Key as it is only customer identification field. \n",
    "## Copying to new dataframe \"bank__cc_cust\". So original datframe, \"bank_cust\" is intact.\n",
    "\n",
    "bank_cc_cust=bank_cust.drop(\"Sl_No\", axis =1)"
   ]
  },
  {
   "cell_type": "code",
   "execution_count": 346,
   "metadata": {},
   "outputs": [],
   "source": [
    "bank_cc_cust=bank_cc_cust.drop(\"Customer Key\", axis =1)"
   ]
  },
  {
   "cell_type": "code",
   "execution_count": 347,
   "metadata": {},
   "outputs": [
    {
     "data": {
      "text/html": [
       "<div>\n",
       "<style scoped>\n",
       "    .dataframe tbody tr th:only-of-type {\n",
       "        vertical-align: middle;\n",
       "    }\n",
       "\n",
       "    .dataframe tbody tr th {\n",
       "        vertical-align: top;\n",
       "    }\n",
       "\n",
       "    .dataframe thead th {\n",
       "        text-align: right;\n",
       "    }\n",
       "</style>\n",
       "<table border=\"1\" class=\"dataframe\">\n",
       "  <thead>\n",
       "    <tr style=\"text-align: right;\">\n",
       "      <th></th>\n",
       "      <th>count</th>\n",
       "      <th>mean</th>\n",
       "      <th>std</th>\n",
       "      <th>min</th>\n",
       "      <th>25%</th>\n",
       "      <th>50%</th>\n",
       "      <th>75%</th>\n",
       "      <th>max</th>\n",
       "    </tr>\n",
       "  </thead>\n",
       "  <tbody>\n",
       "    <tr>\n",
       "      <th>Avg_Credit_Limit</th>\n",
       "      <td>660.0</td>\n",
       "      <td>34574.242424</td>\n",
       "      <td>37625.487804</td>\n",
       "      <td>3000.0</td>\n",
       "      <td>10000.0</td>\n",
       "      <td>18000.0</td>\n",
       "      <td>48000.0</td>\n",
       "      <td>200000.0</td>\n",
       "    </tr>\n",
       "    <tr>\n",
       "      <th>Total_Credit_Cards</th>\n",
       "      <td>660.0</td>\n",
       "      <td>4.706061</td>\n",
       "      <td>2.167835</td>\n",
       "      <td>1.0</td>\n",
       "      <td>3.0</td>\n",
       "      <td>5.0</td>\n",
       "      <td>6.0</td>\n",
       "      <td>10.0</td>\n",
       "    </tr>\n",
       "    <tr>\n",
       "      <th>Total_visits_bank</th>\n",
       "      <td>660.0</td>\n",
       "      <td>2.403030</td>\n",
       "      <td>1.631813</td>\n",
       "      <td>0.0</td>\n",
       "      <td>1.0</td>\n",
       "      <td>2.0</td>\n",
       "      <td>4.0</td>\n",
       "      <td>5.0</td>\n",
       "    </tr>\n",
       "    <tr>\n",
       "      <th>Total_visits_online</th>\n",
       "      <td>660.0</td>\n",
       "      <td>2.606061</td>\n",
       "      <td>2.935724</td>\n",
       "      <td>0.0</td>\n",
       "      <td>1.0</td>\n",
       "      <td>2.0</td>\n",
       "      <td>4.0</td>\n",
       "      <td>15.0</td>\n",
       "    </tr>\n",
       "    <tr>\n",
       "      <th>Total_calls_made</th>\n",
       "      <td>660.0</td>\n",
       "      <td>3.583333</td>\n",
       "      <td>2.865317</td>\n",
       "      <td>0.0</td>\n",
       "      <td>1.0</td>\n",
       "      <td>3.0</td>\n",
       "      <td>5.0</td>\n",
       "      <td>10.0</td>\n",
       "    </tr>\n",
       "  </tbody>\n",
       "</table>\n",
       "</div>"
      ],
      "text/plain": [
       "                     count          mean           std     min      25%  \\\n",
       "Avg_Credit_Limit     660.0  34574.242424  37625.487804  3000.0  10000.0   \n",
       "Total_Credit_Cards   660.0      4.706061      2.167835     1.0      3.0   \n",
       "Total_visits_bank    660.0      2.403030      1.631813     0.0      1.0   \n",
       "Total_visits_online  660.0      2.606061      2.935724     0.0      1.0   \n",
       "Total_calls_made     660.0      3.583333      2.865317     0.0      1.0   \n",
       "\n",
       "                         50%      75%       max  \n",
       "Avg_Credit_Limit     18000.0  48000.0  200000.0  \n",
       "Total_Credit_Cards       5.0      6.0      10.0  \n",
       "Total_visits_bank        2.0      4.0       5.0  \n",
       "Total_visits_online      2.0      4.0      15.0  \n",
       "Total_calls_made         3.0      5.0      10.0  "
      ]
     },
     "execution_count": 347,
     "metadata": {},
     "output_type": "execute_result"
    }
   ],
   "source": [
    "# Data distribution and other metrics for different features\n",
    "bank_cc_cust.describe().transpose()"
   ]
  },
  {
   "cell_type": "markdown",
   "metadata": {},
   "source": [
    "**Observations-**   \n",
    "\n",
    "* Bank has provided average credit limit from 3k to 200K. Average 34.5K , mode only 18K. 75% is 48K. There are outliers.\n",
    "* Total credit cards range from 1 to 6, median is 2.\n",
    "* Total bank visits range from 0 to 5, median is 2.\n",
    "* Total online visits range from 0 to 15, median is 2. 75% is 4, looks like there are outliers\n",
    "* Total calls made range from 0 to 10, median is 3."
   ]
  },
  {
   "cell_type": "code",
   "execution_count": 348,
   "metadata": {},
   "outputs": [
    {
     "data": {
      "text/html": [
       "<div>\n",
       "<style scoped>\n",
       "    .dataframe tbody tr th:only-of-type {\n",
       "        vertical-align: middle;\n",
       "    }\n",
       "\n",
       "    .dataframe tbody tr th {\n",
       "        vertical-align: top;\n",
       "    }\n",
       "\n",
       "    .dataframe thead th {\n",
       "        text-align: right;\n",
       "    }\n",
       "</style>\n",
       "<table border=\"1\" class=\"dataframe\">\n",
       "  <thead>\n",
       "    <tr style=\"text-align: right;\">\n",
       "      <th></th>\n",
       "      <th>Avg_Credit_Limit</th>\n",
       "      <th>Total_Credit_Cards</th>\n",
       "      <th>Total_visits_bank</th>\n",
       "      <th>Total_visits_online</th>\n",
       "      <th>Total_calls_made</th>\n",
       "    </tr>\n",
       "  </thead>\n",
       "  <tbody>\n",
       "    <tr>\n",
       "      <th>0</th>\n",
       "      <td>100000</td>\n",
       "      <td>2</td>\n",
       "      <td>1</td>\n",
       "      <td>1</td>\n",
       "      <td>0</td>\n",
       "    </tr>\n",
       "    <tr>\n",
       "      <th>1</th>\n",
       "      <td>50000</td>\n",
       "      <td>3</td>\n",
       "      <td>0</td>\n",
       "      <td>10</td>\n",
       "      <td>9</td>\n",
       "    </tr>\n",
       "    <tr>\n",
       "      <th>2</th>\n",
       "      <td>50000</td>\n",
       "      <td>7</td>\n",
       "      <td>1</td>\n",
       "      <td>3</td>\n",
       "      <td>4</td>\n",
       "    </tr>\n",
       "    <tr>\n",
       "      <th>3</th>\n",
       "      <td>30000</td>\n",
       "      <td>5</td>\n",
       "      <td>1</td>\n",
       "      <td>1</td>\n",
       "      <td>4</td>\n",
       "    </tr>\n",
       "    <tr>\n",
       "      <th>4</th>\n",
       "      <td>100000</td>\n",
       "      <td>6</td>\n",
       "      <td>0</td>\n",
       "      <td>12</td>\n",
       "      <td>3</td>\n",
       "    </tr>\n",
       "  </tbody>\n",
       "</table>\n",
       "</div>"
      ],
      "text/plain": [
       "   Avg_Credit_Limit  Total_Credit_Cards  Total_visits_bank  \\\n",
       "0            100000                   2                  1   \n",
       "1             50000                   3                  0   \n",
       "2             50000                   7                  1   \n",
       "3             30000                   5                  1   \n",
       "4            100000                   6                  0   \n",
       "\n",
       "   Total_visits_online  Total_calls_made  \n",
       "0                    1                 0  \n",
       "1                   10                 9  \n",
       "2                    3                 4  \n",
       "3                    1                 4  \n",
       "4                   12                 3  "
      ]
     },
     "execution_count": 348,
     "metadata": {},
     "output_type": "execute_result"
    }
   ],
   "source": [
    "bank_cc_cust.head()"
   ]
  },
  {
   "cell_type": "markdown",
   "metadata": {},
   "source": [
    "## EDA"
   ]
  },
  {
   "cell_type": "markdown",
   "metadata": {},
   "source": [
    "## Univariate Analysis Boxplot and Histogram"
   ]
  },
  {
   "cell_type": "code",
   "execution_count": 349,
   "metadata": {},
   "outputs": [],
   "source": [
    "# While doing uni-variate analysis of numerical variables we want to study their central tendency\n",
    "# and dispersion.\n",
    "# This function takes the numerical column as the input and returns the boxplots\n",
    "# and histograms for the variable.\n",
    "def histogram_boxplot(feature, figsize=(15, 10), bins=None):\n",
    "    \"\"\"Boxplot and histogram combined\n",
    "    feature: 1-d feature array\n",
    "    figsize: size of fig (default (9,8))\n",
    "    bins: number of bins (default None / auto)\n",
    "    \"\"\"\n",
    "    f2, (ax_box2, ax_hist2) = plt.subplots(\n",
    "        nrows=2,  # Number of rows of the subplot grid= 2\n",
    "        sharex=True,  # x-axis will be shared among all subplots\n",
    "        gridspec_kw={\"height_ratios\": (0.25, 0.75)},\n",
    "        figsize=figsize,\n",
    "    )  # creating the 2 subplots\n",
    "    sns.boxplot(\n",
    "        feature, ax=ax_box2, showmeans=True, color=\"violet\"\n",
    "    )  # boxplot will be created and a star will indicate the mean value of the column\n",
    "    sns.distplot(\n",
    "        feature, kde=F, ax=ax_hist2, bins=bins, palette=\"winter\"\n",
    "    ) if bins else sns.distplot(\n",
    "        feature, kde=False, ax=ax_hist2\n",
    "    )  # For histogram\n",
    "    ax_hist2.axvline(\n",
    "        np.mean(feature), color=\"green\", linestyle=\"--\"\n",
    "    )  # Add mean to the histogram\n",
    "    ax_hist2.axvline(\n",
    "        np.median(feature), color=\"black\", linestyle=\"-\"\n",
    "    )  # Add median to the histogram"
   ]
  },
  {
   "cell_type": "code",
   "execution_count": 350,
   "metadata": {},
   "outputs": [
    {
     "data": {
      "image/png": "[encoded data removed]",
      "text/plain": [
       "<Figure size 1080x720 with 2 Axes>"
      ]
     },
     "metadata": {
      "needs_background": "light"
     },
     "output_type": "display_data"
    }
   ],
   "source": [
    "## Observations on Avg_Credit_Limit\n",
    "histogram_boxplot(bank_cc_cust[\"Avg_Credit_Limit\"])"
   ]
  },
  {
   "cell_type": "markdown",
   "metadata": {},
   "source": [
    "### Observations\n",
    "\n",
    "- Average Credit limit is highly right skewed with many outliers. Average value for this variable is higher than mode, indicating most customers have  below average value for average credit limit"
   ]
  },
  {
   "cell_type": "code",
   "execution_count": 351,
   "metadata": {},
   "outputs": [
    {
     "data": {
      "image/png": "[encoded data removed]",
      "text/plain": [
       "<Figure size 1080x720 with 2 Axes>"
      ]
     },
     "metadata": {
      "needs_background": "light"
     },
     "output_type": "display_data"
    }
   ],
   "source": [
    "## Observations on Avg_Credit_Limit\n",
    "histogram_boxplot(bank_cc_cust[\"Total_visits_online\"])"
   ]
  },
  {
   "cell_type": "markdown",
   "metadata": {},
   "source": [
    "### Observations\n",
    "\n",
    "- Total Visits online has some outliers"
   ]
  },
  {
   "cell_type": "markdown",
   "metadata": {},
   "source": [
    "## Univariate Analysis - Count Plot"
   ]
  },
  {
   "cell_type": "code",
   "execution_count": 352,
   "metadata": {},
   "outputs": [
    {
     "data": {
      "image/png": "[encoded data removed]",
      "text/plain": [
       "<Figure size 432x288 with 1 Axes>"
      ]
     },
     "metadata": {
      "needs_background": "light"
     },
     "output_type": "display_data"
    },
    {
     "data": {
      "image/png": "[encoded data removed]",
      "text/plain": [
       "<Figure size 432x288 with 1 Axes>"
      ]
     },
     "metadata": {
      "needs_background": "light"
     },
     "output_type": "display_data"
    },
    {
     "data": {
      "image/png": "[encoded data removed]",
      "text/plain": [
       "<Figure size 432x288 with 1 Axes>"
      ]
     },
     "metadata": {
      "needs_background": "light"
     },
     "output_type": "display_data"
    },
    {
     "data": {
      "image/png": "[encoded data removed]",
      "text/plain": [
       "<Figure size 432x288 with 1 Axes>"
      ]
     },
     "metadata": {
      "needs_background": "light"
     },
     "output_type": "display_data"
    }
   ],
   "source": [
    "for i in bank_cc_cust.columns:\n",
    "    if i != 'Avg_Credit_Limit':\n",
    "        sns.countplot(x=i,data=bank_cc_cust)\n",
    "        plt.show()"
   ]
  },
  {
   "cell_type": "code",
   "execution_count": 353,
   "metadata": {},
   "outputs": [],
   "source": [
    "# Function to create barplots that indicate percentage for each category.\n",
    "\n",
    "def perc_on_bar(plot, feature):\n",
    "    '''\n",
    "    plot\n",
    "    feature: categorical feature\n",
    "    the function won't work if a column is passed in hue parameter\n",
    "    '''\n",
    "    total = len(feature) # length of the column\n",
    "    for p in ax.patches:\n",
    "        percentage = '{:.1f}%'.format(100 * p.get_height()/total) # percentage of each class of the category\n",
    "        x = p.get_x() + p.get_width() / 2 - 0.05 # width of the plot\n",
    "        y = p.get_y() + p.get_height()           # height of the plot\n",
    "        ax.annotate(percentage, (x, y), size = 12) # annotate the percantage \n",
    "    plt.show() # show the plot"
   ]
  },
  {
   "cell_type": "markdown",
   "metadata": {},
   "source": [
    "## Observations on Total_Credit_Cards"
   ]
  },
  {
   "cell_type": "code",
   "execution_count": 354,
   "metadata": {
    "scrolled": true
   },
   "outputs": [
    {
     "data": {
      "image/png": "[encoded data removed]",
      "text/plain": [
       "<Figure size 1080x360 with 1 Axes>"
      ]
     },
     "metadata": {
      "needs_background": "light"
     },
     "output_type": "display_data"
    }
   ],
   "source": [
    "#Plot barplot on Total_Credit_Cards by using sns count plot and calling the above function.\n",
    "plt.figure(figsize=(15,5))\n",
    "ax = sns.countplot(bank_cc_cust[\"Total_Credit_Cards\"],palette='winter')\n",
    "perc_on_bar(ax,bank_cc_cust[\"Total_Credit_Cards\"])"
   ]
  },
  {
   "cell_type": "markdown",
   "metadata": {},
   "source": [
    "### Insights\n",
    "* 22.9% of the customers have 4 credit cards. 8.9% have only 1. 2.9% have 10. Majority of customers have 4-7 credit card"
   ]
  },
  {
   "cell_type": "markdown",
   "metadata": {},
   "source": [
    "## Observations on Total_visits_bank"
   ]
  },
  {
   "cell_type": "code",
   "execution_count": 355,
   "metadata": {
    "scrolled": true
   },
   "outputs": [
    {
     "data": {
      "image/png": "[encoded data removed]",
      "text/plain": [
       "<Figure size 1080x360 with 1 Axes>"
      ]
     },
     "metadata": {
      "needs_background": "light"
     },
     "output_type": "display_data"
    }
   ],
   "source": [
    "#Plot barplot on Total_Credit_Cards by using sns count plot and calling the above function.\n",
    "plt.figure(figsize=(15,5))\n",
    "ax = sns.countplot(bank_cc_cust[\"Total_visits_bank\"],palette='winter')\n",
    "perc_on_bar(ax,bank_cc_cust[\"Total_visits_bank\"])"
   ]
  },
  {
   "cell_type": "markdown",
   "metadata": {},
   "source": [
    "### Insights\n",
    "* 23.9% of the customers had visited bank twice. 14.8% visited 5 times. 15.2% have never visited. Looks like an almost uniform distribution in this case."
   ]
  },
  {
   "cell_type": "markdown",
   "metadata": {},
   "source": [
    "## Observations on Total_visits_online"
   ]
  },
  {
   "cell_type": "code",
   "execution_count": 356,
   "metadata": {
    "scrolled": true
   },
   "outputs": [
    {
     "data": {
      "image/png": "[encoded data removed]",
      "text/plain": [
       "<Figure size 1080x360 with 1 Axes>"
      ]
     },
     "metadata": {
      "needs_background": "light"
     },
     "output_type": "display_data"
    }
   ],
   "source": [
    "#Plot barplot on Total_Credit_Cards by using sns count plot and calling the above function.\n",
    "plt.figure(figsize=(15,5))\n",
    "ax = sns.countplot(bank_cc_cust[\"Total_visits_online\"],palette='winter')\n",
    "perc_on_bar(ax,bank_cc_cust[\"Total_visits_online\"])"
   ]
  },
  {
   "cell_type": "markdown",
   "metadata": {},
   "source": [
    "### Insights\n",
    "* 28.6% of the customers have visited online twice. 1.5% visited 15 times. Most customers have visited less than or equal to 5 times. 21.8% never visted online. Looks like a right skewed distribution in this case."
   ]
  },
  {
   "cell_type": "markdown",
   "metadata": {},
   "source": [
    "## Observations on Total_calls_made"
   ]
  },
  {
   "cell_type": "code",
   "execution_count": 357,
   "metadata": {
    "scrolled": false
   },
   "outputs": [
    {
     "data": {
      "image/png": "[encoded data removed]",
      "text/plain": [
       "<Figure size 1080x360 with 1 Axes>"
      ]
     },
     "metadata": {
      "needs_background": "light"
     },
     "output_type": "display_data"
    }
   ],
   "source": [
    "#Plot barplot on Total_Credit_Cards by using sns count plot and calling the above function.\n",
    "plt.figure(figsize=(15,5))\n",
    "ax = sns.countplot(bank_cc_cust[\"Total_calls_made\"],palette='winter')\n",
    "perc_on_bar(ax,bank_cc_cust[\"Total_calls_made\"])"
   ]
  },
  {
   "cell_type": "markdown",
   "metadata": {},
   "source": [
    "### Insights\n",
    "* 16.4% of the customers made 4 calls. 3.9% made 10 calls. Most customers have made less than or equal to 4 calls. 14.7% never called. "
   ]
  },
  {
   "cell_type": "markdown",
   "metadata": {},
   "source": [
    "## Bivariate Analysis"
   ]
  },
  {
   "cell_type": "markdown",
   "metadata": {},
   "source": [
    "## Pair Plot to show the relation between features. \n",
    "## Diagonal of the Pair Plot will show the kernal density estimate (shape of data distribution) for a variable."
   ]
  },
  {
   "cell_type": "markdown",
   "metadata": {},
   "source": [
    " ### Kde can indicate how many gaussians are in the data distribution which may represent the number of customer segments"
   ]
  },
  {
   "cell_type": "code",
   "execution_count": 358,
   "metadata": {},
   "outputs": [
    {
     "data": {
      "image/png": "[encoded data removed]",
      "text/plain": [
       "<Figure size 900x900 with 30 Axes>"
      ]
     },
     "metadata": {
      "needs_background": "light"
     },
     "output_type": "display_data"
    }
   ],
   "source": [
    "plot=sns.pairplot(bank_cc_cust , diag_kind = 'kde')\n",
    "for ax in plt.gcf().axes:\n",
    "    l = ax.get_xlabel()\n",
    "#    ax.set_xlabel(l, fontsize=18)\n",
    "    m = ax.get_ylabel()\n",
    "#    ax.set_ylabel(m, fontsize=18)\n",
    "plt.show()"
   ]
  },
  {
   "cell_type": "markdown",
   "metadata": {},
   "source": [
    "### Insights\n",
    "* There seems to be no linear relation between most features except some positive relation between Avg_Credit_Limit and Total_Credit_cards, Avg_Credit_Limit and Total_visits_online as well as may be some between Total_visits_online and Total_Credit_cards.\n",
    "* The kernal density plots show multiple gaussians for Total_Credit_cards, Total_visits_bank, Total_calls_made and Avg_Credit_Limit"
   ]
  },
  {
   "cell_type": "markdown",
   "metadata": {},
   "source": [
    "## Heatmap of correlation between different numerical features."
   ]
  },
  {
   "cell_type": "code",
   "execution_count": 359,
   "metadata": {},
   "outputs": [
    {
     "data": {
      "image/png": "[encoded data removed]",
      "text/plain": [
       "<Figure size 720x576 with 2 Axes>"
      ]
     },
     "metadata": {
      "needs_background": "light"
     },
     "output_type": "display_data"
    }
   ],
   "source": [
    "# heatmap of correlation between different numerical features.\n",
    "# Darker the color higher the correlation\n",
    "plt.figure(figsize=(10,8))\n",
    "sns.heatmap(bank_cc_cust.corr(), annot=True, cmap=\"YlGnBu\",linewidths=.5, fmt= '.1f', center = 1 )  # heatmap\n",
    "plt.show()"
   ]
  },
  {
   "cell_type": "markdown",
   "metadata": {},
   "source": [
    "### Insights\n",
    "* The heatmap is actually showing some positive correlation between Avg_Credit_Limit and Total_Credit_cards as well as Avg_Credit_Limit and Total_visits_bank\n",
    "* There is negative correlation between Total_Credit_cards and Total_calls_made as well as Total_visits_online and Total_visits_bank"
   ]
  },
  {
   "cell_type": "markdown",
   "metadata": {},
   "source": [
    "## Illustrate the insights based on EDA"
   ]
  },
  {
   "cell_type": "markdown",
   "metadata": {},
   "source": [
    "   ####     The insights based on EDA are given throughout the EDA section above."
   ]
  },
  {
   "cell_type": "markdown",
   "metadata": {},
   "source": [
    "\n",
    "\n",
    "## Data Pre-processing\n"
   ]
  },
  {
   "cell_type": "markdown",
   "metadata": {},
   "source": [
    "**Prepare the data for analysis - Missing value Treatment, Outlier Detection, Feature Engineering, Duplicate observations check and removal if found**\n",
    "\n",
    "**Below many steps are preparing data and cleaning up, Outlier treatment etc.**"
   ]
  },
  {
   "cell_type": "markdown",
   "metadata": {},
   "source": [
    "### Identify Missing Values and treat if found"
   ]
  },
  {
   "cell_type": "code",
   "execution_count": 360,
   "metadata": {},
   "outputs": [
    {
     "data": {
      "text/plain": [
       "Index(['Avg_Credit_Limit', 'Total_Credit_Cards', 'Total_visits_bank',\n",
       "       'Total_visits_online', 'Total_calls_made'],\n",
       "      dtype='object')"
      ]
     },
     "execution_count": 360,
     "metadata": {},
     "output_type": "execute_result"
    }
   ],
   "source": [
    "#Listing columns\n",
    "bank_cc_cust.columns"
   ]
  },
  {
   "cell_type": "code",
   "execution_count": 361,
   "metadata": {},
   "outputs": [
    {
     "name": "stdout",
     "output_type": "stream",
     "text": [
      "Missing values in each column\n"
     ]
    },
    {
     "data": {
      "text/plain": [
       "Avg_Credit_Limit       0\n",
       "Total_Credit_Cards     0\n",
       "Total_visits_bank      0\n",
       "Total_visits_online    0\n",
       "Total_calls_made       0\n",
       "dtype: int64"
      ]
     },
     "execution_count": 361,
     "metadata": {},
     "output_type": "execute_result"
    }
   ],
   "source": [
    "#Checking for Nulls\n",
    "print(\"Missing values in each column\")\n",
    "bank_cc_cust.isnull().sum()"
   ]
  },
  {
   "cell_type": "code",
   "execution_count": 362,
   "metadata": {},
   "outputs": [
    {
     "data": {
      "text/plain": [
       "array([ 2,  3,  7,  5,  6,  4,  1,  9,  8, 10], dtype=int64)"
      ]
     },
     "execution_count": 362,
     "metadata": {},
     "output_type": "execute_result"
    }
   ],
   "source": [
    "#checking unique values\n",
    "bank_cc_cust[\"Total_Credit_Cards\"].unique()"
   ]
  },
  {
   "cell_type": "code",
   "execution_count": 363,
   "metadata": {},
   "outputs": [
    {
     "data": {
      "text/plain": [
       "array([1, 0, 2, 5, 3, 4], dtype=int64)"
      ]
     },
     "execution_count": 363,
     "metadata": {},
     "output_type": "execute_result"
    }
   ],
   "source": [
    "#checking unique values\n",
    "bank_cc_cust[\"Total_visits_bank\"].unique()"
   ]
  },
  {
   "cell_type": "code",
   "execution_count": 364,
   "metadata": {},
   "outputs": [
    {
     "data": {
      "text/plain": [
       "array([ 1, 10,  3, 12, 11,  2,  5,  4,  0, 14,  7, 13, 15,  6,  8,  9],\n",
       "      dtype=int64)"
      ]
     },
     "execution_count": 364,
     "metadata": {},
     "output_type": "execute_result"
    }
   ],
   "source": [
    "#checking unique values\n",
    "bank_cc_cust[\"Total_visits_online\"].unique()"
   ]
  },
  {
   "cell_type": "code",
   "execution_count": 365,
   "metadata": {},
   "outputs": [
    {
     "data": {
      "text/plain": [
       "array([ 0,  9,  4,  3,  8,  2,  1,  7,  5,  6, 10], dtype=int64)"
      ]
     },
     "execution_count": 365,
     "metadata": {},
     "output_type": "execute_result"
    }
   ],
   "source": [
    "#checking unique values\n",
    "bank_cc_cust[\"Total_calls_made\"].unique()"
   ]
  },
  {
   "cell_type": "markdown",
   "metadata": {},
   "source": [
    "#### Insights:\n",
    "- No missing Values, nulls or odd values are found\n",
    "- So no treatment is needed."
   ]
  },
  {
   "cell_type": "markdown",
   "metadata": {},
   "source": [
    "### Identify duplicates and drop if found"
   ]
  },
  {
   "cell_type": "code",
   "execution_count": 366,
   "metadata": {},
   "outputs": [
    {
     "data": {
      "text/plain": [
       "11"
      ]
     },
     "execution_count": 366,
     "metadata": {},
     "output_type": "execute_result"
    }
   ],
   "source": [
    "#Duplicated\n",
    "df=bank_cc_cust.duplicated()\n",
    "df.sum()"
   ]
  },
  {
   "cell_type": "code",
   "execution_count": 367,
   "metadata": {},
   "outputs": [
    {
     "data": {
      "text/plain": [
       "(660, 5)"
      ]
     },
     "execution_count": 367,
     "metadata": {},
     "output_type": "execute_result"
    }
   ],
   "source": [
    "#Size of data before dropping duplicates\n",
    "bank_cc_cust.shape"
   ]
  },
  {
   "cell_type": "code",
   "execution_count": 368,
   "metadata": {},
   "outputs": [],
   "source": [
    "#Dropping duplicates\n",
    "bank_cc_cust= bank_cc_cust.drop_duplicates()"
   ]
  },
  {
   "cell_type": "code",
   "execution_count": 369,
   "metadata": {},
   "outputs": [
    {
     "data": {
      "text/plain": [
       "0"
      ]
     },
     "execution_count": 369,
     "metadata": {},
     "output_type": "execute_result"
    }
   ],
   "source": [
    "# Checking to make sure if Duplicates are removed \n",
    "df=bank_cc_cust.duplicated()\n",
    "df.sum()"
   ]
  },
  {
   "cell_type": "code",
   "execution_count": 370,
   "metadata": {},
   "outputs": [
    {
     "data": {
      "text/plain": [
       "(649, 5)"
      ]
     },
     "execution_count": 370,
     "metadata": {},
     "output_type": "execute_result"
    }
   ],
   "source": [
    "#Size of data after dropping duplicates\n",
    "bank_cc_cust.shape"
   ]
  },
  {
   "cell_type": "markdown",
   "metadata": {},
   "source": [
    "#### Insights:\n",
    "- There were 11 duplicates\n",
    "- they were dropped."
   ]
  },
  {
   "cell_type": "markdown",
   "metadata": {},
   "source": [
    "### Outlier Treatment"
   ]
  },
  {
   "cell_type": "code",
   "execution_count": 371,
   "metadata": {},
   "outputs": [],
   "source": [
    "#Making a copy of the dataframe\n",
    "bank_data = bank_cc_cust.copy()"
   ]
  },
  {
   "cell_type": "code",
   "execution_count": 372,
   "metadata": {},
   "outputs": [
    {
     "data": {
      "text/plain": [
       "Avg_Credit_Limit       2.186592\n",
       "Total_Credit_Cards     0.150120\n",
       "Total_visits_bank      0.149368\n",
       "Total_visits_online    2.209521\n",
       "Total_calls_made       0.656954\n",
       "dtype: float64"
      ]
     },
     "execution_count": 372,
     "metadata": {},
     "output_type": "execute_result"
    }
   ],
   "source": [
    "bank_data.skew()"
   ]
  },
  {
   "cell_type": "markdown",
   "metadata": {},
   "source": [
    "### Using log function to treat outliers for 2 highly skewed features"
   ]
  },
  {
   "cell_type": "code",
   "execution_count": 373,
   "metadata": {},
   "outputs": [],
   "source": [
    "# Log transformation of a skewed field (with outliers) using numpy log function\n",
    "bank_data['Avg_Credit_Limit'] = np.log(bank_data['Avg_Credit_Limit'])"
   ]
  },
  {
   "cell_type": "code",
   "execution_count": 374,
   "metadata": {},
   "outputs": [
    {
     "data": {
      "text/plain": [
       "0      11.512925\n",
       "1      10.819778\n",
       "2      10.819778\n",
       "3      10.308953\n",
       "4      11.512925\n",
       "         ...    \n",
       "655    11.502875\n",
       "656    11.338572\n",
       "657    11.884489\n",
       "658    12.055250\n",
       "659    12.025749\n",
       "Name: Avg_Credit_Limit, Length: 649, dtype: float64"
      ]
     },
     "execution_count": 374,
     "metadata": {},
     "output_type": "execute_result"
    }
   ],
   "source": [
    "#Checking values after applying log function\n",
    "bank_data['Avg_Credit_Limit']"
   ]
  },
  {
   "cell_type": "code",
   "execution_count": 375,
   "metadata": {},
   "outputs": [
    {
     "data": {
      "text/plain": [
       "0      100000\n",
       "1       50000\n",
       "2       50000\n",
       "3       30000\n",
       "4      100000\n",
       "        ...  \n",
       "655     99000\n",
       "656     84000\n",
       "657    145000\n",
       "658    172000\n",
       "659    167000\n",
       "Name: Avg_Credit_Limit, Length: 649, dtype: int64"
      ]
     },
     "execution_count": 375,
     "metadata": {},
     "output_type": "execute_result"
    }
   ],
   "source": [
    "#Checking values in the original datset to see the original values before applying log function\n",
    "bank_cc_cust['Avg_Credit_Limit']"
   ]
  },
  {
   "cell_type": "code",
   "execution_count": 376,
   "metadata": {},
   "outputs": [],
   "source": [
    "# Log transformation of a skewed field (with outliers) using numpy log function\n",
    "bank_data['Total_visits_online'] = np.log(bank_data['Avg_Credit_Limit'])"
   ]
  },
  {
   "cell_type": "code",
   "execution_count": 377,
   "metadata": {},
   "outputs": [
    {
     "data": {
      "text/plain": [
       "0      2.443470\n",
       "1      2.381376\n",
       "2      2.381376\n",
       "3      2.333013\n",
       "4      2.443470\n",
       "         ...   \n",
       "655    2.442597\n",
       "656    2.428210\n",
       "657    2.475234\n",
       "658    2.489500\n",
       "659    2.487050\n",
       "Name: Total_visits_online, Length: 649, dtype: float64"
      ]
     },
     "execution_count": 377,
     "metadata": {},
     "output_type": "execute_result"
    }
   ],
   "source": [
    "#Checking values after applying log function\n",
    "bank_data['Total_visits_online']"
   ]
  },
  {
   "cell_type": "code",
   "execution_count": 378,
   "metadata": {},
   "outputs": [
    {
     "data": {
      "text/plain": [
       "0       1\n",
       "1      10\n",
       "2       3\n",
       "3       1\n",
       "4      12\n",
       "       ..\n",
       "655    10\n",
       "656    13\n",
       "657     9\n",
       "658    15\n",
       "659    12\n",
       "Name: Total_visits_online, Length: 649, dtype: int64"
      ]
     },
     "execution_count": 378,
     "metadata": {},
     "output_type": "execute_result"
    }
   ],
   "source": [
    "#Checking values in the original datset to see the original values before applying log function\n",
    "bank_cc_cust['Total_visits_online']"
   ]
  },
  {
   "cell_type": "markdown",
   "metadata": {},
   "source": [
    "### Apply zscore to standardize data"
   ]
  },
  {
   "cell_type": "code",
   "execution_count": 379,
   "metadata": {},
   "outputs": [],
   "source": [
    "#Apply standardization to both original and outlier-treated  data.\n",
    "bank_data_sd = bank_data.apply(zscore)\n",
    "bank_cc_data_sd = bank_cc_cust.apply(zscore)"
   ]
  },
  {
   "cell_type": "code",
   "execution_count": 380,
   "metadata": {},
   "outputs": [
    {
     "data": {
      "text/html": [
       "<div>\n",
       "<style scoped>\n",
       "    .dataframe tbody tr th:only-of-type {\n",
       "        vertical-align: middle;\n",
       "    }\n",
       "\n",
       "    .dataframe tbody tr th {\n",
       "        vertical-align: top;\n",
       "    }\n",
       "\n",
       "    .dataframe thead th {\n",
       "        text-align: right;\n",
       "    }\n",
       "</style>\n",
       "<table border=\"1\" class=\"dataframe\">\n",
       "  <thead>\n",
       "    <tr style=\"text-align: right;\">\n",
       "      <th></th>\n",
       "      <th>Avg_Credit_Limit</th>\n",
       "      <th>Total_Credit_Cards</th>\n",
       "      <th>Total_visits_bank</th>\n",
       "      <th>Total_visits_online</th>\n",
       "      <th>Total_calls_made</th>\n",
       "    </tr>\n",
       "  </thead>\n",
       "  <tbody>\n",
       "    <tr>\n",
       "      <th>0</th>\n",
       "      <td>11.512925</td>\n",
       "      <td>2</td>\n",
       "      <td>1</td>\n",
       "      <td>2.443470</td>\n",
       "      <td>0</td>\n",
       "    </tr>\n",
       "    <tr>\n",
       "      <th>1</th>\n",
       "      <td>10.819778</td>\n",
       "      <td>3</td>\n",
       "      <td>0</td>\n",
       "      <td>2.381376</td>\n",
       "      <td>9</td>\n",
       "    </tr>\n",
       "    <tr>\n",
       "      <th>2</th>\n",
       "      <td>10.819778</td>\n",
       "      <td>7</td>\n",
       "      <td>1</td>\n",
       "      <td>2.381376</td>\n",
       "      <td>4</td>\n",
       "    </tr>\n",
       "    <tr>\n",
       "      <th>3</th>\n",
       "      <td>10.308953</td>\n",
       "      <td>5</td>\n",
       "      <td>1</td>\n",
       "      <td>2.333013</td>\n",
       "      <td>4</td>\n",
       "    </tr>\n",
       "    <tr>\n",
       "      <th>4</th>\n",
       "      <td>11.512925</td>\n",
       "      <td>6</td>\n",
       "      <td>0</td>\n",
       "      <td>2.443470</td>\n",
       "      <td>3</td>\n",
       "    </tr>\n",
       "  </tbody>\n",
       "</table>\n",
       "</div>"
      ],
      "text/plain": [
       "   Avg_Credit_Limit  Total_Credit_Cards  Total_visits_bank  \\\n",
       "0         11.512925                   2                  1   \n",
       "1         10.819778                   3                  0   \n",
       "2         10.819778                   7                  1   \n",
       "3         10.308953                   5                  1   \n",
       "4         11.512925                   6                  0   \n",
       "\n",
       "   Total_visits_online  Total_calls_made  \n",
       "0             2.443470                 0  \n",
       "1             2.381376                 9  \n",
       "2             2.381376                 4  \n",
       "3             2.333013                 4  \n",
       "4             2.443470                 3  "
      ]
     },
     "execution_count": 380,
     "metadata": {},
     "output_type": "execute_result"
    }
   ],
   "source": [
    "#Checking top 10 rows of stndardized dataset.\n",
    "bank_data.head()"
   ]
  },
  {
   "cell_type": "markdown",
   "metadata": {},
   "source": [
    "## Customer Segmentation\n",
    "\n",
    "## Applying K-means clustering algorithms\n"
   ]
  },
  {
   "cell_type": "markdown",
   "metadata": {},
   "source": [
    "## Group Data into similar clusters\n",
    "\n",
    "Now, we will use K-Means clustering to group data based on their attribute. First, we need to determine the optimal number of groups. For that we conduct the knee test to see where the knee happens."
   ]
  },
  {
   "cell_type": "code",
   "execution_count": 381,
   "metadata": {},
   "outputs": [
    {
     "name": "stdout",
     "output_type": "stream",
     "text": [
      "Wall time: 0 ns\n",
      "Number of Clusters: 1 \tAverage Distortion: 2.1130980242190023\n",
      "Number of Clusters: 2 \tAverage Distortion: 1.5116927659909714\n",
      "Number of Clusters: 3 \tAverage Distortion: 1.2492879355842816\n",
      "Number of Clusters: 4 \tAverage Distortion: 1.0965946791216508\n",
      "Number of Clusters: 5 \tAverage Distortion: 1.0378632431329902\n",
      "Number of Clusters: 6 \tAverage Distortion: 0.9832649366576831\n",
      "Number of Clusters: 7 \tAverage Distortion: 0.9391312213939684\n",
      "Number of Clusters: 8 \tAverage Distortion: 0.901569176589822\n"
     ]
    },
    {
     "data": {
      "text/plain": [
       "Text(0.5, 1.0, 'Selecting k with the Elbow Method')"
      ]
     },
     "execution_count": 381,
     "metadata": {},
     "output_type": "execute_result"
    },
    {
     "data": {
      "image/png": "[encoded data removed]",
      "text/plain": [
       "<Figure size 432x288 with 1 Axes>"
      ]
     },
     "metadata": {
      "needs_background": "light"
     },
     "output_type": "display_data"
    }
   ],
   "source": [
    "#Finding optimal no. of clusters(K) for K Means algorithm by calculating distortions for each value.\n",
    "#Then plot the elbow diagram to identify the right value of clusters.\n",
    "%time\n",
    "from scipy.spatial.distance import cdist\n",
    "clusters=range(1,9)\n",
    "meanDistortions=[]\n",
    "\n",
    "for k in clusters:\n",
    "    model=KMeans(n_clusters=k)\n",
    "    model.fit(bank_data_sd)\n",
    "    prediction=model.predict(bank_data_sd)\n",
    "    distortion=sum(np.min(cdist(bank_data_sd, model.cluster_centers_, 'euclidean'), axis=1)) / bank_data_sd.shape[0]\n",
    "                           \n",
    "    meanDistortions.append(distortion)\n",
    "\n",
    "    print('Number of Clusters:', k, '\\tAverage Distortion:', distortion)\n",
    "\n",
    "plt.plot(clusters, meanDistortions, 'bx-')\n",
    "plt.xlabel('k')\n",
    "plt.ylabel('Average distortion')\n",
    "plt.title('Selecting k with the Elbow Method')"
   ]
  },
  {
   "cell_type": "markdown",
   "metadata": {},
   "source": [
    "#### Though the bend is not coming out clearly as there are many bends, let us look at 4 clusters and 5 clusters"
   ]
  },
  {
   "cell_type": "code",
   "execution_count": 382,
   "metadata": {},
   "outputs": [
    {
     "name": "stdout",
     "output_type": "stream",
     "text": [
      "For n_clusters = 2, silhouette score is 0.40968140163969213)\n",
      "For n_clusters = 3, silhouette score is 0.39628672275395166)\n",
      "For n_clusters = 4, silhouette score is 0.42175960136744406)\n",
      "For n_clusters = 5, silhouette score is 0.3670839529867925)\n",
      "For n_clusters = 6, silhouette score is 0.28152498743883336)\n",
      "For n_clusters = 7, silhouette score is 0.26941401038080026)\n",
      "For n_clusters = 8, silhouette score is 0.27150916774129163)\n",
      "For n_clusters = 9, silhouette score is 0.26849535965886034)\n"
     ]
    },
    {
     "data": {
      "image/png": "[encoded data removed]",
      "text/plain": [
       "<Figure size 432x288 with 1 Axes>"
      ]
     },
     "metadata": {
      "needs_background": "light"
     },
     "output_type": "display_data"
    }
   ],
   "source": [
    "# let's also look into the Silhouette scores for the different number of clusters for K Means and plot it.\n",
    "sil_score = []\n",
    "cluster_list = list(range(2,10))\n",
    "for n_clusters in cluster_list:\n",
    "    clusterer = KMeans(n_clusters=n_clusters)\n",
    "    preds = clusterer.fit_predict((bank_data_sd))\n",
    "    #centers = clusterer.cluster_centers_\n",
    "    score = silhouette_score(bank_data_sd, preds)\n",
    "    sil_score.append(score)\n",
    "    print(\"For n_clusters = {}, silhouette score is {})\".format(n_clusters, score))\n",
    "\n",
    "plt.plot(cluster_list,sil_score)\n",
    "plt.grid()"
   ]
  },
  {
   "cell_type": "markdown",
   "metadata": {},
   "source": [
    "**Silhouette score for 4 is high at 0.42, so we can choose 4 as value of k.**"
   ]
  },
  {
   "cell_type": "markdown",
   "metadata": {},
   "source": [
    "### Let's also build KMeans model using the standardized data from original data that was not treated for outliers."
   ]
  },
  {
   "cell_type": "code",
   "execution_count": 383,
   "metadata": {},
   "outputs": [
    {
     "name": "stdout",
     "output_type": "stream",
     "text": [
      "Number of Clusters: 1 \tAverage Distortion: 2.007896349270688\n",
      "Number of Clusters: 2 \tAverage Distortion: 1.4576197022077821\n",
      "Number of Clusters: 3 \tAverage Distortion: 1.1434401208195095\n",
      "Number of Clusters: 4 \tAverage Distortion: 1.0435538595477063\n",
      "Number of Clusters: 5 \tAverage Distortion: 0.9877896646529043\n",
      "Number of Clusters: 6 \tAverage Distortion: 0.9402502578440572\n",
      "Number of Clusters: 7 \tAverage Distortion: 0.9072780110692937\n",
      "Number of Clusters: 8 \tAverage Distortion: 0.8866501706447956\n"
     ]
    },
    {
     "data": {
      "text/plain": [
       "Text(0.5, 1.0, 'Selecting k with the Elbow Method')"
      ]
     },
     "execution_count": 383,
     "metadata": {},
     "output_type": "execute_result"
    },
    {
     "data": {
      "image/png": "[encoded data removed]",
      "text/plain": [
       "<Figure size 432x288 with 1 Axes>"
      ]
     },
     "metadata": {
      "needs_background": "light"
     },
     "output_type": "display_data"
    }
   ],
   "source": [
    "#Finding optimal no. of clusters(K) for K Means algorithm by calculating distortions for each value.\n",
    "#Then plot the elbow diagram to identify the right value of clusters.\n",
    "\n",
    "from scipy.spatial.distance import cdist\n",
    "clusters=range(1,9)\n",
    "meanDistortions=[]\n",
    "\n",
    "for k in clusters:\n",
    "    model=KMeans(n_clusters=k)\n",
    "    model.fit(bank_cc_data_sd)\n",
    "    prediction=model.predict(bank_cc_data_sd)\n",
    "    distortion=sum(np.min(cdist(bank_cc_data_sd, model.cluster_centers_, 'euclidean'), axis=1)) / bank_cc_data_sd.shape[0]\n",
    "                           \n",
    "    meanDistortions.append(distortion)\n",
    "\n",
    "    print('Number of Clusters:', k, '\\tAverage Distortion:', distortion)\n",
    "\n",
    "plt.plot(clusters, meanDistortions, 'bx-')\n",
    "plt.xlabel('k')\n",
    "plt.ylabel('Average distortion')\n",
    "plt.title('Selecting k with the Elbow Method')"
   ]
  },
  {
   "cell_type": "markdown",
   "metadata": {},
   "source": [
    "#### Though the bend is not coming out clearly as there are many bends, let us look at 3 clusters and 4 clusters"
   ]
  },
  {
   "cell_type": "code",
   "execution_count": 384,
   "metadata": {},
   "outputs": [
    {
     "name": "stdout",
     "output_type": "stream",
     "text": [
      "For n_clusters = 2, silhouette score is 0.41800025566689647)\n",
      "For n_clusters = 3, silhouette score is 0.516281010855363)\n",
      "For n_clusters = 4, silhouette score is 0.3570238219413198)\n",
      "For n_clusters = 5, silhouette score is 0.2724770023074787)\n",
      "For n_clusters = 6, silhouette score is 0.25657401018799436)\n",
      "For n_clusters = 7, silhouette score is 0.24850772311914635)\n",
      "For n_clusters = 8, silhouette score is 0.22599570972997055)\n",
      "For n_clusters = 9, silhouette score is 0.22721945090756407)\n"
     ]
    },
    {
     "data": {
      "image/png": "[encoded data removed]",
      "text/plain": [
       "<Figure size 432x288 with 1 Axes>"
      ]
     },
     "metadata": {
      "needs_background": "light"
     },
     "output_type": "display_data"
    }
   ],
   "source": [
    "# let's also look into the Silhouette scores for the different number of clusters for K Means and plot it.\n",
    "# This time using the standardized data from original data that was not treated for outliers\n",
    "sil_score = []\n",
    "cluster_list = list(range(2,10))\n",
    "for n_clusters in cluster_list:\n",
    "    clusterer = KMeans(n_clusters=n_clusters)\n",
    "    preds = clusterer.fit_predict((bank_cc_data_sd))\n",
    "    #centers = clusterer.cluster_centers_\n",
    "    score = silhouette_score(bank_cc_data_sd, preds)\n",
    "    sil_score.append(score)\n",
    "    print(\"For n_clusters = {}, silhouette score is {})\".format(n_clusters, score))\n",
    "\n",
    "plt.plot(cluster_list,sil_score)\n",
    "plt.grid()"
   ]
  },
  {
   "cell_type": "markdown",
   "metadata": {},
   "source": [
    "**Silhouette score even higher with untreated outliers for 3 clusters at  0.51, so we will choose 3 as value of k. We will also use standardized data using data that was not treated for outliers for further segmentation. I believe z Score Standardization itself takes care of some of the issues with outliers**"
   ]
  },
  {
   "cell_type": "code",
   "execution_count": 385,
   "metadata": {},
   "outputs": [],
   "source": [
    "#Importing necessary modules. Installed yellowbrick, Commented out the code to avoid installing again.\n",
    "##!pip install yellowbrick\n",
    "from yellowbrick.cluster import KElbowVisualizer, SilhouetteVisualizer"
   ]
  },
  {
   "cell_type": "code",
   "execution_count": 386,
   "metadata": {
    "scrolled": true
   },
   "outputs": [
    {
     "data": {
      "image/png": "[encoded data removed]",
      "text/plain": [
       "<Figure size 432x288 with 1 Axes>"
      ]
     },
     "metadata": {
      "needs_background": "light"
     },
     "output_type": "display_data"
    }
   ],
   "source": [
    "# Finding optimal no. of clusters with silhouette coefficients\n",
    "visualizer = SilhouetteVisualizer(KMeans(3, random_state = 1))\n",
    "visualizer.fit(bank_cc_data_sd)    \n",
    "visualizer.show();"
   ]
  },
  {
   "cell_type": "code",
   "execution_count": 387,
   "metadata": {},
   "outputs": [
    {
     "data": {
      "image/png": "[encoded data removed]",
      "text/plain": [
       "<Figure size 432x288 with 1 Axes>"
      ]
     },
     "metadata": {
      "needs_background": "light"
     },
     "output_type": "display_data"
    }
   ],
   "source": [
    "# Finding optimal no. of clusters with silhouette coefficients\n",
    "visualizer = SilhouetteVisualizer(KMeans(4, random_state = 1))\n",
    "visualizer.fit(bank_cc_data_sd)    \n",
    "visualizer.show();"
   ]
  },
  {
   "cell_type": "markdown",
   "metadata": {},
   "source": [
    "**Silhouette score is higher at 0.51 for 3 clusters as opposed to 0.35 for 4 and 0.41 for 2, so we will choose 3 as value of k. data distribution is not entirely uniform  for both 3 and 4 clusters.**"
   ]
  },
  {
   "cell_type": "code",
   "execution_count": 388,
   "metadata": {},
   "outputs": [
    {
     "name": "stdout",
     "output_type": "stream",
     "text": [
      "Wall time: 0 ns\n"
     ]
    },
    {
     "data": {
      "text/plain": [
       "KMeans(n_clusters=3, random_state=0)"
      ]
     },
     "execution_count": 388,
     "metadata": {},
     "output_type": "execute_result"
    }
   ],
   "source": [
    "# lets us take 3 as number of clusters and build final KMeans model\n",
    "%time\n",
    "kmeans = KMeans(n_clusters=3, random_state=0)\n",
    "kmeans.fit(bank_cc_data_sd)"
   ]
  },
  {
   "cell_type": "code",
   "execution_count": 389,
   "metadata": {},
   "outputs": [],
   "source": [
    "# Making copies of both original and standardized dataframes\n",
    "bank_data_km = bank_cc_cust.copy()\n",
    "df_sd = bank_cc_data_sd.copy()"
   ]
  },
  {
   "cell_type": "code",
   "execution_count": 390,
   "metadata": {},
   "outputs": [],
   "source": [
    "# Adding segment labels generated by K Means to the dataset.\n",
    "bank_data_km['K_means_segments'] = kmeans.labels_\n",
    "bank_cc_data_sd['K_means_segments'] = kmeans.labels_"
   ]
  },
  {
   "cell_type": "code",
   "execution_count": 391,
   "metadata": {},
   "outputs": [
    {
     "data": {
      "text/html": [
       "<div>\n",
       "<style scoped>\n",
       "    .dataframe tbody tr th:only-of-type {\n",
       "        vertical-align: middle;\n",
       "    }\n",
       "\n",
       "    .dataframe tbody tr th {\n",
       "        vertical-align: top;\n",
       "    }\n",
       "\n",
       "    .dataframe thead th {\n",
       "        text-align: right;\n",
       "    }\n",
       "</style>\n",
       "<table border=\"1\" class=\"dataframe\">\n",
       "  <thead>\n",
       "    <tr style=\"text-align: right;\">\n",
       "      <th></th>\n",
       "      <th>Avg_Credit_Limit</th>\n",
       "      <th>Total_Credit_Cards</th>\n",
       "      <th>Total_visits_bank</th>\n",
       "      <th>Total_visits_online</th>\n",
       "      <th>Total_calls_made</th>\n",
       "      <th>K_means_segments</th>\n",
       "    </tr>\n",
       "  </thead>\n",
       "  <tbody>\n",
       "    <tr>\n",
       "      <th>0</th>\n",
       "      <td>100000</td>\n",
       "      <td>2</td>\n",
       "      <td>1</td>\n",
       "      <td>1</td>\n",
       "      <td>0</td>\n",
       "      <td>1</td>\n",
       "    </tr>\n",
       "    <tr>\n",
       "      <th>1</th>\n",
       "      <td>50000</td>\n",
       "      <td>3</td>\n",
       "      <td>0</td>\n",
       "      <td>10</td>\n",
       "      <td>9</td>\n",
       "      <td>2</td>\n",
       "    </tr>\n",
       "    <tr>\n",
       "      <th>2</th>\n",
       "      <td>50000</td>\n",
       "      <td>7</td>\n",
       "      <td>1</td>\n",
       "      <td>3</td>\n",
       "      <td>4</td>\n",
       "      <td>1</td>\n",
       "    </tr>\n",
       "    <tr>\n",
       "      <th>3</th>\n",
       "      <td>30000</td>\n",
       "      <td>5</td>\n",
       "      <td>1</td>\n",
       "      <td>1</td>\n",
       "      <td>4</td>\n",
       "      <td>1</td>\n",
       "    </tr>\n",
       "    <tr>\n",
       "      <th>4</th>\n",
       "      <td>100000</td>\n",
       "      <td>6</td>\n",
       "      <td>0</td>\n",
       "      <td>12</td>\n",
       "      <td>3</td>\n",
       "      <td>0</td>\n",
       "    </tr>\n",
       "  </tbody>\n",
       "</table>\n",
       "</div>"
      ],
      "text/plain": [
       "   Avg_Credit_Limit  Total_Credit_Cards  Total_visits_bank  \\\n",
       "0            100000                   2                  1   \n",
       "1             50000                   3                  0   \n",
       "2             50000                   7                  1   \n",
       "3             30000                   5                  1   \n",
       "4            100000                   6                  0   \n",
       "\n",
       "   Total_visits_online  Total_calls_made  K_means_segments  \n",
       "0                    1                 0                 1  \n",
       "1                   10                 9                 2  \n",
       "2                    3                 4                 1  \n",
       "3                    1                 4                 1  \n",
       "4                   12                 3                 0  "
      ]
     },
     "execution_count": 391,
     "metadata": {},
     "output_type": "execute_result"
    }
   ],
   "source": [
    "# Displaying first 5 rows showing segment labels.\n",
    "bank_data_km.head()"
   ]
  },
  {
   "cell_type": "code",
   "execution_count": 392,
   "metadata": {},
   "outputs": [],
   "source": [
    "# Calculating average and count for each cluster or customer segment\n",
    "kmcluster_profile = bank_data_km.groupby('K_means_segments').mean()\n",
    "kmcluster_profile['count_in_each_segments'] = bank_data_km.groupby('K_means_segments')['Total_visits_online'].count().values"
   ]
  },
  {
   "cell_type": "code",
   "execution_count": 393,
   "metadata": {},
   "outputs": [
    {
     "data": {
      "text/html": [
       "<style  type=\"text/css\" >\n",
       "#T_f64cabd7_b548_11eb_bff2_988d4682154erow0_col0,#T_f64cabd7_b548_11eb_bff2_988d4682154erow0_col1,#T_f64cabd7_b548_11eb_bff2_988d4682154erow0_col3,#T_f64cabd7_b548_11eb_bff2_988d4682154erow1_col2,#T_f64cabd7_b548_11eb_bff2_988d4682154erow1_col5,#T_f64cabd7_b548_11eb_bff2_988d4682154erow2_col4{\n",
       "            background-color:  lightgreen;\n",
       "        }</style><table id=\"T_f64cabd7_b548_11eb_bff2_988d4682154e\" ><thead>    <tr>        <th class=\"blank level0\" ></th>        <th class=\"col_heading level0 col0\" >Avg_Credit_Limit</th>        <th class=\"col_heading level0 col1\" >Total_Credit_Cards</th>        <th class=\"col_heading level0 col2\" >Total_visits_bank</th>        <th class=\"col_heading level0 col3\" >Total_visits_online</th>        <th class=\"col_heading level0 col4\" >Total_calls_made</th>        <th class=\"col_heading level0 col5\" >count_in_each_segments</th>    </tr>    <tr>        <th class=\"index_name level0\" >K_means_segments</th>        <th class=\"blank\" ></th>        <th class=\"blank\" ></th>        <th class=\"blank\" ></th>        <th class=\"blank\" ></th>        <th class=\"blank\" ></th>        <th class=\"blank\" ></th>    </tr></thead><tbody>\n",
       "                <tr>\n",
       "                        <th id=\"T_f64cabd7_b548_11eb_bff2_988d4682154elevel0_row0\" class=\"row_heading level0 row0\" >0</th>\n",
       "                        <td id=\"T_f64cabd7_b548_11eb_bff2_988d4682154erow0_col0\" class=\"data row0 col0\" >141040.000000</td>\n",
       "                        <td id=\"T_f64cabd7_b548_11eb_bff2_988d4682154erow0_col1\" class=\"data row0 col1\" >8.740000</td>\n",
       "                        <td id=\"T_f64cabd7_b548_11eb_bff2_988d4682154erow0_col2\" class=\"data row0 col2\" >0.600000</td>\n",
       "                        <td id=\"T_f64cabd7_b548_11eb_bff2_988d4682154erow0_col3\" class=\"data row0 col3\" >10.900000</td>\n",
       "                        <td id=\"T_f64cabd7_b548_11eb_bff2_988d4682154erow0_col4\" class=\"data row0 col4\" >1.080000</td>\n",
       "                        <td id=\"T_f64cabd7_b548_11eb_bff2_988d4682154erow0_col5\" class=\"data row0 col5\" >50</td>\n",
       "            </tr>\n",
       "            <tr>\n",
       "                        <th id=\"T_f64cabd7_b548_11eb_bff2_988d4682154elevel0_row1\" class=\"row_heading level0 row1\" >1</th>\n",
       "                        <td id=\"T_f64cabd7_b548_11eb_bff2_988d4682154erow1_col0\" class=\"data row1 col0\" >34071.428571</td>\n",
       "                        <td id=\"T_f64cabd7_b548_11eb_bff2_988d4682154erow1_col1\" class=\"data row1 col1\" >5.518519</td>\n",
       "                        <td id=\"T_f64cabd7_b548_11eb_bff2_988d4682154erow1_col2\" class=\"data row1 col2\" >3.484127</td>\n",
       "                        <td id=\"T_f64cabd7_b548_11eb_bff2_988d4682154erow1_col3\" class=\"data row1 col3\" >0.981481</td>\n",
       "                        <td id=\"T_f64cabd7_b548_11eb_bff2_988d4682154erow1_col4\" class=\"data row1 col4\" >1.992063</td>\n",
       "                        <td id=\"T_f64cabd7_b548_11eb_bff2_988d4682154erow1_col5\" class=\"data row1 col5\" >378</td>\n",
       "            </tr>\n",
       "            <tr>\n",
       "                        <th id=\"T_f64cabd7_b548_11eb_bff2_988d4682154elevel0_row2\" class=\"row_heading level0 row2\" >2</th>\n",
       "                        <td id=\"T_f64cabd7_b548_11eb_bff2_988d4682154erow2_col0\" class=\"data row2 col0\" >12239.819005</td>\n",
       "                        <td id=\"T_f64cabd7_b548_11eb_bff2_988d4682154erow2_col1\" class=\"data row2 col1\" >2.411765</td>\n",
       "                        <td id=\"T_f64cabd7_b548_11eb_bff2_988d4682154erow2_col2\" class=\"data row2 col2\" >0.945701</td>\n",
       "                        <td id=\"T_f64cabd7_b548_11eb_bff2_988d4682154erow2_col3\" class=\"data row2 col3\" >3.561086</td>\n",
       "                        <td id=\"T_f64cabd7_b548_11eb_bff2_988d4682154erow2_col4\" class=\"data row2 col4\" >6.891403</td>\n",
       "                        <td id=\"T_f64cabd7_b548_11eb_bff2_988d4682154erow2_col5\" class=\"data row2 col5\" >221</td>\n",
       "            </tr>\n",
       "    </tbody></table>"
      ],
      "text/plain": [
       "<pandas.io.formats.style.Styler at 0x222502b1b50>"
      ]
     },
     "execution_count": 393,
     "metadata": {},
     "output_type": "execute_result"
    }
   ],
   "source": [
    "# lets display cluster profile showing cluster averages for each numeric feature. Max values are highlighted in green\n",
    "kmcluster_profile.style.highlight_max(color = 'lightgreen', axis = 0)"
   ]
  },
  {
   "cell_type": "code",
   "execution_count": 394,
   "metadata": {},
   "outputs": [
    {
     "data": {
      "image/png": "[encoded data removed]",
      "text/plain": [
       "<Figure size 1152x432 with 5 Axes>"
      ]
     },
     "metadata": {
      "needs_background": "light"
     },
     "output_type": "display_data"
    }
   ],
   "source": [
    "## Showing data distribution for all numerical variables for different segments in box plot. This is showing scaled data.\n",
    "all_col = bank_cc_cust.columns.tolist()\n",
    "fig, axes = plt.subplots(1, 5,  figsize=(16, 6))\n",
    "fig.suptitle('Boxplot of numerical variables for each cluster', fontsize=20)\n",
    "counter = 0\n",
    "for ii in range(5):\n",
    "    sns.boxplot(ax=axes[ii],y=bank_cc_data_sd[all_col[counter]],x=bank_cc_data_sd['K_means_segments'])\n",
    "    counter = counter+1\n",
    "\n",
    "fig.tight_layout(pad=2.0)"
   ]
  },
  {
   "cell_type": "code",
   "execution_count": 395,
   "metadata": {},
   "outputs": [],
   "source": [
    "# Merging the dataset with segment labels with original dataset having customer keys \n",
    "# so  we can see which cutomer is in which segment.\n",
    "bank_cc_cust_merge=bank_cust.merge(bank_data_km, how='inner', on=None, left_index=True, \n",
    "                                right_index=True, sort=False) \n",
    "                                "
   ]
  },
  {
   "cell_type": "code",
   "execution_count": 396,
   "metadata": {},
   "outputs": [
    {
     "data": {
      "text/html": [
       "<div>\n",
       "<style scoped>\n",
       "    .dataframe tbody tr th:only-of-type {\n",
       "        vertical-align: middle;\n",
       "    }\n",
       "\n",
       "    .dataframe tbody tr th {\n",
       "        vertical-align: top;\n",
       "    }\n",
       "\n",
       "    .dataframe thead th {\n",
       "        text-align: right;\n",
       "    }\n",
       "</style>\n",
       "<table border=\"1\" class=\"dataframe\">\n",
       "  <thead>\n",
       "    <tr style=\"text-align: right;\">\n",
       "      <th></th>\n",
       "      <th>Sl_No</th>\n",
       "      <th>Customer Key</th>\n",
       "      <th>Avg_Credit_Limit_x</th>\n",
       "      <th>Total_Credit_Cards_x</th>\n",
       "      <th>Total_visits_bank_x</th>\n",
       "      <th>Total_visits_online_x</th>\n",
       "      <th>Total_calls_made_x</th>\n",
       "      <th>Avg_Credit_Limit_y</th>\n",
       "      <th>Total_Credit_Cards_y</th>\n",
       "      <th>Total_visits_bank_y</th>\n",
       "      <th>Total_visits_online_y</th>\n",
       "      <th>Total_calls_made_y</th>\n",
       "      <th>K_means_segments</th>\n",
       "    </tr>\n",
       "  </thead>\n",
       "  <tbody>\n",
       "    <tr>\n",
       "      <th>0</th>\n",
       "      <td>1</td>\n",
       "      <td>87073</td>\n",
       "      <td>100000</td>\n",
       "      <td>2</td>\n",
       "      <td>1</td>\n",
       "      <td>1</td>\n",
       "      <td>0</td>\n",
       "      <td>100000</td>\n",
       "      <td>2</td>\n",
       "      <td>1</td>\n",
       "      <td>1</td>\n",
       "      <td>0</td>\n",
       "      <td>1</td>\n",
       "    </tr>\n",
       "    <tr>\n",
       "      <th>1</th>\n",
       "      <td>2</td>\n",
       "      <td>38414</td>\n",
       "      <td>50000</td>\n",
       "      <td>3</td>\n",
       "      <td>0</td>\n",
       "      <td>10</td>\n",
       "      <td>9</td>\n",
       "      <td>50000</td>\n",
       "      <td>3</td>\n",
       "      <td>0</td>\n",
       "      <td>10</td>\n",
       "      <td>9</td>\n",
       "      <td>2</td>\n",
       "    </tr>\n",
       "    <tr>\n",
       "      <th>2</th>\n",
       "      <td>3</td>\n",
       "      <td>17341</td>\n",
       "      <td>50000</td>\n",
       "      <td>7</td>\n",
       "      <td>1</td>\n",
       "      <td>3</td>\n",
       "      <td>4</td>\n",
       "      <td>50000</td>\n",
       "      <td>7</td>\n",
       "      <td>1</td>\n",
       "      <td>3</td>\n",
       "      <td>4</td>\n",
       "      <td>1</td>\n",
       "    </tr>\n",
       "    <tr>\n",
       "      <th>3</th>\n",
       "      <td>4</td>\n",
       "      <td>40496</td>\n",
       "      <td>30000</td>\n",
       "      <td>5</td>\n",
       "      <td>1</td>\n",
       "      <td>1</td>\n",
       "      <td>4</td>\n",
       "      <td>30000</td>\n",
       "      <td>5</td>\n",
       "      <td>1</td>\n",
       "      <td>1</td>\n",
       "      <td>4</td>\n",
       "      <td>1</td>\n",
       "    </tr>\n",
       "    <tr>\n",
       "      <th>4</th>\n",
       "      <td>5</td>\n",
       "      <td>47437</td>\n",
       "      <td>100000</td>\n",
       "      <td>6</td>\n",
       "      <td>0</td>\n",
       "      <td>12</td>\n",
       "      <td>3</td>\n",
       "      <td>100000</td>\n",
       "      <td>6</td>\n",
       "      <td>0</td>\n",
       "      <td>12</td>\n",
       "      <td>3</td>\n",
       "      <td>0</td>\n",
       "    </tr>\n",
       "  </tbody>\n",
       "</table>\n",
       "</div>"
      ],
      "text/plain": [
       "   Sl_No  Customer Key  Avg_Credit_Limit_x  Total_Credit_Cards_x  \\\n",
       "0      1         87073              100000                     2   \n",
       "1      2         38414               50000                     3   \n",
       "2      3         17341               50000                     7   \n",
       "3      4         40496               30000                     5   \n",
       "4      5         47437              100000                     6   \n",
       "\n",
       "   Total_visits_bank_x  Total_visits_online_x  Total_calls_made_x  \\\n",
       "0                    1                      1                   0   \n",
       "1                    0                     10                   9   \n",
       "2                    1                      3                   4   \n",
       "3                    1                      1                   4   \n",
       "4                    0                     12                   3   \n",
       "\n",
       "   Avg_Credit_Limit_y  Total_Credit_Cards_y  Total_visits_bank_y  \\\n",
       "0              100000                     2                    1   \n",
       "1               50000                     3                    0   \n",
       "2               50000                     7                    1   \n",
       "3               30000                     5                    1   \n",
       "4              100000                     6                    0   \n",
       "\n",
       "   Total_visits_online_y  Total_calls_made_y  K_means_segments  \n",
       "0                      1                   0                 1  \n",
       "1                     10                   9                 2  \n",
       "2                      3                   4                 1  \n",
       "3                      1                   4                 1  \n",
       "4                     12                   3                 0  "
      ]
     },
     "execution_count": 396,
     "metadata": {},
     "output_type": "execute_result"
    }
   ],
   "source": [
    "# Showing merged dataset\n",
    "bank_cc_cust_merge.head()"
   ]
  },
  {
   "cell_type": "code",
   "execution_count": 397,
   "metadata": {},
   "outputs": [],
   "source": [
    "## Remove duplicate column \n",
    "bank_data_segments = bank_cc_cust_merge.drop(['Avg_Credit_Limit_y', 'Total_Credit_Cards_y','Total_visits_bank_y',\n",
    "                                            'Total_visits_online_y', 'Total_calls_made_y'], axis = 1)"
   ]
  },
  {
   "cell_type": "code",
   "execution_count": 398,
   "metadata": {},
   "outputs": [
    {
     "data": {
      "text/plain": [
       "(649, 8)"
      ]
     },
     "execution_count": 398,
     "metadata": {},
     "output_type": "execute_result"
    }
   ],
   "source": [
    "bank_data_segments.shape"
   ]
  },
  {
   "cell_type": "code",
   "execution_count": 399,
   "metadata": {},
   "outputs": [
    {
     "data": {
      "text/html": [
       "<div>\n",
       "<style scoped>\n",
       "    .dataframe tbody tr th:only-of-type {\n",
       "        vertical-align: middle;\n",
       "    }\n",
       "\n",
       "    .dataframe tbody tr th {\n",
       "        vertical-align: top;\n",
       "    }\n",
       "\n",
       "    .dataframe thead th {\n",
       "        text-align: right;\n",
       "    }\n",
       "</style>\n",
       "<table border=\"1\" class=\"dataframe\">\n",
       "  <thead>\n",
       "    <tr style=\"text-align: right;\">\n",
       "      <th></th>\n",
       "      <th>Sl_No</th>\n",
       "      <th>Customer Key</th>\n",
       "      <th>Avg_Credit_Limit</th>\n",
       "      <th>Total_Credit_Cards</th>\n",
       "      <th>Total_visits_bank</th>\n",
       "      <th>Total_visits_online</th>\n",
       "      <th>Total_calls_made</th>\n",
       "      <th>K_means_segments</th>\n",
       "    </tr>\n",
       "  </thead>\n",
       "  <tbody>\n",
       "    <tr>\n",
       "      <th>0</th>\n",
       "      <td>1</td>\n",
       "      <td>87073</td>\n",
       "      <td>100000</td>\n",
       "      <td>2</td>\n",
       "      <td>1</td>\n",
       "      <td>1</td>\n",
       "      <td>0</td>\n",
       "      <td>1</td>\n",
       "    </tr>\n",
       "    <tr>\n",
       "      <th>1</th>\n",
       "      <td>2</td>\n",
       "      <td>38414</td>\n",
       "      <td>50000</td>\n",
       "      <td>3</td>\n",
       "      <td>0</td>\n",
       "      <td>10</td>\n",
       "      <td>9</td>\n",
       "      <td>2</td>\n",
       "    </tr>\n",
       "    <tr>\n",
       "      <th>2</th>\n",
       "      <td>3</td>\n",
       "      <td>17341</td>\n",
       "      <td>50000</td>\n",
       "      <td>7</td>\n",
       "      <td>1</td>\n",
       "      <td>3</td>\n",
       "      <td>4</td>\n",
       "      <td>1</td>\n",
       "    </tr>\n",
       "    <tr>\n",
       "      <th>3</th>\n",
       "      <td>4</td>\n",
       "      <td>40496</td>\n",
       "      <td>30000</td>\n",
       "      <td>5</td>\n",
       "      <td>1</td>\n",
       "      <td>1</td>\n",
       "      <td>4</td>\n",
       "      <td>1</td>\n",
       "    </tr>\n",
       "    <tr>\n",
       "      <th>4</th>\n",
       "      <td>5</td>\n",
       "      <td>47437</td>\n",
       "      <td>100000</td>\n",
       "      <td>6</td>\n",
       "      <td>0</td>\n",
       "      <td>12</td>\n",
       "      <td>3</td>\n",
       "      <td>0</td>\n",
       "    </tr>\n",
       "    <tr>\n",
       "      <th>5</th>\n",
       "      <td>6</td>\n",
       "      <td>58634</td>\n",
       "      <td>20000</td>\n",
       "      <td>3</td>\n",
       "      <td>0</td>\n",
       "      <td>1</td>\n",
       "      <td>8</td>\n",
       "      <td>2</td>\n",
       "    </tr>\n",
       "    <tr>\n",
       "      <th>6</th>\n",
       "      <td>7</td>\n",
       "      <td>48370</td>\n",
       "      <td>100000</td>\n",
       "      <td>5</td>\n",
       "      <td>0</td>\n",
       "      <td>11</td>\n",
       "      <td>2</td>\n",
       "      <td>0</td>\n",
       "    </tr>\n",
       "    <tr>\n",
       "      <th>7</th>\n",
       "      <td>8</td>\n",
       "      <td>37376</td>\n",
       "      <td>15000</td>\n",
       "      <td>3</td>\n",
       "      <td>0</td>\n",
       "      <td>1</td>\n",
       "      <td>1</td>\n",
       "      <td>2</td>\n",
       "    </tr>\n",
       "    <tr>\n",
       "      <th>8</th>\n",
       "      <td>9</td>\n",
       "      <td>82490</td>\n",
       "      <td>5000</td>\n",
       "      <td>2</td>\n",
       "      <td>0</td>\n",
       "      <td>2</td>\n",
       "      <td>2</td>\n",
       "      <td>2</td>\n",
       "    </tr>\n",
       "    <tr>\n",
       "      <th>9</th>\n",
       "      <td>10</td>\n",
       "      <td>44770</td>\n",
       "      <td>3000</td>\n",
       "      <td>4</td>\n",
       "      <td>0</td>\n",
       "      <td>1</td>\n",
       "      <td>7</td>\n",
       "      <td>2</td>\n",
       "    </tr>\n",
       "    <tr>\n",
       "      <th>10</th>\n",
       "      <td>11</td>\n",
       "      <td>52741</td>\n",
       "      <td>10000</td>\n",
       "      <td>4</td>\n",
       "      <td>0</td>\n",
       "      <td>5</td>\n",
       "      <td>5</td>\n",
       "      <td>2</td>\n",
       "    </tr>\n",
       "    <tr>\n",
       "      <th>11</th>\n",
       "      <td>12</td>\n",
       "      <td>52326</td>\n",
       "      <td>13000</td>\n",
       "      <td>3</td>\n",
       "      <td>0</td>\n",
       "      <td>2</td>\n",
       "      <td>7</td>\n",
       "      <td>2</td>\n",
       "    </tr>\n",
       "    <tr>\n",
       "      <th>12</th>\n",
       "      <td>13</td>\n",
       "      <td>92503</td>\n",
       "      <td>11000</td>\n",
       "      <td>1</td>\n",
       "      <td>2</td>\n",
       "      <td>5</td>\n",
       "      <td>9</td>\n",
       "      <td>2</td>\n",
       "    </tr>\n",
       "    <tr>\n",
       "      <th>13</th>\n",
       "      <td>14</td>\n",
       "      <td>25084</td>\n",
       "      <td>9000</td>\n",
       "      <td>1</td>\n",
       "      <td>1</td>\n",
       "      <td>5</td>\n",
       "      <td>6</td>\n",
       "      <td>2</td>\n",
       "    </tr>\n",
       "    <tr>\n",
       "      <th>14</th>\n",
       "      <td>15</td>\n",
       "      <td>68517</td>\n",
       "      <td>6000</td>\n",
       "      <td>2</td>\n",
       "      <td>2</td>\n",
       "      <td>4</td>\n",
       "      <td>6</td>\n",
       "      <td>2</td>\n",
       "    </tr>\n",
       "    <tr>\n",
       "      <th>15</th>\n",
       "      <td>16</td>\n",
       "      <td>55196</td>\n",
       "      <td>8000</td>\n",
       "      <td>2</td>\n",
       "      <td>0</td>\n",
       "      <td>5</td>\n",
       "      <td>7</td>\n",
       "      <td>2</td>\n",
       "    </tr>\n",
       "    <tr>\n",
       "      <th>16</th>\n",
       "      <td>17</td>\n",
       "      <td>62617</td>\n",
       "      <td>15000</td>\n",
       "      <td>2</td>\n",
       "      <td>1</td>\n",
       "      <td>2</td>\n",
       "      <td>4</td>\n",
       "      <td>2</td>\n",
       "    </tr>\n",
       "    <tr>\n",
       "      <th>17</th>\n",
       "      <td>18</td>\n",
       "      <td>96463</td>\n",
       "      <td>8000</td>\n",
       "      <td>2</td>\n",
       "      <td>0</td>\n",
       "      <td>3</td>\n",
       "      <td>4</td>\n",
       "      <td>2</td>\n",
       "    </tr>\n",
       "    <tr>\n",
       "      <th>18</th>\n",
       "      <td>19</td>\n",
       "      <td>39137</td>\n",
       "      <td>11000</td>\n",
       "      <td>2</td>\n",
       "      <td>2</td>\n",
       "      <td>2</td>\n",
       "      <td>7</td>\n",
       "      <td>2</td>\n",
       "    </tr>\n",
       "    <tr>\n",
       "      <th>19</th>\n",
       "      <td>20</td>\n",
       "      <td>14309</td>\n",
       "      <td>19000</td>\n",
       "      <td>4</td>\n",
       "      <td>1</td>\n",
       "      <td>5</td>\n",
       "      <td>8</td>\n",
       "      <td>2</td>\n",
       "    </tr>\n",
       "  </tbody>\n",
       "</table>\n",
       "</div>"
      ],
      "text/plain": [
       "    Sl_No  Customer Key  Avg_Credit_Limit  Total_Credit_Cards  \\\n",
       "0       1         87073            100000                   2   \n",
       "1       2         38414             50000                   3   \n",
       "2       3         17341             50000                   7   \n",
       "3       4         40496             30000                   5   \n",
       "4       5         47437            100000                   6   \n",
       "5       6         58634             20000                   3   \n",
       "6       7         48370            100000                   5   \n",
       "7       8         37376             15000                   3   \n",
       "8       9         82490              5000                   2   \n",
       "9      10         44770              3000                   4   \n",
       "10     11         52741             10000                   4   \n",
       "11     12         52326             13000                   3   \n",
       "12     13         92503             11000                   1   \n",
       "13     14         25084              9000                   1   \n",
       "14     15         68517              6000                   2   \n",
       "15     16         55196              8000                   2   \n",
       "16     17         62617             15000                   2   \n",
       "17     18         96463              8000                   2   \n",
       "18     19         39137             11000                   2   \n",
       "19     20         14309             19000                   4   \n",
       "\n",
       "    Total_visits_bank  Total_visits_online  Total_calls_made  K_means_segments  \n",
       "0                   1                    1                 0                 1  \n",
       "1                   0                   10                 9                 2  \n",
       "2                   1                    3                 4                 1  \n",
       "3                   1                    1                 4                 1  \n",
       "4                   0                   12                 3                 0  \n",
       "5                   0                    1                 8                 2  \n",
       "6                   0                   11                 2                 0  \n",
       "7                   0                    1                 1                 2  \n",
       "8                   0                    2                 2                 2  \n",
       "9                   0                    1                 7                 2  \n",
       "10                  0                    5                 5                 2  \n",
       "11                  0                    2                 7                 2  \n",
       "12                  2                    5                 9                 2  \n",
       "13                  1                    5                 6                 2  \n",
       "14                  2                    4                 6                 2  \n",
       "15                  0                    5                 7                 2  \n",
       "16                  1                    2                 4                 2  \n",
       "17                  0                    3                 4                 2  \n",
       "18                  2                    2                 7                 2  \n",
       "19                  1                    5                 8                 2  "
      ]
     },
     "execution_count": 399,
     "metadata": {},
     "output_type": "execute_result"
    }
   ],
   "source": [
    "#Rename suffixed column names by merge command back to original names and displaying fifnal result.\n",
    "bank_data_segments.columns=bank_data_segments.columns.str.replace('_x','')\n",
    "bank_data_segments.head(20)"
   ]
  },
  {
   "cell_type": "code",
   "execution_count": 400,
   "metadata": {},
   "outputs": [
    {
     "data": {
      "image/png": "[encoded data removed]",
      "text/plain": [
       "<Figure size 1152x432 with 5 Axes>"
      ]
     },
     "metadata": {
      "needs_background": "light"
     },
     "output_type": "display_data"
    }
   ],
   "source": [
    "# Plotting Box plot with original values for variables as opposed to scaled values.\n",
    "fig, axes = plt.subplots(1, 5,  figsize=(16, 6))\n",
    "fig.suptitle('Boxplot of numerical variables for each cluster', fontsize=20)\n",
    "counter = 0\n",
    "for ii in range(5):\n",
    "    sns.boxplot(ax=axes[ii],y=bank_data_segments[all_col[counter]],x=bank_data_segments['K_means_segments'])\n",
    "    counter = counter+1\n",
    "\n",
    "fig.tight_layout(pad=2.0)"
   ]
  },
  {
   "cell_type": "markdown",
   "metadata": {},
   "source": [
    "### Insights from K Means Customer Segments\n",
    "\n",
    "- **Cluster 0**:\n",
    "    - This cluster contains customers with Avg_Credit_Limit less than 25K.Median is 13K meaning 50% of customers in this group have 13K or less average credit limit. This is the customers with lowest credit limit\n",
    "    - Total Credit cards 4 or less, majority 3 or less. Median 2.\n",
    "    - Total_visits_bank less than or equal to 2. median for Total_visits_bank is 1.\n",
    "    - Total_visits_online between 1 and 5, Median 4 visits online\n",
    "    - Customers in this group made the most calls of all groups between 2-10. Median 7. This might mean they faced most problems.\n",
    "    - There are 218 in this group out of total 649 customers.  \n",
    "    \n",
    "- **Cluster 1**:\n",
    "     - This cluster contains customers with Avg_Credit_Limit between 0 and 100K. Median is 35K meaning 50% of customers in this group have 35K or less average credit limit. This is the group of customers with second lowest credit limit\n",
    "    - Total Credit cards 2 to 7, majority 6 or less. Median 4.\n",
    "    - Total_visits_bank ranges to the full extent, 0 to 5. median for Total_visits_bank is 3. \n",
    "    - Total_visits_online between 0 and 3. Median 1 visit online\n",
    "    - Total_calls_made of ranges between 0 - 4. Median 2.\n",
    "    - There are 381 in this group out of total 649 customers.   \n",
    "\n",
    "- **Cluster 2**:\n",
    "    - This group has the highest Avg_Credit_Limit values. It ranges from 80K to 200K. Median 140K  \n",
    "    - It also has people with highest number of credit cards,5-10. Median 9.\n",
    "    - Total_visits_bank is the lowest from 0-1. median for Total_visits_bank is 0.\n",
    "    - Total_visits_online highest between 6 to 15. Median being 11.\n",
    "    - Total_calls_made of ranges between 0 - 3. Median 1.\n",
    "    - There are 50 in this group out of total 649 customers.   "
   ]
  },
  {
   "cell_type": "markdown",
   "metadata": {},
   "source": [
    "## Customer Segmentation\n",
    "\n",
    "## Applying Hierarchical clustering algorithms\n"
   ]
  },
  {
   "cell_type": "code",
   "execution_count": 401,
   "metadata": {},
   "outputs": [],
   "source": [
    "#Build Hierarchical Model\n",
    "model = AgglomerativeClustering(n_clusters=3, affinity='euclidean',  linkage='average')"
   ]
  },
  {
   "cell_type": "code",
   "execution_count": 402,
   "metadata": {},
   "outputs": [
    {
     "data": {
      "text/plain": [
       "AgglomerativeClustering(linkage='average', n_clusters=3)"
      ]
     },
     "execution_count": 402,
     "metadata": {},
     "output_type": "execute_result"
    }
   ],
   "source": [
    "# Fit the model using scaled data\n",
    "model.fit(df_sd)"
   ]
  },
  {
   "cell_type": "code",
   "execution_count": 403,
   "metadata": {},
   "outputs": [],
   "source": [
    "# Make a copy of original data to add segment labels.\n",
    "bank_data_hier = bank_cc_cust.copy()"
   ]
  },
  {
   "cell_type": "code",
   "execution_count": 404,
   "metadata": {},
   "outputs": [
    {
     "data": {
      "text/html": [
       "<div>\n",
       "<style scoped>\n",
       "    .dataframe tbody tr th:only-of-type {\n",
       "        vertical-align: middle;\n",
       "    }\n",
       "\n",
       "    .dataframe tbody tr th {\n",
       "        vertical-align: top;\n",
       "    }\n",
       "\n",
       "    .dataframe thead th {\n",
       "        text-align: right;\n",
       "    }\n",
       "</style>\n",
       "<table border=\"1\" class=\"dataframe\">\n",
       "  <thead>\n",
       "    <tr style=\"text-align: right;\">\n",
       "      <th></th>\n",
       "      <th>Avg_Credit_Limit</th>\n",
       "      <th>Total_Credit_Cards</th>\n",
       "      <th>Total_visits_bank</th>\n",
       "      <th>Total_visits_online</th>\n",
       "      <th>Total_calls_made</th>\n",
       "      <th>labels</th>\n",
       "    </tr>\n",
       "  </thead>\n",
       "  <tbody>\n",
       "    <tr>\n",
       "      <th>0</th>\n",
       "      <td>100000</td>\n",
       "      <td>2</td>\n",
       "      <td>1</td>\n",
       "      <td>1</td>\n",
       "      <td>0</td>\n",
       "      <td>0</td>\n",
       "    </tr>\n",
       "    <tr>\n",
       "      <th>1</th>\n",
       "      <td>50000</td>\n",
       "      <td>3</td>\n",
       "      <td>0</td>\n",
       "      <td>10</td>\n",
       "      <td>9</td>\n",
       "      <td>2</td>\n",
       "    </tr>\n",
       "    <tr>\n",
       "      <th>2</th>\n",
       "      <td>50000</td>\n",
       "      <td>7</td>\n",
       "      <td>1</td>\n",
       "      <td>3</td>\n",
       "      <td>4</td>\n",
       "      <td>0</td>\n",
       "    </tr>\n",
       "    <tr>\n",
       "      <th>3</th>\n",
       "      <td>30000</td>\n",
       "      <td>5</td>\n",
       "      <td>1</td>\n",
       "      <td>1</td>\n",
       "      <td>4</td>\n",
       "      <td>0</td>\n",
       "    </tr>\n",
       "    <tr>\n",
       "      <th>4</th>\n",
       "      <td>100000</td>\n",
       "      <td>6</td>\n",
       "      <td>0</td>\n",
       "      <td>12</td>\n",
       "      <td>3</td>\n",
       "      <td>1</td>\n",
       "    </tr>\n",
       "    <tr>\n",
       "      <th>5</th>\n",
       "      <td>20000</td>\n",
       "      <td>3</td>\n",
       "      <td>0</td>\n",
       "      <td>1</td>\n",
       "      <td>8</td>\n",
       "      <td>2</td>\n",
       "    </tr>\n",
       "    <tr>\n",
       "      <th>6</th>\n",
       "      <td>100000</td>\n",
       "      <td>5</td>\n",
       "      <td>0</td>\n",
       "      <td>11</td>\n",
       "      <td>2</td>\n",
       "      <td>1</td>\n",
       "    </tr>\n",
       "    <tr>\n",
       "      <th>7</th>\n",
       "      <td>15000</td>\n",
       "      <td>3</td>\n",
       "      <td>0</td>\n",
       "      <td>1</td>\n",
       "      <td>1</td>\n",
       "      <td>2</td>\n",
       "    </tr>\n",
       "    <tr>\n",
       "      <th>8</th>\n",
       "      <td>5000</td>\n",
       "      <td>2</td>\n",
       "      <td>0</td>\n",
       "      <td>2</td>\n",
       "      <td>2</td>\n",
       "      <td>2</td>\n",
       "    </tr>\n",
       "    <tr>\n",
       "      <th>9</th>\n",
       "      <td>3000</td>\n",
       "      <td>4</td>\n",
       "      <td>0</td>\n",
       "      <td>1</td>\n",
       "      <td>7</td>\n",
       "      <td>2</td>\n",
       "    </tr>\n",
       "  </tbody>\n",
       "</table>\n",
       "</div>"
      ],
      "text/plain": [
       "   Avg_Credit_Limit  Total_Credit_Cards  Total_visits_bank  \\\n",
       "0            100000                   2                  1   \n",
       "1             50000                   3                  0   \n",
       "2             50000                   7                  1   \n",
       "3             30000                   5                  1   \n",
       "4            100000                   6                  0   \n",
       "5             20000                   3                  0   \n",
       "6            100000                   5                  0   \n",
       "7             15000                   3                  0   \n",
       "8              5000                   2                  0   \n",
       "9              3000                   4                  0   \n",
       "\n",
       "   Total_visits_online  Total_calls_made  labels  \n",
       "0                    1                 0       0  \n",
       "1                   10                 9       2  \n",
       "2                    3                 4       0  \n",
       "3                    1                 4       0  \n",
       "4                   12                 3       1  \n",
       "5                    1                 8       2  \n",
       "6                   11                 2       1  \n",
       "7                    1                 1       2  \n",
       "8                    2                 2       2  \n",
       "9                    1                 7       2  "
      ]
     },
     "execution_count": 404,
     "metadata": {},
     "output_type": "execute_result"
    }
   ],
   "source": [
    "# Adding segment labels generated by Agglomerative clustering to the dataset.Dispalying top 10 rows.\n",
    "bank_data_hier['labels'] = model.labels_\n",
    "bank_data_hier.head(10)"
   ]
  },
  {
   "cell_type": "code",
   "execution_count": 405,
   "metadata": {},
   "outputs": [],
   "source": [
    "#group by segments\n",
    "bankDataClust = bank_data_hier.groupby(['labels'])"
   ]
  },
  {
   "cell_type": "code",
   "execution_count": 406,
   "metadata": {},
   "outputs": [
    {
     "data": {
      "text/html": [
       "<div>\n",
       "<style scoped>\n",
       "    .dataframe tbody tr th:only-of-type {\n",
       "        vertical-align: middle;\n",
       "    }\n",
       "\n",
       "    .dataframe tbody tr th {\n",
       "        vertical-align: top;\n",
       "    }\n",
       "\n",
       "    .dataframe thead th {\n",
       "        text-align: right;\n",
       "    }\n",
       "</style>\n",
       "<table border=\"1\" class=\"dataframe\">\n",
       "  <thead>\n",
       "    <tr style=\"text-align: right;\">\n",
       "      <th></th>\n",
       "      <th>Avg_Credit_Limit</th>\n",
       "      <th>Total_Credit_Cards</th>\n",
       "      <th>Total_visits_bank</th>\n",
       "      <th>Total_visits_online</th>\n",
       "      <th>Total_calls_made</th>\n",
       "    </tr>\n",
       "    <tr>\n",
       "      <th>labels</th>\n",
       "      <th></th>\n",
       "      <th></th>\n",
       "      <th></th>\n",
       "      <th></th>\n",
       "      <th></th>\n",
       "    </tr>\n",
       "  </thead>\n",
       "  <tbody>\n",
       "    <tr>\n",
       "      <th>0</th>\n",
       "      <td>34000.000000</td>\n",
       "      <td>5.514512</td>\n",
       "      <td>3.480211</td>\n",
       "      <td>0.984169</td>\n",
       "      <td>1.997361</td>\n",
       "    </tr>\n",
       "    <tr>\n",
       "      <th>1</th>\n",
       "      <td>141040.000000</td>\n",
       "      <td>8.740000</td>\n",
       "      <td>0.600000</td>\n",
       "      <td>10.900000</td>\n",
       "      <td>1.080000</td>\n",
       "    </tr>\n",
       "    <tr>\n",
       "      <th>2</th>\n",
       "      <td>12263.636364</td>\n",
       "      <td>2.404545</td>\n",
       "      <td>0.940909</td>\n",
       "      <td>3.568182</td>\n",
       "      <td>6.904545</td>\n",
       "    </tr>\n",
       "  </tbody>\n",
       "</table>\n",
       "</div>"
      ],
      "text/plain": [
       "        Avg_Credit_Limit  Total_Credit_Cards  Total_visits_bank  \\\n",
       "labels                                                            \n",
       "0           34000.000000            5.514512           3.480211   \n",
       "1          141040.000000            8.740000           0.600000   \n",
       "2           12263.636364            2.404545           0.940909   \n",
       "\n",
       "        Total_visits_online  Total_calls_made  \n",
       "labels                                         \n",
       "0                  0.984169          1.997361  \n",
       "1                 10.900000          1.080000  \n",
       "2                  3.568182          6.904545  "
      ]
     },
     "execution_count": 406,
     "metadata": {},
     "output_type": "execute_result"
    }
   ],
   "source": [
    "#Calculating mean for different variables within clusters\n",
    "bankDataClust.mean()"
   ]
  },
  {
   "cell_type": "markdown",
   "metadata": {},
   "source": [
    "## Applying Different Linkage methods, drawing dendrograms, calculating cophenetic coefficient to determine the optimum parameters for Hierarchical Clustering.\n"
   ]
  },
  {
   "cell_type": "code",
   "execution_count": 407,
   "metadata": {},
   "outputs": [
    {
     "data": {
      "text/plain": [
       "0.7425813590948763"
      ]
     },
     "execution_count": 407,
     "metadata": {},
     "output_type": "execute_result"
    }
   ],
   "source": [
    "# cophenet index is a measure of the correlation between the distance of points in feature space and distance on dendrogram\n",
    "# closer it is to 1, the better is the clustering\n",
    "#Applying different Linkage parameters\n",
    "\n",
    "Z = linkage(df_sd,\n",
    "            method = 'ward',\n",
    "            metric = 'euclidean')\n",
    "c, coph_dists = cophenet(Z , pdist(df_sd))\n",
    "\n",
    "c"
   ]
  },
  {
   "cell_type": "code",
   "execution_count": 408,
   "metadata": {
    "scrolled": true
   },
   "outputs": [
    {
     "data": {
      "image/png": "[encoded data removed]",
      "text/plain": [
       "<Figure size 720x360 with 1 Axes>"
      ]
     },
     "metadata": {
      "needs_background": "light"
     },
     "output_type": "display_data"
    }
   ],
   "source": [
    "#Drawing dendrogram for above combination of Linkage parameters, \n",
    "# Hint: Use truncate_mode='lastp' attribute in dendrogram function to arrive at dendrogram\n",
    "plt.figure(figsize=(10, 5))\n",
    "plt.title('Agglomerative Hierarchical Clustering Dendogram')\n",
    "plt.xlabel('sample index')\n",
    "plt.ylabel('Distance')\n",
    "dendrogram(\n",
    "    Z,\n",
    "    truncate_mode='lastp',  # show only the last p merged clusters\n",
    "    p=10,\n",
    ")\n",
    "plt.tight_layout()\n",
    "plt.show()"
   ]
  },
  {
   "cell_type": "code",
   "execution_count": 409,
   "metadata": {},
   "outputs": [
    {
     "data": {
      "text/plain": [
       "0.8794736468795109"
      ]
     },
     "execution_count": 409,
     "metadata": {},
     "output_type": "execute_result"
    }
   ],
   "source": [
    "#Using different Linkage parameters\n",
    "Z = linkage(df_sd, metric='euclidean', method='complete')\n",
    "c, coph_dists = cophenet(Z , pdist(df_sd))\n",
    "\n",
    "c"
   ]
  },
  {
   "cell_type": "code",
   "execution_count": 410,
   "metadata": {},
   "outputs": [
    {
     "data": {
      "image/png": "[encoded data removed]",
      "text/plain": [
       "<Figure size 720x360 with 1 Axes>"
      ]
     },
     "metadata": {
      "needs_background": "light"
     },
     "output_type": "display_data"
    }
   ],
   "source": [
    "#Drawing dendrogram for above combination of Linkage parameters,\n",
    "plt.figure(figsize=(10, 5))\n",
    "plt.title('Agglomerative Hierarchical Clustering Dendogram')\n",
    "plt.xlabel('sample index')\n",
    "plt.ylabel('Distance')\n",
    "dendrogram(Z, leaf_rotation=90., truncate_mode='lastp', p=10, leaf_font_size=8. )\n",
    "plt.tight_layout()"
   ]
  },
  {
   "cell_type": "code",
   "execution_count": 411,
   "metadata": {},
   "outputs": [
    {
     "data": {
      "text/plain": [
       "0.8974425535306298"
      ]
     },
     "execution_count": 411,
     "metadata": {},
     "output_type": "execute_result"
    }
   ],
   "source": [
    "#Using different Linkage parameters\n",
    "Z = linkage(df_sd, metric='euclidean', method='average')\n",
    "c, coph_dists = cophenet(Z , pdist(df_sd))\n",
    "\n",
    "c"
   ]
  },
  {
   "cell_type": "code",
   "execution_count": 412,
   "metadata": {},
   "outputs": [
    {
     "data": {
      "image/png": "[encoded data removed]",
      "text/plain": [
       "<Figure size 720x360 with 1 Axes>"
      ]
     },
     "metadata": {
      "needs_background": "light"
     },
     "output_type": "display_data"
    }
   ],
   "source": [
    "#Drawing dendrogram for above combination of Linkage parameters,\n",
    "plt.figure(figsize=(10, 5))\n",
    "plt.title('Agglomerative Hierarchical Clustering Dendogram')\n",
    "plt.xlabel('sample index')\n",
    "plt.ylabel('Distance')\n",
    "dendrogram(Z, leaf_rotation=90., truncate_mode='lastp', p=15, leaf_font_size=8. )\n",
    "plt.tight_layout()"
   ]
  },
  {
   "cell_type": "code",
   "execution_count": 413,
   "metadata": {},
   "outputs": [],
   "source": [
    "#More comprehensive comparison of different linkage parameters in terms of cophenetic coefficient\n",
    "methods = ['single', 'complete', 'average', 'ward', 'centroid']\n",
    "metrics = ['euclidean', 'mahalanobis', 'chebyshev']\n",
    "\n",
    "cophenet_df = pd.DataFrame(index=methods, columns=metrics)\n",
    "\n",
    "for method in methods:\n",
    "    for metric in metrics:\n",
    "        try:\n",
    "            Z = linkage(df_sd,\n",
    "                method = method,\n",
    "                metric=metric)\n",
    "            distance_between_pair_of_points = pdist(df_sd)\n",
    "            cophenet_Z = cophenet(Z)\n",
    "            cophenet_correlation = pearsonr(cophenet(Z), distance_between_pair_of_points)[0]\n",
    "            cophenet_df.loc[method, metric] = cophenet_correlation\n",
    "        except:\n",
    "            pass"
   ]
  },
  {
   "cell_type": "code",
   "execution_count": 414,
   "metadata": {},
   "outputs": [
    {
     "data": {
      "text/html": [
       "<div>\n",
       "<style scoped>\n",
       "    .dataframe tbody tr th:only-of-type {\n",
       "        vertical-align: middle;\n",
       "    }\n",
       "\n",
       "    .dataframe tbody tr th {\n",
       "        vertical-align: top;\n",
       "    }\n",
       "\n",
       "    .dataframe thead th {\n",
       "        text-align: right;\n",
       "    }\n",
       "</style>\n",
       "<table border=\"1\" class=\"dataframe\">\n",
       "  <thead>\n",
       "    <tr style=\"text-align: right;\">\n",
       "      <th></th>\n",
       "      <th>euclidean</th>\n",
       "      <th>mahalanobis</th>\n",
       "      <th>chebyshev</th>\n",
       "    </tr>\n",
       "  </thead>\n",
       "  <tbody>\n",
       "    <tr>\n",
       "      <th>single</th>\n",
       "      <td>0.739514</td>\n",
       "      <td>0.705475</td>\n",
       "      <td>0.737911</td>\n",
       "    </tr>\n",
       "    <tr>\n",
       "      <th>complete</th>\n",
       "      <td>0.879474</td>\n",
       "      <td>0.651337</td>\n",
       "      <td>0.857862</td>\n",
       "    </tr>\n",
       "    <tr>\n",
       "      <th>average</th>\n",
       "      <td>0.897443</td>\n",
       "      <td>0.833029</td>\n",
       "      <td>0.896037</td>\n",
       "    </tr>\n",
       "    <tr>\n",
       "      <th>ward</th>\n",
       "      <td>0.742581</td>\n",
       "      <td>NaN</td>\n",
       "      <td>NaN</td>\n",
       "    </tr>\n",
       "    <tr>\n",
       "      <th>centroid</th>\n",
       "      <td>0.894471</td>\n",
       "      <td>NaN</td>\n",
       "      <td>NaN</td>\n",
       "    </tr>\n",
       "  </tbody>\n",
       "</table>\n",
       "</div>"
      ],
      "text/plain": [
       "         euclidean mahalanobis chebyshev\n",
       "single    0.739514    0.705475  0.737911\n",
       "complete  0.879474    0.651337  0.857862\n",
       "average   0.897443    0.833029  0.896037\n",
       "ward      0.742581         NaN       NaN\n",
       "centroid  0.894471         NaN       NaN"
      ]
     },
     "execution_count": 414,
     "metadata": {},
     "output_type": "execute_result"
    }
   ],
   "source": [
    "cophenet_df"
   ]
  },
  {
   "cell_type": "code",
   "execution_count": 415,
   "metadata": {},
   "outputs": [
    {
     "data": {
      "image/png": "[encoded data removed]",
      "text/plain": [
       "<Figure size 720x360 with 1 Axes>"
      ]
     },
     "metadata": {
      "needs_background": "light"
     },
     "output_type": "display_data"
    },
    {
     "data": {
      "image/png": "[encoded data removed]",
      "text/plain": [
       "<Figure size 720x360 with 1 Axes>"
      ]
     },
     "metadata": {
      "needs_background": "light"
     },
     "output_type": "display_data"
    },
    {
     "data": {
      "image/png": "[encoded data removed]",
      "text/plain": [
       "<Figure size 720x360 with 1 Axes>"
      ]
     },
     "metadata": {
      "needs_background": "light"
     },
     "output_type": "display_data"
    },
    {
     "data": {
      "image/png": "[encoded data removed]",
      "text/plain": [
       "<Figure size 720x360 with 1 Axes>"
      ]
     },
     "metadata": {
      "needs_background": "light"
     },
     "output_type": "display_data"
    },
    {
     "data": {
      "image/png": "[encoded data removed]",
      "text/plain": [
       "<Figure size 720x360 with 1 Axes>"
      ]
     },
     "metadata": {
      "needs_background": "light"
     },
     "output_type": "display_data"
    },
    {
     "data": {
      "image/png": "[encoded data removed]",
      "text/plain": [
       "<Figure size 720x360 with 1 Axes>"
      ]
     },
     "metadata": {
      "needs_background": "light"
     },
     "output_type": "display_data"
    }
   ],
   "source": [
    "#Drawing dendrogram for rest of linkage parameters\n",
    "methods = ['single', 'complete', 'average', 'ward', 'centroid']\n",
    "metrics = [ 'mahalanobis', 'chebyshev']\n",
    "\n",
    "for method in methods:\n",
    "    for metric in metrics:\n",
    "        try:\n",
    "            Z = linkage(df_sd,\n",
    "                method = method,\n",
    "                metric=metric)\n",
    "            #Drawing dendrogram for above combination of Linkage parameters,\n",
    "            plt.figure(figsize=(10, 5))\n",
    "            plt.title(f\"Agglomerative Hierarchical Clustering Dendogram for Linkage params, {metric} and {method}\")\n",
    "            plt.xlabel('sample index')\n",
    "            plt.ylabel('Distance')\n",
    "            dendrogram(\n",
    "                      Z,\n",
    "                  truncate_mode='lastp',  # show only the last p merged clusters\n",
    "                     p=7,\n",
    "                    )\n",
    "            plt.show()\n",
    "        except:\n",
    "            pass"
   ]
  },
  {
   "cell_type": "markdown",
   "metadata": {},
   "source": [
    "### Insights\n",
    "- Eculidean and average seems to be the best linkage parameters by looking at the cophenetic index. It has 0.89 followed by euclidean and complete at 0.87."
   ]
  },
  {
   "cell_type": "code",
   "execution_count": 416,
   "metadata": {},
   "outputs": [],
   "source": [
    "# Building model using selected Linkage parameters for max Copenetic score.\n",
    "ac_cluster = AgglomerativeClustering(n_clusters=2,\n",
    "                                    linkage='average',\n",
    "                                    affinity='euclidean'\n",
    "                                    )\n",
    "cluster_labels = ac_cluster.fit_predict(df_sd)"
   ]
  },
  {
   "cell_type": "code",
   "execution_count": 417,
   "metadata": {},
   "outputs": [
    {
     "data": {
      "text/plain": [
       "Counter({0: 599, 1: 50})"
      ]
     },
     "execution_count": 417,
     "metadata": {},
     "output_type": "execute_result"
    }
   ],
   "source": [
    "# Number of data points in each cluster\n",
    "Counter(cluster_labels)"
   ]
  },
  {
   "cell_type": "markdown",
   "metadata": {},
   "source": [
    "- Not uniformly distributed. let's look at different values for number of clusters and compare Silhouette score."
   ]
  },
  {
   "cell_type": "code",
   "execution_count": 418,
   "metadata": {},
   "outputs": [
    {
     "name": "stdout",
     "output_type": "stream",
     "text": [
      "cluster size: 2 : 0.5690653901733652\n",
      "cluster size: 3 : 0.5164769161012985\n",
      "cluster size: 4 : 0.47541352027335854\n",
      "cluster size: 5 : 0.4402145951649966\n",
      "cluster size: 6 : 0.4191811788239719\n",
      "cluster size: 7 : 0.3457105302098707\n",
      "cluster size: 8 : 0.3436755082302095\n",
      "cluster size: 9 : 0.34567925143858613\n"
     ]
    }
   ],
   "source": [
    "for i in range(2,10):\n",
    "    ac_cluster = AgglomerativeClustering(n_clusters=i,\n",
    "                                    linkage='average',\n",
    "                                    affinity='euclidean')\n",
    "    cluster_labels = ac_cluster.fit_predict(df_sd)\n",
    "    silhouette_avg = silhouette_score(df_sd, cluster_labels)\n",
    "    print(f\"cluster size: {i} : {silhouette_avg}\")"
   ]
  },
  {
   "cell_type": "code",
   "execution_count": 419,
   "metadata": {},
   "outputs": [
    {
     "name": "stdout",
     "output_type": "stream",
     "text": [
      "Wall time: 0 ns\n"
     ]
    },
    {
     "data": {
      "text/plain": [
       "Counter({0: 379, 2: 220, 1: 50})"
      ]
     },
     "execution_count": 419,
     "metadata": {},
     "output_type": "execute_result"
    }
   ],
   "source": [
    "# BUilding final model using selected parameters for optimum Silhouette score and data distribution \n",
    "%time\n",
    "ac_cluster = AgglomerativeClustering(n_clusters=3,\n",
    "                                    linkage='average',\n",
    "                                    affinity='euclidean'\n",
    "                                    )\n",
    "cluster_labels = ac_cluster.fit_predict(df_sd)\n",
    "Counter(cluster_labels)"
   ]
  },
  {
   "cell_type": "markdown",
   "metadata": {},
   "source": [
    "## Insights\n",
    "- Even though 2 clusters have highest Sihouette score, the data distribution is not at all uniform among the 2 groups.\n",
    "- 3 clusters data distribution is better, so picking 3 clusters as the final model."
   ]
  },
  {
   "cell_type": "code",
   "execution_count": 420,
   "metadata": {},
   "outputs": [],
   "source": [
    "#Making copies of original and scaled datasets\n",
    "bank_data_hier = bank_cc_cust.copy()\n",
    "df_hier_sd = df_sd.copy()"
   ]
  },
  {
   "cell_type": "code",
   "execution_count": 421,
   "metadata": {},
   "outputs": [],
   "source": [
    "# Adding Cluster labels for Agglomerative clustering to the datasets\n",
    "bank_data_hier['Agglo_segments'] = cluster_labels\n",
    "df_hier_sd['Agglo_segments'] = cluster_labels"
   ]
  },
  {
   "cell_type": "code",
   "execution_count": 422,
   "metadata": {},
   "outputs": [
    {
     "data": {
      "text/html": [
       "<div>\n",
       "<style scoped>\n",
       "    .dataframe tbody tr th:only-of-type {\n",
       "        vertical-align: middle;\n",
       "    }\n",
       "\n",
       "    .dataframe tbody tr th {\n",
       "        vertical-align: top;\n",
       "    }\n",
       "\n",
       "    .dataframe thead th {\n",
       "        text-align: right;\n",
       "    }\n",
       "</style>\n",
       "<table border=\"1\" class=\"dataframe\">\n",
       "  <thead>\n",
       "    <tr style=\"text-align: right;\">\n",
       "      <th></th>\n",
       "      <th>Avg_Credit_Limit</th>\n",
       "      <th>Total_Credit_Cards</th>\n",
       "      <th>Total_visits_bank</th>\n",
       "      <th>Total_visits_online</th>\n",
       "      <th>Total_calls_made</th>\n",
       "      <th>Agglo_segments</th>\n",
       "    </tr>\n",
       "  </thead>\n",
       "  <tbody>\n",
       "    <tr>\n",
       "      <th>0</th>\n",
       "      <td>100000</td>\n",
       "      <td>2</td>\n",
       "      <td>1</td>\n",
       "      <td>1</td>\n",
       "      <td>0</td>\n",
       "      <td>0</td>\n",
       "    </tr>\n",
       "    <tr>\n",
       "      <th>1</th>\n",
       "      <td>50000</td>\n",
       "      <td>3</td>\n",
       "      <td>0</td>\n",
       "      <td>10</td>\n",
       "      <td>9</td>\n",
       "      <td>2</td>\n",
       "    </tr>\n",
       "    <tr>\n",
       "      <th>2</th>\n",
       "      <td>50000</td>\n",
       "      <td>7</td>\n",
       "      <td>1</td>\n",
       "      <td>3</td>\n",
       "      <td>4</td>\n",
       "      <td>0</td>\n",
       "    </tr>\n",
       "    <tr>\n",
       "      <th>3</th>\n",
       "      <td>30000</td>\n",
       "      <td>5</td>\n",
       "      <td>1</td>\n",
       "      <td>1</td>\n",
       "      <td>4</td>\n",
       "      <td>0</td>\n",
       "    </tr>\n",
       "    <tr>\n",
       "      <th>4</th>\n",
       "      <td>100000</td>\n",
       "      <td>6</td>\n",
       "      <td>0</td>\n",
       "      <td>12</td>\n",
       "      <td>3</td>\n",
       "      <td>1</td>\n",
       "    </tr>\n",
       "  </tbody>\n",
       "</table>\n",
       "</div>"
      ],
      "text/plain": [
       "   Avg_Credit_Limit  Total_Credit_Cards  Total_visits_bank  \\\n",
       "0            100000                   2                  1   \n",
       "1             50000                   3                  0   \n",
       "2             50000                   7                  1   \n",
       "3             30000                   5                  1   \n",
       "4            100000                   6                  0   \n",
       "\n",
       "   Total_visits_online  Total_calls_made  Agglo_segments  \n",
       "0                    1                 0               0  \n",
       "1                   10                 9               2  \n",
       "2                    3                 4               0  \n",
       "3                    1                 4               0  \n",
       "4                   12                 3               1  "
      ]
     },
     "execution_count": 422,
     "metadata": {},
     "output_type": "execute_result"
    }
   ],
   "source": [
    "# Displaying first 5 rows showing segment labels.\n",
    "bank_data_hier.head()"
   ]
  },
  {
   "cell_type": "code",
   "execution_count": 423,
   "metadata": {},
   "outputs": [],
   "source": [
    "# Calculating average and count for each cluster or customer segment\n",
    "agcluster_profile = bank_data_hier.groupby('Agglo_segments').mean()\n",
    "agcluster_profile['count_in_each_segments'] = bank_data_hier.groupby('Agglo_segments')['Total_visits_online'].count().values"
   ]
  },
  {
   "cell_type": "code",
   "execution_count": 424,
   "metadata": {},
   "outputs": [
    {
     "data": {
      "text/html": [
       "<style  type=\"text/css\" >\n",
       "#T_f80beb16_b548_11eb_bfda_988d4682154erow0_col2,#T_f80beb16_b548_11eb_bfda_988d4682154erow0_col5,#T_f80beb16_b548_11eb_bfda_988d4682154erow1_col0,#T_f80beb16_b548_11eb_bfda_988d4682154erow1_col1,#T_f80beb16_b548_11eb_bfda_988d4682154erow1_col3,#T_f80beb16_b548_11eb_bfda_988d4682154erow2_col4{\n",
       "            background-color:  lightgreen;\n",
       "        }</style><table id=\"T_f80beb16_b548_11eb_bfda_988d4682154e\" ><thead>    <tr>        <th class=\"blank level0\" ></th>        <th class=\"col_heading level0 col0\" >Avg_Credit_Limit</th>        <th class=\"col_heading level0 col1\" >Total_Credit_Cards</th>        <th class=\"col_heading level0 col2\" >Total_visits_bank</th>        <th class=\"col_heading level0 col3\" >Total_visits_online</th>        <th class=\"col_heading level0 col4\" >Total_calls_made</th>        <th class=\"col_heading level0 col5\" >count_in_each_segments</th>    </tr>    <tr>        <th class=\"index_name level0\" >Agglo_segments</th>        <th class=\"blank\" ></th>        <th class=\"blank\" ></th>        <th class=\"blank\" ></th>        <th class=\"blank\" ></th>        <th class=\"blank\" ></th>        <th class=\"blank\" ></th>    </tr></thead><tbody>\n",
       "                <tr>\n",
       "                        <th id=\"T_f80beb16_b548_11eb_bfda_988d4682154elevel0_row0\" class=\"row_heading level0 row0\" >0</th>\n",
       "                        <td id=\"T_f80beb16_b548_11eb_bfda_988d4682154erow0_col0\" class=\"data row0 col0\" >34000.000000</td>\n",
       "                        <td id=\"T_f80beb16_b548_11eb_bfda_988d4682154erow0_col1\" class=\"data row0 col1\" >5.514512</td>\n",
       "                        <td id=\"T_f80beb16_b548_11eb_bfda_988d4682154erow0_col2\" class=\"data row0 col2\" >3.480211</td>\n",
       "                        <td id=\"T_f80beb16_b548_11eb_bfda_988d4682154erow0_col3\" class=\"data row0 col3\" >0.984169</td>\n",
       "                        <td id=\"T_f80beb16_b548_11eb_bfda_988d4682154erow0_col4\" class=\"data row0 col4\" >1.997361</td>\n",
       "                        <td id=\"T_f80beb16_b548_11eb_bfda_988d4682154erow0_col5\" class=\"data row0 col5\" >379</td>\n",
       "            </tr>\n",
       "            <tr>\n",
       "                        <th id=\"T_f80beb16_b548_11eb_bfda_988d4682154elevel0_row1\" class=\"row_heading level0 row1\" >1</th>\n",
       "                        <td id=\"T_f80beb16_b548_11eb_bfda_988d4682154erow1_col0\" class=\"data row1 col0\" >141040.000000</td>\n",
       "                        <td id=\"T_f80beb16_b548_11eb_bfda_988d4682154erow1_col1\" class=\"data row1 col1\" >8.740000</td>\n",
       "                        <td id=\"T_f80beb16_b548_11eb_bfda_988d4682154erow1_col2\" class=\"data row1 col2\" >0.600000</td>\n",
       "                        <td id=\"T_f80beb16_b548_11eb_bfda_988d4682154erow1_col3\" class=\"data row1 col3\" >10.900000</td>\n",
       "                        <td id=\"T_f80beb16_b548_11eb_bfda_988d4682154erow1_col4\" class=\"data row1 col4\" >1.080000</td>\n",
       "                        <td id=\"T_f80beb16_b548_11eb_bfda_988d4682154erow1_col5\" class=\"data row1 col5\" >50</td>\n",
       "            </tr>\n",
       "            <tr>\n",
       "                        <th id=\"T_f80beb16_b548_11eb_bfda_988d4682154elevel0_row2\" class=\"row_heading level0 row2\" >2</th>\n",
       "                        <td id=\"T_f80beb16_b548_11eb_bfda_988d4682154erow2_col0\" class=\"data row2 col0\" >12263.636364</td>\n",
       "                        <td id=\"T_f80beb16_b548_11eb_bfda_988d4682154erow2_col1\" class=\"data row2 col1\" >2.404545</td>\n",
       "                        <td id=\"T_f80beb16_b548_11eb_bfda_988d4682154erow2_col2\" class=\"data row2 col2\" >0.940909</td>\n",
       "                        <td id=\"T_f80beb16_b548_11eb_bfda_988d4682154erow2_col3\" class=\"data row2 col3\" >3.568182</td>\n",
       "                        <td id=\"T_f80beb16_b548_11eb_bfda_988d4682154erow2_col4\" class=\"data row2 col4\" >6.904545</td>\n",
       "                        <td id=\"T_f80beb16_b548_11eb_bfda_988d4682154erow2_col5\" class=\"data row2 col5\" >220</td>\n",
       "            </tr>\n",
       "    </tbody></table>"
      ],
      "text/plain": [
       "<pandas.io.formats.style.Styler at 0x2225025b340>"
      ]
     },
     "execution_count": 424,
     "metadata": {},
     "output_type": "execute_result"
    }
   ],
   "source": [
    "# lets display cluster profile showing cluster averages for each numeric feature. Max values are highlighted in green\n",
    "agcluster_profile.style.highlight_max(color = 'lightgreen', axis = 0)"
   ]
  },
  {
   "cell_type": "code",
   "execution_count": 425,
   "metadata": {},
   "outputs": [],
   "source": [
    "# Merging the dataset with segment labels with original dataset having customer keys \n",
    "# so  we can see which cutomer is in which segment.\n",
    "bank_data_merge=bank_cust.merge(bank_data_hier, how='inner', on=None, left_index=True, \n",
    "                                right_index=True, sort=False) "
   ]
  },
  {
   "cell_type": "code",
   "execution_count": 426,
   "metadata": {},
   "outputs": [
    {
     "data": {
      "text/html": [
       "<div>\n",
       "<style scoped>\n",
       "    .dataframe tbody tr th:only-of-type {\n",
       "        vertical-align: middle;\n",
       "    }\n",
       "\n",
       "    .dataframe tbody tr th {\n",
       "        vertical-align: top;\n",
       "    }\n",
       "\n",
       "    .dataframe thead th {\n",
       "        text-align: right;\n",
       "    }\n",
       "</style>\n",
       "<table border=\"1\" class=\"dataframe\">\n",
       "  <thead>\n",
       "    <tr style=\"text-align: right;\">\n",
       "      <th></th>\n",
       "      <th>Sl_No</th>\n",
       "      <th>Customer Key</th>\n",
       "      <th>Avg_Credit_Limit_x</th>\n",
       "      <th>Total_Credit_Cards_x</th>\n",
       "      <th>Total_visits_bank_x</th>\n",
       "      <th>Total_visits_online_x</th>\n",
       "      <th>Total_calls_made_x</th>\n",
       "      <th>Avg_Credit_Limit_y</th>\n",
       "      <th>Total_Credit_Cards_y</th>\n",
       "      <th>Total_visits_bank_y</th>\n",
       "      <th>Total_visits_online_y</th>\n",
       "      <th>Total_calls_made_y</th>\n",
       "      <th>Agglo_segments</th>\n",
       "    </tr>\n",
       "  </thead>\n",
       "  <tbody>\n",
       "    <tr>\n",
       "      <th>0</th>\n",
       "      <td>1</td>\n",
       "      <td>87073</td>\n",
       "      <td>100000</td>\n",
       "      <td>2</td>\n",
       "      <td>1</td>\n",
       "      <td>1</td>\n",
       "      <td>0</td>\n",
       "      <td>100000</td>\n",
       "      <td>2</td>\n",
       "      <td>1</td>\n",
       "      <td>1</td>\n",
       "      <td>0</td>\n",
       "      <td>0</td>\n",
       "    </tr>\n",
       "    <tr>\n",
       "      <th>1</th>\n",
       "      <td>2</td>\n",
       "      <td>38414</td>\n",
       "      <td>50000</td>\n",
       "      <td>3</td>\n",
       "      <td>0</td>\n",
       "      <td>10</td>\n",
       "      <td>9</td>\n",
       "      <td>50000</td>\n",
       "      <td>3</td>\n",
       "      <td>0</td>\n",
       "      <td>10</td>\n",
       "      <td>9</td>\n",
       "      <td>2</td>\n",
       "    </tr>\n",
       "    <tr>\n",
       "      <th>2</th>\n",
       "      <td>3</td>\n",
       "      <td>17341</td>\n",
       "      <td>50000</td>\n",
       "      <td>7</td>\n",
       "      <td>1</td>\n",
       "      <td>3</td>\n",
       "      <td>4</td>\n",
       "      <td>50000</td>\n",
       "      <td>7</td>\n",
       "      <td>1</td>\n",
       "      <td>3</td>\n",
       "      <td>4</td>\n",
       "      <td>0</td>\n",
       "    </tr>\n",
       "    <tr>\n",
       "      <th>3</th>\n",
       "      <td>4</td>\n",
       "      <td>40496</td>\n",
       "      <td>30000</td>\n",
       "      <td>5</td>\n",
       "      <td>1</td>\n",
       "      <td>1</td>\n",
       "      <td>4</td>\n",
       "      <td>30000</td>\n",
       "      <td>5</td>\n",
       "      <td>1</td>\n",
       "      <td>1</td>\n",
       "      <td>4</td>\n",
       "      <td>0</td>\n",
       "    </tr>\n",
       "    <tr>\n",
       "      <th>4</th>\n",
       "      <td>5</td>\n",
       "      <td>47437</td>\n",
       "      <td>100000</td>\n",
       "      <td>6</td>\n",
       "      <td>0</td>\n",
       "      <td>12</td>\n",
       "      <td>3</td>\n",
       "      <td>100000</td>\n",
       "      <td>6</td>\n",
       "      <td>0</td>\n",
       "      <td>12</td>\n",
       "      <td>3</td>\n",
       "      <td>1</td>\n",
       "    </tr>\n",
       "  </tbody>\n",
       "</table>\n",
       "</div>"
      ],
      "text/plain": [
       "   Sl_No  Customer Key  Avg_Credit_Limit_x  Total_Credit_Cards_x  \\\n",
       "0      1         87073              100000                     2   \n",
       "1      2         38414               50000                     3   \n",
       "2      3         17341               50000                     7   \n",
       "3      4         40496               30000                     5   \n",
       "4      5         47437              100000                     6   \n",
       "\n",
       "   Total_visits_bank_x  Total_visits_online_x  Total_calls_made_x  \\\n",
       "0                    1                      1                   0   \n",
       "1                    0                     10                   9   \n",
       "2                    1                      3                   4   \n",
       "3                    1                      1                   4   \n",
       "4                    0                     12                   3   \n",
       "\n",
       "   Avg_Credit_Limit_y  Total_Credit_Cards_y  Total_visits_bank_y  \\\n",
       "0              100000                     2                    1   \n",
       "1               50000                     3                    0   \n",
       "2               50000                     7                    1   \n",
       "3               30000                     5                    1   \n",
       "4              100000                     6                    0   \n",
       "\n",
       "   Total_visits_online_y  Total_calls_made_y  Agglo_segments  \n",
       "0                      1                   0               0  \n",
       "1                     10                   9               2  \n",
       "2                      3                   4               0  \n",
       "3                      1                   4               0  \n",
       "4                     12                   3               1  "
      ]
     },
     "execution_count": 426,
     "metadata": {},
     "output_type": "execute_result"
    }
   ],
   "source": [
    "# Showing merged dataset\n",
    "bank_data_merge.head()"
   ]
  },
  {
   "cell_type": "code",
   "execution_count": 427,
   "metadata": {},
   "outputs": [],
   "source": [
    "## Remove duplicate columns \n",
    "bank_agg_segments = bank_data_merge.drop(['Avg_Credit_Limit_y', 'Total_Credit_Cards_y','Total_visits_bank_y',\n",
    "                                            'Total_visits_online_y', 'Total_calls_made_y'], axis = 1)"
   ]
  },
  {
   "cell_type": "code",
   "execution_count": 428,
   "metadata": {},
   "outputs": [
    {
     "data": {
      "text/plain": [
       "(649, 8)"
      ]
     },
     "execution_count": 428,
     "metadata": {},
     "output_type": "execute_result"
    }
   ],
   "source": [
    "#Verifying number of rows.\n",
    "bank_agg_segments.shape"
   ]
  },
  {
   "cell_type": "code",
   "execution_count": 429,
   "metadata": {},
   "outputs": [
    {
     "data": {
      "text/html": [
       "<div>\n",
       "<style scoped>\n",
       "    .dataframe tbody tr th:only-of-type {\n",
       "        vertical-align: middle;\n",
       "    }\n",
       "\n",
       "    .dataframe tbody tr th {\n",
       "        vertical-align: top;\n",
       "    }\n",
       "\n",
       "    .dataframe thead th {\n",
       "        text-align: right;\n",
       "    }\n",
       "</style>\n",
       "<table border=\"1\" class=\"dataframe\">\n",
       "  <thead>\n",
       "    <tr style=\"text-align: right;\">\n",
       "      <th></th>\n",
       "      <th>Sl_No</th>\n",
       "      <th>Customer Key</th>\n",
       "      <th>Avg_Credit_Limit</th>\n",
       "      <th>Total_Credit_Cards</th>\n",
       "      <th>Total_visits_bank</th>\n",
       "      <th>Total_visits_online</th>\n",
       "      <th>Total_calls_made</th>\n",
       "      <th>Agglo_segments</th>\n",
       "    </tr>\n",
       "  </thead>\n",
       "  <tbody>\n",
       "    <tr>\n",
       "      <th>0</th>\n",
       "      <td>1</td>\n",
       "      <td>87073</td>\n",
       "      <td>100000</td>\n",
       "      <td>2</td>\n",
       "      <td>1</td>\n",
       "      <td>1</td>\n",
       "      <td>0</td>\n",
       "      <td>0</td>\n",
       "    </tr>\n",
       "    <tr>\n",
       "      <th>1</th>\n",
       "      <td>2</td>\n",
       "      <td>38414</td>\n",
       "      <td>50000</td>\n",
       "      <td>3</td>\n",
       "      <td>0</td>\n",
       "      <td>10</td>\n",
       "      <td>9</td>\n",
       "      <td>2</td>\n",
       "    </tr>\n",
       "    <tr>\n",
       "      <th>2</th>\n",
       "      <td>3</td>\n",
       "      <td>17341</td>\n",
       "      <td>50000</td>\n",
       "      <td>7</td>\n",
       "      <td>1</td>\n",
       "      <td>3</td>\n",
       "      <td>4</td>\n",
       "      <td>0</td>\n",
       "    </tr>\n",
       "    <tr>\n",
       "      <th>3</th>\n",
       "      <td>4</td>\n",
       "      <td>40496</td>\n",
       "      <td>30000</td>\n",
       "      <td>5</td>\n",
       "      <td>1</td>\n",
       "      <td>1</td>\n",
       "      <td>4</td>\n",
       "      <td>0</td>\n",
       "    </tr>\n",
       "    <tr>\n",
       "      <th>4</th>\n",
       "      <td>5</td>\n",
       "      <td>47437</td>\n",
       "      <td>100000</td>\n",
       "      <td>6</td>\n",
       "      <td>0</td>\n",
       "      <td>12</td>\n",
       "      <td>3</td>\n",
       "      <td>1</td>\n",
       "    </tr>\n",
       "    <tr>\n",
       "      <th>5</th>\n",
       "      <td>6</td>\n",
       "      <td>58634</td>\n",
       "      <td>20000</td>\n",
       "      <td>3</td>\n",
       "      <td>0</td>\n",
       "      <td>1</td>\n",
       "      <td>8</td>\n",
       "      <td>2</td>\n",
       "    </tr>\n",
       "    <tr>\n",
       "      <th>6</th>\n",
       "      <td>7</td>\n",
       "      <td>48370</td>\n",
       "      <td>100000</td>\n",
       "      <td>5</td>\n",
       "      <td>0</td>\n",
       "      <td>11</td>\n",
       "      <td>2</td>\n",
       "      <td>1</td>\n",
       "    </tr>\n",
       "    <tr>\n",
       "      <th>7</th>\n",
       "      <td>8</td>\n",
       "      <td>37376</td>\n",
       "      <td>15000</td>\n",
       "      <td>3</td>\n",
       "      <td>0</td>\n",
       "      <td>1</td>\n",
       "      <td>1</td>\n",
       "      <td>2</td>\n",
       "    </tr>\n",
       "    <tr>\n",
       "      <th>8</th>\n",
       "      <td>9</td>\n",
       "      <td>82490</td>\n",
       "      <td>5000</td>\n",
       "      <td>2</td>\n",
       "      <td>0</td>\n",
       "      <td>2</td>\n",
       "      <td>2</td>\n",
       "      <td>2</td>\n",
       "    </tr>\n",
       "    <tr>\n",
       "      <th>9</th>\n",
       "      <td>10</td>\n",
       "      <td>44770</td>\n",
       "      <td>3000</td>\n",
       "      <td>4</td>\n",
       "      <td>0</td>\n",
       "      <td>1</td>\n",
       "      <td>7</td>\n",
       "      <td>2</td>\n",
       "    </tr>\n",
       "    <tr>\n",
       "      <th>10</th>\n",
       "      <td>11</td>\n",
       "      <td>52741</td>\n",
       "      <td>10000</td>\n",
       "      <td>4</td>\n",
       "      <td>0</td>\n",
       "      <td>5</td>\n",
       "      <td>5</td>\n",
       "      <td>2</td>\n",
       "    </tr>\n",
       "    <tr>\n",
       "      <th>11</th>\n",
       "      <td>12</td>\n",
       "      <td>52326</td>\n",
       "      <td>13000</td>\n",
       "      <td>3</td>\n",
       "      <td>0</td>\n",
       "      <td>2</td>\n",
       "      <td>7</td>\n",
       "      <td>2</td>\n",
       "    </tr>\n",
       "    <tr>\n",
       "      <th>12</th>\n",
       "      <td>13</td>\n",
       "      <td>92503</td>\n",
       "      <td>11000</td>\n",
       "      <td>1</td>\n",
       "      <td>2</td>\n",
       "      <td>5</td>\n",
       "      <td>9</td>\n",
       "      <td>2</td>\n",
       "    </tr>\n",
       "    <tr>\n",
       "      <th>13</th>\n",
       "      <td>14</td>\n",
       "      <td>25084</td>\n",
       "      <td>9000</td>\n",
       "      <td>1</td>\n",
       "      <td>1</td>\n",
       "      <td>5</td>\n",
       "      <td>6</td>\n",
       "      <td>2</td>\n",
       "    </tr>\n",
       "    <tr>\n",
       "      <th>14</th>\n",
       "      <td>15</td>\n",
       "      <td>68517</td>\n",
       "      <td>6000</td>\n",
       "      <td>2</td>\n",
       "      <td>2</td>\n",
       "      <td>4</td>\n",
       "      <td>6</td>\n",
       "      <td>2</td>\n",
       "    </tr>\n",
       "    <tr>\n",
       "      <th>15</th>\n",
       "      <td>16</td>\n",
       "      <td>55196</td>\n",
       "      <td>8000</td>\n",
       "      <td>2</td>\n",
       "      <td>0</td>\n",
       "      <td>5</td>\n",
       "      <td>7</td>\n",
       "      <td>2</td>\n",
       "    </tr>\n",
       "    <tr>\n",
       "      <th>16</th>\n",
       "      <td>17</td>\n",
       "      <td>62617</td>\n",
       "      <td>15000</td>\n",
       "      <td>2</td>\n",
       "      <td>1</td>\n",
       "      <td>2</td>\n",
       "      <td>4</td>\n",
       "      <td>2</td>\n",
       "    </tr>\n",
       "    <tr>\n",
       "      <th>17</th>\n",
       "      <td>18</td>\n",
       "      <td>96463</td>\n",
       "      <td>8000</td>\n",
       "      <td>2</td>\n",
       "      <td>0</td>\n",
       "      <td>3</td>\n",
       "      <td>4</td>\n",
       "      <td>2</td>\n",
       "    </tr>\n",
       "    <tr>\n",
       "      <th>18</th>\n",
       "      <td>19</td>\n",
       "      <td>39137</td>\n",
       "      <td>11000</td>\n",
       "      <td>2</td>\n",
       "      <td>2</td>\n",
       "      <td>2</td>\n",
       "      <td>7</td>\n",
       "      <td>2</td>\n",
       "    </tr>\n",
       "    <tr>\n",
       "      <th>19</th>\n",
       "      <td>20</td>\n",
       "      <td>14309</td>\n",
       "      <td>19000</td>\n",
       "      <td>4</td>\n",
       "      <td>1</td>\n",
       "      <td>5</td>\n",
       "      <td>8</td>\n",
       "      <td>2</td>\n",
       "    </tr>\n",
       "  </tbody>\n",
       "</table>\n",
       "</div>"
      ],
      "text/plain": [
       "    Sl_No  Customer Key  Avg_Credit_Limit  Total_Credit_Cards  \\\n",
       "0       1         87073            100000                   2   \n",
       "1       2         38414             50000                   3   \n",
       "2       3         17341             50000                   7   \n",
       "3       4         40496             30000                   5   \n",
       "4       5         47437            100000                   6   \n",
       "5       6         58634             20000                   3   \n",
       "6       7         48370            100000                   5   \n",
       "7       8         37376             15000                   3   \n",
       "8       9         82490              5000                   2   \n",
       "9      10         44770              3000                   4   \n",
       "10     11         52741             10000                   4   \n",
       "11     12         52326             13000                   3   \n",
       "12     13         92503             11000                   1   \n",
       "13     14         25084              9000                   1   \n",
       "14     15         68517              6000                   2   \n",
       "15     16         55196              8000                   2   \n",
       "16     17         62617             15000                   2   \n",
       "17     18         96463              8000                   2   \n",
       "18     19         39137             11000                   2   \n",
       "19     20         14309             19000                   4   \n",
       "\n",
       "    Total_visits_bank  Total_visits_online  Total_calls_made  Agglo_segments  \n",
       "0                   1                    1                 0               0  \n",
       "1                   0                   10                 9               2  \n",
       "2                   1                    3                 4               0  \n",
       "3                   1                    1                 4               0  \n",
       "4                   0                   12                 3               1  \n",
       "5                   0                    1                 8               2  \n",
       "6                   0                   11                 2               1  \n",
       "7                   0                    1                 1               2  \n",
       "8                   0                    2                 2               2  \n",
       "9                   0                    1                 7               2  \n",
       "10                  0                    5                 5               2  \n",
       "11                  0                    2                 7               2  \n",
       "12                  2                    5                 9               2  \n",
       "13                  1                    5                 6               2  \n",
       "14                  2                    4                 6               2  \n",
       "15                  0                    5                 7               2  \n",
       "16                  1                    2                 4               2  \n",
       "17                  0                    3                 4               2  \n",
       "18                  2                    2                 7               2  \n",
       "19                  1                    5                 8               2  "
      ]
     },
     "execution_count": 429,
     "metadata": {},
     "output_type": "execute_result"
    }
   ],
   "source": [
    "#Rename suffixed column names by merge command back to original names and displaying fifnal result.\n",
    "bank_agg_segments.columns=bank_agg_segments.columns.str.replace('_x','')\n",
    "bank_agg_segments.head(20)"
   ]
  },
  {
   "cell_type": "code",
   "execution_count": 430,
   "metadata": {},
   "outputs": [
    {
     "data": {
      "image/png": "[encoded data removed]",
      "text/plain": [
       "<Figure size 1152x432 with 5 Axes>"
      ]
     },
     "metadata": {
      "needs_background": "light"
     },
     "output_type": "display_data"
    }
   ],
   "source": [
    "## Showing data distribution for all numerical variables for different segments in box plot.\n",
    "fig, axes = plt.subplots(1, 5,  figsize=(16, 6))\n",
    "fig.suptitle('Boxplot of numerical variables for each cluster in Hierarchical', fontsize=20)\n",
    "counter = 0\n",
    "for ii in range(5):\n",
    "    sns.boxplot(ax=axes[ii],y=bank_agg_segments[all_col[counter]],x=bank_agg_segments['Agglo_segments'])\n",
    "    counter = counter+1\n",
    "\n",
    "fig.tight_layout(pad=2.0)"
   ]
  },
  {
   "cell_type": "markdown",
   "metadata": {},
   "source": [
    "### Insights from Agglomerative(Hierarchical) Customer Segments\n",
    "\n",
    "- **Cluster 0**:\n",
    "   - This cluster contains customers with Avg_Credit_Limit between 0 and 100K. Median is 35K meaning 50% of customers in this group have 35K or less average credit limit. This is the group of customers with second lowest credit limit\n",
    "    - Total Credit cards 2 to 7, majority 6 or less. Median 4.\n",
    "    - Total_visits_bank ranges to the full extent, 0 to 5. median for Total_visits_bank is 3. \n",
    "    - Total_visits_online between 0 and 3. Median 1 visit online\n",
    "    - Total_calls_made of ranges between 0 - 4. Median 2.\n",
    "    - There are 379 in this group out of total 649 customers.   \n",
    "    \n",
    "- **Cluster 1**:\n",
    "  - This group has the highest Avg_Credit_Limit values. It ranges from 80K to 200K. Median 140K  \n",
    "    - It also has people with highest number of credit cards,5-10. Median 9.\n",
    "    - Total_visits_bank is the lowest from 0-1. median for Total_visits_bank is 0.\n",
    "    - Total_visits_online highest between 6 to 15. Median being 11.\n",
    "    - Total_calls_made of ranges between 0 - 3. Median 1.\n",
    "    - There are 50 in this group out of total 649 customers.  \n",
    "  \n",
    "- **Cluster 2**:\n",
    "  - This cluster contains customers with Avg_Credit_Limit less than 25K.Median is 13K meaning 50% of customers in this group have 13K or less average credit limit. This is the customers with lowest credit limit\n",
    "    - Total Credit cards 4 or less, majority 3 or less. Median 2.\n",
    "    - Total_visits_bank less than or equal to 2. median for Total_visits_bank is 1.\n",
    "    - Total_visits_online between 1 and 5, Median 4 visits online\n",
    "    - Customers in this group made the most calls of all groups between 2-10. Median 7. This might mean they faced most problems.\n",
    "    - There are 220 in this group out of total 649 customers.  \n",
    "     "
   ]
  },
  {
   "cell_type": "markdown",
   "metadata": {},
   "source": [
    "## Customer Segmentation\n",
    "\n",
    "## Comaprison between K-means and Hierarchical clustering algorithms\n"
   ]
  },
  {
   "cell_type": "markdown",
   "metadata": {},
   "source": [
    "### Comparison between Silhouette scores"
   ]
  },
  {
   "cell_type": "markdown",
   "metadata": {},
   "source": [
    "#### Top 3 Silhouette scores for K means with different number of clusters. We are picking 3 for final model.\n",
    "- For n_clusters = 2, silhouette score is 0.41800025566689647)\n",
    "- For n_clusters = 3, silhouette score is 0.516281010855363)\n",
    "- For n_clusters = 4, silhouette score is 0.3570238219413198)"
   ]
  },
  {
   "cell_type": "markdown",
   "metadata": {},
   "source": [
    "#### Top 3 Silhouette scores for Agglomerative  with different number of clusters. We are picking 3 for final model. \n",
    "- cluster size: 2 : 0.5690653901733652\n",
    "- cluster size: 3 : 0.5164769161012985\n",
    "- cluster size: 4 : 0.47541352027335854\n",
    "\n",
    "#### The score looks highest for 2 clusters , but the distribution of data over the 2 clusters is very non-uniform as shown below.  3 is somewhat better. So we picked 3 over 2.\n",
    "**Distribution of data for 2 clusters - ({0: 599, 1: 50})**\n",
    "\n",
    "**Distribution of data for 3 clusters - ({0: 379, 2: 220, 1: 50})**"
   ]
  },
  {
   "cell_type": "markdown",
   "metadata": {},
   "source": [
    "#### Silhouette score for Agglomerative is slighlty higher, 0.5165 over K means, 0.5163"
   ]
  },
  {
   "cell_type": "markdown",
   "metadata": {},
   "source": [
    "### Comparison between cluster profiles"
   ]
  },
  {
   "cell_type": "code",
   "execution_count": 431,
   "metadata": {},
   "outputs": [
    {
     "data": {
      "text/html": [
       "<style  type=\"text/css\" >\n",
       "#T_f85e0f89_b548_11eb_b5ba_988d4682154erow0_col0,#T_f85e0f89_b548_11eb_b5ba_988d4682154erow0_col1,#T_f85e0f89_b548_11eb_b5ba_988d4682154erow0_col3,#T_f85e0f89_b548_11eb_b5ba_988d4682154erow1_col2,#T_f85e0f89_b548_11eb_b5ba_988d4682154erow1_col5,#T_f85e0f89_b548_11eb_b5ba_988d4682154erow2_col4{\n",
       "            background-color:  lightgreen;\n",
       "        }</style><table id=\"T_f85e0f89_b548_11eb_b5ba_988d4682154e\" ><thead>    <tr>        <th class=\"blank level0\" ></th>        <th class=\"col_heading level0 col0\" >Avg_Credit_Limit</th>        <th class=\"col_heading level0 col1\" >Total_Credit_Cards</th>        <th class=\"col_heading level0 col2\" >Total_visits_bank</th>        <th class=\"col_heading level0 col3\" >Total_visits_online</th>        <th class=\"col_heading level0 col4\" >Total_calls_made</th>        <th class=\"col_heading level0 col5\" >count_in_each_segments</th>    </tr>    <tr>        <th class=\"index_name level0\" >K_means_segments</th>        <th class=\"blank\" ></th>        <th class=\"blank\" ></th>        <th class=\"blank\" ></th>        <th class=\"blank\" ></th>        <th class=\"blank\" ></th>        <th class=\"blank\" ></th>    </tr></thead><tbody>\n",
       "                <tr>\n",
       "                        <th id=\"T_f85e0f89_b548_11eb_b5ba_988d4682154elevel0_row0\" class=\"row_heading level0 row0\" >0</th>\n",
       "                        <td id=\"T_f85e0f89_b548_11eb_b5ba_988d4682154erow0_col0\" class=\"data row0 col0\" >141040.000000</td>\n",
       "                        <td id=\"T_f85e0f89_b548_11eb_b5ba_988d4682154erow0_col1\" class=\"data row0 col1\" >8.740000</td>\n",
       "                        <td id=\"T_f85e0f89_b548_11eb_b5ba_988d4682154erow0_col2\" class=\"data row0 col2\" >0.600000</td>\n",
       "                        <td id=\"T_f85e0f89_b548_11eb_b5ba_988d4682154erow0_col3\" class=\"data row0 col3\" >10.900000</td>\n",
       "                        <td id=\"T_f85e0f89_b548_11eb_b5ba_988d4682154erow0_col4\" class=\"data row0 col4\" >1.080000</td>\n",
       "                        <td id=\"T_f85e0f89_b548_11eb_b5ba_988d4682154erow0_col5\" class=\"data row0 col5\" >50</td>\n",
       "            </tr>\n",
       "            <tr>\n",
       "                        <th id=\"T_f85e0f89_b548_11eb_b5ba_988d4682154elevel0_row1\" class=\"row_heading level0 row1\" >1</th>\n",
       "                        <td id=\"T_f85e0f89_b548_11eb_b5ba_988d4682154erow1_col0\" class=\"data row1 col0\" >34071.428571</td>\n",
       "                        <td id=\"T_f85e0f89_b548_11eb_b5ba_988d4682154erow1_col1\" class=\"data row1 col1\" >5.518519</td>\n",
       "                        <td id=\"T_f85e0f89_b548_11eb_b5ba_988d4682154erow1_col2\" class=\"data row1 col2\" >3.484127</td>\n",
       "                        <td id=\"T_f85e0f89_b548_11eb_b5ba_988d4682154erow1_col3\" class=\"data row1 col3\" >0.981481</td>\n",
       "                        <td id=\"T_f85e0f89_b548_11eb_b5ba_988d4682154erow1_col4\" class=\"data row1 col4\" >1.992063</td>\n",
       "                        <td id=\"T_f85e0f89_b548_11eb_b5ba_988d4682154erow1_col5\" class=\"data row1 col5\" >378</td>\n",
       "            </tr>\n",
       "            <tr>\n",
       "                        <th id=\"T_f85e0f89_b548_11eb_b5ba_988d4682154elevel0_row2\" class=\"row_heading level0 row2\" >2</th>\n",
       "                        <td id=\"T_f85e0f89_b548_11eb_b5ba_988d4682154erow2_col0\" class=\"data row2 col0\" >12239.819005</td>\n",
       "                        <td id=\"T_f85e0f89_b548_11eb_b5ba_988d4682154erow2_col1\" class=\"data row2 col1\" >2.411765</td>\n",
       "                        <td id=\"T_f85e0f89_b548_11eb_b5ba_988d4682154erow2_col2\" class=\"data row2 col2\" >0.945701</td>\n",
       "                        <td id=\"T_f85e0f89_b548_11eb_b5ba_988d4682154erow2_col3\" class=\"data row2 col3\" >3.561086</td>\n",
       "                        <td id=\"T_f85e0f89_b548_11eb_b5ba_988d4682154erow2_col4\" class=\"data row2 col4\" >6.891403</td>\n",
       "                        <td id=\"T_f85e0f89_b548_11eb_b5ba_988d4682154erow2_col5\" class=\"data row2 col5\" >221</td>\n",
       "            </tr>\n",
       "    </tbody></table>"
      ],
      "text/plain": [
       "<pandas.io.formats.style.Styler at 0x222543e0640>"
      ]
     },
     "execution_count": 431,
     "metadata": {},
     "output_type": "execute_result"
    }
   ],
   "source": [
    "# lets display cluster profile for KMeans\n",
    "kmcluster_profile.style.highlight_max(color = 'lightgreen', axis = 0)"
   ]
  },
  {
   "cell_type": "code",
   "execution_count": 432,
   "metadata": {},
   "outputs": [
    {
     "data": {
      "text/html": [
       "<style  type=\"text/css\" >\n",
       "#T_f8611cc5_b548_11eb_9dd0_988d4682154erow0_col2,#T_f8611cc5_b548_11eb_9dd0_988d4682154erow0_col5,#T_f8611cc5_b548_11eb_9dd0_988d4682154erow1_col0,#T_f8611cc5_b548_11eb_9dd0_988d4682154erow1_col1,#T_f8611cc5_b548_11eb_9dd0_988d4682154erow1_col3,#T_f8611cc5_b548_11eb_9dd0_988d4682154erow2_col4{\n",
       "            background-color:  lightgreen;\n",
       "        }</style><table id=\"T_f8611cc5_b548_11eb_9dd0_988d4682154e\" ><thead>    <tr>        <th class=\"blank level0\" ></th>        <th class=\"col_heading level0 col0\" >Avg_Credit_Limit</th>        <th class=\"col_heading level0 col1\" >Total_Credit_Cards</th>        <th class=\"col_heading level0 col2\" >Total_visits_bank</th>        <th class=\"col_heading level0 col3\" >Total_visits_online</th>        <th class=\"col_heading level0 col4\" >Total_calls_made</th>        <th class=\"col_heading level0 col5\" >count_in_each_segments</th>    </tr>    <tr>        <th class=\"index_name level0\" >Agglo_segments</th>        <th class=\"blank\" ></th>        <th class=\"blank\" ></th>        <th class=\"blank\" ></th>        <th class=\"blank\" ></th>        <th class=\"blank\" ></th>        <th class=\"blank\" ></th>    </tr></thead><tbody>\n",
       "                <tr>\n",
       "                        <th id=\"T_f8611cc5_b548_11eb_9dd0_988d4682154elevel0_row0\" class=\"row_heading level0 row0\" >0</th>\n",
       "                        <td id=\"T_f8611cc5_b548_11eb_9dd0_988d4682154erow0_col0\" class=\"data row0 col0\" >34000.000000</td>\n",
       "                        <td id=\"T_f8611cc5_b548_11eb_9dd0_988d4682154erow0_col1\" class=\"data row0 col1\" >5.514512</td>\n",
       "                        <td id=\"T_f8611cc5_b548_11eb_9dd0_988d4682154erow0_col2\" class=\"data row0 col2\" >3.480211</td>\n",
       "                        <td id=\"T_f8611cc5_b548_11eb_9dd0_988d4682154erow0_col3\" class=\"data row0 col3\" >0.984169</td>\n",
       "                        <td id=\"T_f8611cc5_b548_11eb_9dd0_988d4682154erow0_col4\" class=\"data row0 col4\" >1.997361</td>\n",
       "                        <td id=\"T_f8611cc5_b548_11eb_9dd0_988d4682154erow0_col5\" class=\"data row0 col5\" >379</td>\n",
       "            </tr>\n",
       "            <tr>\n",
       "                        <th id=\"T_f8611cc5_b548_11eb_9dd0_988d4682154elevel0_row1\" class=\"row_heading level0 row1\" >1</th>\n",
       "                        <td id=\"T_f8611cc5_b548_11eb_9dd0_988d4682154erow1_col0\" class=\"data row1 col0\" >141040.000000</td>\n",
       "                        <td id=\"T_f8611cc5_b548_11eb_9dd0_988d4682154erow1_col1\" class=\"data row1 col1\" >8.740000</td>\n",
       "                        <td id=\"T_f8611cc5_b548_11eb_9dd0_988d4682154erow1_col2\" class=\"data row1 col2\" >0.600000</td>\n",
       "                        <td id=\"T_f8611cc5_b548_11eb_9dd0_988d4682154erow1_col3\" class=\"data row1 col3\" >10.900000</td>\n",
       "                        <td id=\"T_f8611cc5_b548_11eb_9dd0_988d4682154erow1_col4\" class=\"data row1 col4\" >1.080000</td>\n",
       "                        <td id=\"T_f8611cc5_b548_11eb_9dd0_988d4682154erow1_col5\" class=\"data row1 col5\" >50</td>\n",
       "            </tr>\n",
       "            <tr>\n",
       "                        <th id=\"T_f8611cc5_b548_11eb_9dd0_988d4682154elevel0_row2\" class=\"row_heading level0 row2\" >2</th>\n",
       "                        <td id=\"T_f8611cc5_b548_11eb_9dd0_988d4682154erow2_col0\" class=\"data row2 col0\" >12263.636364</td>\n",
       "                        <td id=\"T_f8611cc5_b548_11eb_9dd0_988d4682154erow2_col1\" class=\"data row2 col1\" >2.404545</td>\n",
       "                        <td id=\"T_f8611cc5_b548_11eb_9dd0_988d4682154erow2_col2\" class=\"data row2 col2\" >0.940909</td>\n",
       "                        <td id=\"T_f8611cc5_b548_11eb_9dd0_988d4682154erow2_col3\" class=\"data row2 col3\" >3.568182</td>\n",
       "                        <td id=\"T_f8611cc5_b548_11eb_9dd0_988d4682154erow2_col4\" class=\"data row2 col4\" >6.904545</td>\n",
       "                        <td id=\"T_f8611cc5_b548_11eb_9dd0_988d4682154erow2_col5\" class=\"data row2 col5\" >220</td>\n",
       "            </tr>\n",
       "    </tbody></table>"
      ],
      "text/plain": [
       "<pandas.io.formats.style.Styler at 0x2224fa8e970>"
      ]
     },
     "execution_count": 432,
     "metadata": {},
     "output_type": "execute_result"
    }
   ],
   "source": [
    "# lets display cluster profile for Hierarchical Clustering\n",
    "agcluster_profile.style.highlight_max(color = 'lightgreen', axis = 0)"
   ]
  },
  {
   "cell_type": "markdown",
   "metadata": {},
   "source": [
    "- Both the algorithms gave similar averages for the segments. Group 2 in KMeans and group 1 in Agglomerative have exctly same averages.\n",
    "- Group 0 in KMeans and group 2 in Agglomerative are very similar.\n",
    "- Group 1 in KMeans and group 0 in Agglomerative are very similar.\n"
   ]
  },
  {
   "cell_type": "markdown",
   "metadata": {},
   "source": [
    "### Comparison of Data distribution"
   ]
  },
  {
   "cell_type": "code",
   "execution_count": 433,
   "metadata": {},
   "outputs": [
    {
     "data": {
      "image/png": "[encoded data removed]",
      "text/plain": [
       "<Figure size 1152x432 with 5 Axes>"
      ]
     },
     "metadata": {
      "needs_background": "light"
     },
     "output_type": "display_data"
    }
   ],
   "source": [
    "# Box Plot for K Means\n",
    "fig, axes = plt.subplots(1, 5,  figsize=(16, 6))\n",
    "fig.suptitle('Boxplot of numerical variables for each cluster in K Means', fontsize=20)\n",
    "counter = 0\n",
    "for ii in range(5):\n",
    "    sns.boxplot(ax=axes[ii],y=bank_data_segments[all_col[counter]],x=bank_data_segments['K_means_segments'])\n",
    "    counter = counter+1\n",
    "\n",
    "fig.tight_layout(pad=2.0)"
   ]
  },
  {
   "cell_type": "code",
   "execution_count": 434,
   "metadata": {},
   "outputs": [
    {
     "data": {
      "image/png": "[encoded data removed]",
      "text/plain": [
       "<Figure size 1152x432 with 5 Axes>"
      ]
     },
     "metadata": {
      "needs_background": "light"
     },
     "output_type": "display_data"
    }
   ],
   "source": [
    "# Box Plot for Agglomerative Clustering\n",
    "fig, axes = plt.subplots(1, 5,  figsize=(16, 6))\n",
    "fig.suptitle('Boxplot of numerical variables for each cluster in Hierarchical', fontsize=20)\n",
    "counter = 0\n",
    "for ii in range(5):\n",
    "    sns.boxplot(ax=axes[ii],y=bank_agg_segments[all_col[counter]],x=bank_agg_segments['Agglo_segments'])\n",
    "    counter = counter+1\n",
    "\n",
    "fig.tight_layout(pad=2.0)"
   ]
  },
  {
   "cell_type": "markdown",
   "metadata": {},
   "source": [
    "- Cluster 0 in KMeans and Cluster 2 in Agglomerative are very similar.\n",
    "- Cluster 1 in KMeans and Cluster 0 in Agglomerative are very similar.\n",
    "- Cluster 2 in KMeans and Cluster 1 in Agglomerative are exactly same"
   ]
  },
  {
   "cell_type": "markdown",
   "metadata": {},
   "source": [
    "**The comparison reveals K Means with 3 clusters and Agglomerative Clustering with 3 clusters and Linkage parameters, eucleadian and average perform similarly and created similar segments**"
   ]
  },
  {
   "cell_type": "markdown",
   "metadata": {},
   "source": [
    "## Insights and Recommendations:\n",
    "\n",
    "- Cluster 0 in KMeans (Cluster 2 in Hierarchical) consists of customers with lowest average credit limit, lowest number of credit cards. Medium visits to bank and online and highest number of calls made. Proactively call these customers to solve their problems and can help to keep their business with the bank. Email campaigning can be done too and offer discounts to keep them stay such as 0 APR, low fee/no fee credit cards etc.Around 220 customers, so a good percentage of customers. \n",
    "\n",
    "- Cluster 1 in KMeans (Cluster 0 in Hierarchical) consists of customers with an average credit limit in the middle range, upto 100K, also fairly high number of credit cards. Most visits to bank, but lowest visits online and fewer number of calls made. Marketing can be done to these customers while they are visitng the bank to  introduce them to new offers. Steps can be taken proactively to solve their problems for which they are visitng. Online and email marketing may not be effective as they have the least online visits. Most customers are in this segment, around 380.\n",
    "\n",
    "- Cluster 2 in KMeans (Cluster 1 in Hierarchical) consists of customers with highest average credit limit, highest number of credit cards. Least visits to bank (almost none) as well as calls made, but highest visits online. Marketing can be done to these customers while they are visitng the bank to  introduce them to new offers. Focused marketing campaigns can be done to target customers with higher purchasing power. Offers to keep them happy. There are only 50 such customers. But value of their business can be higher then the majority cluster. So proactively email and do online campaigning to introduce them to new high end offers."
   ]
  }
 ],
 "metadata": {
  "kernelspec": {
   "display_name": "Python 3",
   "language": "python",
   "name": "python3"
  },
  "language_info": {
   "codemirror_mode": {
    "name": "ipython",
    "version": 3
   },
   "file_extension": ".py",
   "mimetype": "text/x-python",
   "name": "python",
   "nbconvert_exporter": "python",
   "pygments_lexer": "ipython3",
   "version": "3.8.5"
  }
 },
 "nbformat": 4,
 "nbformat_minor": 4
}
